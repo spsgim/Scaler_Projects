{
  "nbformat": 4,
  "nbformat_minor": 0,
  "metadata": {
    "colab": {
      "provenance": [],
      "include_colab_link": true
    },
    "kernelspec": {
      "name": "python3",
      "display_name": "Python 3"
    },
    "language_info": {
      "name": "python"
    }
  },
  "cells": [
    {
      "cell_type": "markdown",
      "metadata": {
        "id": "view-in-github",
        "colab_type": "text"
      },
      "source": [
        "<a href=\"https://colab.research.google.com/github/spsgim/Scaler_Projects/blob/main/workshop_27th_jan.ipynb\" target=\"_parent\"><img src=\"https://colab.research.google.com/assets/colab-badge.svg\" alt=\"Open In Colab\"/></a>"
      ]
    },
    {
      "cell_type": "code",
      "execution_count": null,
      "metadata": {
        "id": "iZq4h2b3giFk"
      },
      "outputs": [],
      "source": [
        "'''\n",
        "Suppose 30% of the women in a class received an A on the test and 25% of the men received an A.\n",
        "The class consists of 60% of women.\n",
        "Given that a person chosen at random received an A, what is the probability this person is a women?\n",
        "(round off the value)\n",
        "\n",
        "0.6429\n",
        "0.2800\n",
        "0.3571\n",
        "0.5500\n",
        "\n",
        "'''\n"
      ]
    },
    {
      "cell_type": "code",
      "source": [
        "'''\n",
        "\n",
        "Q7) A gaming company is comparing the performance of two different graphics cards, labeled Card Alpha and Card Beta, in terms of frames per second (FPS) during gameplay.\n",
        "The FPS data for a sample of gaming sessions with each card is as follows:\n",
        "\n",
        "card_alpha = [75, 78, 80, 76, 77, 79, 76, 79, 81, 80]\n",
        "card_beta = [82, 81, 79, 83, 80, 82, 81, 78, 80, 83]\n",
        "\n",
        "The company wants to test the hypothesis that the mean FPS of Card Alpha is the same as the mean FPS of Card Beta,\n",
        "with a significance level of 0.05.\n",
        "\n",
        "Which of the following interpretations is correct based on the given results?\n",
        "\n",
        "A) p-value =  0.003, and hence the mean FPS of Card Alpha is same as Card Beta\n",
        "B) p-value = 0.832, and hence the mean FPS of Card Alpha is same as Card Beta\n",
        "C) p-value = 0.003, and hence the mean FPS of Card Alpha is statistically different from Card Beta\n",
        "D) p-value = 0.832, and hence the mean FPS of Card Alpha is statistically different from Card Beta\n",
        "\n",
        "\n",
        "'''"
      ],
      "metadata": {
        "colab": {
          "base_uri": "https://localhost:8080/",
          "height": 104
        },
        "id": "7WAiFVE75Vpt",
        "outputId": "9fdf9219-dd56-4361-85ae-a5cb7147f3be"
      },
      "execution_count": null,
      "outputs": [
        {
          "output_type": "execute_result",
          "data": {
            "text/plain": [
              "'\\n\\nQ7) A gaming company is comparing the performance of two different graphics cards, labeled Card Alpha and Card Beta, in terms of frames per second (FPS) during gameplay. The FPS data for a sample of gaming sessions with each card is as follows:\\n\\ncard_alpha = [75, 78, 80, 76, 77, 79, 76, 79, 81, 80]\\ncard_beta = [82, 81, 79, 83, 80, 82, 81, 78, 80, 83]\\n\\nThe company wants to test the hypothesis that the mean FPS of Card Alpha is the same as the mean FPS of Card Beta, with a significance level of 0.05.\\n\\nWhich of the following interpretations is correct based on the given results?\\n\\nA) p-value =  0.003, and hence the mean FPS of Card Alpha is same as Card Beta\\nB) p-value = 0.832, and hence the mean FPS of Card Alpha is same as Card Beta\\nC) p-value = 0.003, and hence the mean FPS of Card Alpha is statistically different from Card Beta\\nD) p-value = 0.832, and hence the mean FPS of Card Alpha is statistically different from Card Beta\\n\\n\\n'"
            ],
            "application/vnd.google.colaboratory.intrinsic+json": {
              "type": "string"
            }
          },
          "metadata": {},
          "execution_count": 2
        }
      ]
    },
    {
      "cell_type": "code",
      "source": [
        "import numpy as np\n",
        "from scipy.stats import ttest_ind\n",
        "\n",
        "\n",
        "'''\n",
        "Null Hypothesis (H0): Mean FPS of CardA and CardB is same\n",
        "Alternate Hypothesis (Ha): Mean FPS of CardA is statistically different from CardB\n",
        "'''\n",
        "\n",
        "card_alpha = [75, 78, 80, 76, 77, 79, 76, 79, 81, 80]\n",
        "card_beta = [82, 81, 79, 83, 80, 82, 81, 78, 80, 83]\n",
        "\n",
        "t_stat, p_value = ttest_ind(card_alpha, card_beta, alternative = \"two-sided\")\n",
        "\n",
        "print(p_value)\n",
        "\n",
        "alpha = 0.05\n",
        "\n",
        "if p_value < alpha:\n",
        "  print(\"Reject H0, there is evidence that mean FPS of CardA is statistically different that cardB\")\n",
        "else:\n",
        "    print(\"Failed to reject H0, Mean FPS of CardA is same as cardB\")\n",
        "\n"
      ],
      "metadata": {
        "colab": {
          "base_uri": "https://localhost:8080/"
        },
        "id": "jMwdEfDC5X6z",
        "outputId": "1bd9a1d1-3cd0-42c8-e709-66dd2987bcaf"
      },
      "execution_count": null,
      "outputs": [
        {
          "output_type": "stream",
          "name": "stdout",
          "text": [
            "0.0033435792745056406\n",
            "Reject H0, there is evidence that mean FPS of CardA is statistically different that cardB\n"
          ]
        }
      ]
    },
    {
      "cell_type": "code",
      "source": [
        "'''\n",
        "Q4. A marketing analyst is studying the relationship between the budget spent on online advertising campaigns (in dollars)\n",
        "and the monthly sales revenue (in thousands of dollars) for a set of 25 products.\n",
        "The following data is collected:\n",
        "\n",
        "Budget (in dollars): [ 599.3428306 ,  722.34713977, 1129.53770762, 1554.60597128,\n",
        "       1453.16932506, 4000.        , 2315.8425631 , 2403.48694583,\n",
        "       2406.10512281, 2858.51200872, 2907.31646144, 3156.85404929,\n",
        "       3548.39245431, 3367.34395107, 3655.0164335 , 4137.54249415,\n",
        "       4297.43377593, 4812.84946652, 4818.3951849 , 4967.53925973,\n",
        "       5793.12975378, 5704.8447399 , 6013.50564094, 5965.05036276,\n",
        "       6391.12345509]\n",
        "\n",
        "Monthly Sales Revenue (in thousands of dollars): [ 490.56652345,  462.77835407,  941.19996793, 1183.62090803, 1133.36608506, 1302.36742567, 2037.90186893, 1921.43983419, 1819.11300535, 2369.06409818, 1500.        , 2546.36959893,\n",
        "       2642.74695106, 2561.05655596, 2943.69927038, 3383.88065332,\n",
        "       3455.08384887, 3838.71474498, 3824.60577836, 3826.17920875,\n",
        "       4562.51938219, 4517.81191483, 4916.51673537, 4806.40211916,\n",
        "       4936.59474854]\n",
        "\n",
        "\n",
        "Based on this data, select the correct options:\n",
        "\n",
        "a. The value of rho will be positive. -C\n",
        "b. The value of rho will be negative.\n",
        "c. The scatter plot of the budget vs. monthly sales revenue will show a clear non-linear trend.\n",
        "d. The scatter plot of the budget vs. monthly sales revenue will show a linear trend. -C\n",
        "e. If the budget spent on all products increased by 100%, the average monthly sales revenue would also increase by approximately 95.8%. - C\n",
        "f. If the budget spent on all products increases by 100%, the average monthly sales revenue will decrease by 95.8%.\n",
        "g. Pearson Correlation would be the appropriate measure in this scenario - C\n",
        "h. Spearman Correlation would be the appropriate measure in this scenario\n",
        "\n",
        "Options:\n",
        "1-a, c, e, f\n",
        "2- a, d, e, g\n",
        "3- b, d, f, g\n",
        "4- a, c, e, h\n",
        "5- b, c, f, g\n",
        "\n",
        "'''"
      ],
      "metadata": {
        "colab": {
          "base_uri": "https://localhost:8080/",
          "height": 104
        },
        "id": "QszLw66l8j5Q",
        "outputId": "03cb80ad-097f-4cc7-bdae-86386dbb0956"
      },
      "execution_count": null,
      "outputs": [
        {
          "output_type": "execute_result",
          "data": {
            "text/plain": [
              "'\\nQ4. A marketing analyst is studying the relationship between the budget spent on online advertising campaigns (in dollars) and the monthly sales revenue (in thousands of dollars) for a set of 25 products. The following data is collected:\\n\\nBudget (in dollars): [ 599.3428306 ,  722.34713977, 1129.53770762, 1554.60597128,\\n       1453.16932506, 4000.        , 2315.8425631 , 2403.48694583,\\n       2406.10512281, 2858.51200872, 2907.31646144, 3156.85404929,\\n       3548.39245431, 3367.34395107, 3655.0164335 , 4137.54249415,\\n       4297.43377593, 4812.84946652, 4818.3951849 , 4967.53925973,\\n       5793.12975378, 5704.8447399 , 6013.50564094, 5965.05036276,\\n       6391.12345509]\\n\\nMonthly Sales Revenue (in thousands of dollars): [ 490.56652345,  462.77835407,  941.19996793, 1183.62090803, 1133.36608506, 1302.36742567, 2037.90186893, 1921.43983419, 1819.11300535, 2369.06409818, 1500.        , 2546.36959893,\\n       2642.74695106, 2561.05655596, 2943.69927038, 3383.88065332,\\n       3455.08384887, 3838.71474498, 3824.60577836, 3826.17920875,\\n       4562.51938219, 4517.81191483, 4916.51673537, 4806.40211916,\\n       4936.59474854]\\n\\n\\nBased on this data, select the correct options:\\n\\na. The value of rho will be positive.\\nb. The value of rho will be negative.\\nc. The scatter plot of the budget vs. monthly sales revenue will show a clear non-linear trend.\\nd. The scatter plot of the budget vs. monthly sales revenue will show a linear trend.\\ne. If the budget spent on all products increased by 100%, the average monthly sales revenue would also increase by approximately 95.8%.\\nf. If the budget spent on all products increases by 100%, the average monthly sales revenue will decrease by 95.8%.\\ng. Pearson Correlation would be the appropriate measure in this scenario\\nh. Spearman Correlation would be the appropriate measure in this scenario\\n\\nOptions:\\na, c, e, f\\na, d, e, g\\nb, d, f, g\\na, c, e, h\\nb, c, f, g\\n\\n'"
            ],
            "application/vnd.google.colaboratory.intrinsic+json": {
              "type": "string"
            }
          },
          "metadata": {},
          "execution_count": 4
        }
      ]
    },
    {
      "cell_type": "code",
      "source": [
        "import numpy as np\n",
        "import pandas as pd\n",
        "import matplotlib.pyplot as plt\n",
        "import seaborn as sns\n",
        "\n",
        "data = {\n",
        "\"Budget\" :[ 599.3428306 ,  722.34713977, 1129.53770762, 1554.60597128,\n",
        "       1453.16932506, 4000.        , 2315.8425631 , 2403.48694583,\n",
        "       2406.10512281, 2858.51200872, 2907.31646144, 3156.85404929,\n",
        "       3548.39245431, 3367.34395107, 3655.0164335 , 4137.54249415,\n",
        "       4297.43377593, 4812.84946652, 4818.3951849 , 4967.53925973,\n",
        "       5793.12975378, 5704.8447399 , 6013.50564094, 5965.05036276,\n",
        "       6391.12345509],\n",
        "\n",
        "\"Sales\": [ 490.56652345,  462.77835407,  941.19996793, 1183.62090803, 1133.36608506, 1302.36742567, 2037.90186893, 1921.43983419, 1819.11300535, 2369.06409818, 1500.        , 2546.36959893,\n",
        "       2642.74695106, 2561.05655596, 2943.69927038, 3383.88065332,\n",
        "       3455.08384887, 3838.71474498, 3824.60577836, 3826.17920875,\n",
        "       4562.51938219, 4517.81191483, 4916.51673537, 4806.40211916,\n",
        "       4936.59474854]\n",
        "\n",
        "}\n",
        "\n",
        "df = pd.DataFrame(data)\n",
        "df.head()"
      ],
      "metadata": {
        "colab": {
          "base_uri": "https://localhost:8080/",
          "height": 206
        },
        "id": "cKfdCKWJ9p9U",
        "outputId": "b9609f93-d426-4224-84df-8291ae51f9e8"
      },
      "execution_count": null,
      "outputs": [
        {
          "output_type": "execute_result",
          "data": {
            "text/plain": [
              "        Budget        Sales\n",
              "0   599.342831   490.566523\n",
              "1   722.347140   462.778354\n",
              "2  1129.537708   941.199968\n",
              "3  1554.605971  1183.620908\n",
              "4  1453.169325  1133.366085"
            ],
            "text/html": [
              "\n",
              "  <div id=\"df-cd5dfbe8-0d85-4f6e-aa48-d9cff45c3222\" class=\"colab-df-container\">\n",
              "    <div>\n",
              "<style scoped>\n",
              "    .dataframe tbody tr th:only-of-type {\n",
              "        vertical-align: middle;\n",
              "    }\n",
              "\n",
              "    .dataframe tbody tr th {\n",
              "        vertical-align: top;\n",
              "    }\n",
              "\n",
              "    .dataframe thead th {\n",
              "        text-align: right;\n",
              "    }\n",
              "</style>\n",
              "<table border=\"1\" class=\"dataframe\">\n",
              "  <thead>\n",
              "    <tr style=\"text-align: right;\">\n",
              "      <th></th>\n",
              "      <th>Budget</th>\n",
              "      <th>Sales</th>\n",
              "    </tr>\n",
              "  </thead>\n",
              "  <tbody>\n",
              "    <tr>\n",
              "      <th>0</th>\n",
              "      <td>599.342831</td>\n",
              "      <td>490.566523</td>\n",
              "    </tr>\n",
              "    <tr>\n",
              "      <th>1</th>\n",
              "      <td>722.347140</td>\n",
              "      <td>462.778354</td>\n",
              "    </tr>\n",
              "    <tr>\n",
              "      <th>2</th>\n",
              "      <td>1129.537708</td>\n",
              "      <td>941.199968</td>\n",
              "    </tr>\n",
              "    <tr>\n",
              "      <th>3</th>\n",
              "      <td>1554.605971</td>\n",
              "      <td>1183.620908</td>\n",
              "    </tr>\n",
              "    <tr>\n",
              "      <th>4</th>\n",
              "      <td>1453.169325</td>\n",
              "      <td>1133.366085</td>\n",
              "    </tr>\n",
              "  </tbody>\n",
              "</table>\n",
              "</div>\n",
              "    <div class=\"colab-df-buttons\">\n",
              "\n",
              "  <div class=\"colab-df-container\">\n",
              "    <button class=\"colab-df-convert\" onclick=\"convertToInteractive('df-cd5dfbe8-0d85-4f6e-aa48-d9cff45c3222')\"\n",
              "            title=\"Convert this dataframe to an interactive table.\"\n",
              "            style=\"display:none;\">\n",
              "\n",
              "  <svg xmlns=\"http://www.w3.org/2000/svg\" height=\"24px\" viewBox=\"0 -960 960 960\">\n",
              "    <path d=\"M120-120v-720h720v720H120Zm60-500h600v-160H180v160Zm220 220h160v-160H400v160Zm0 220h160v-160H400v160ZM180-400h160v-160H180v160Zm440 0h160v-160H620v160ZM180-180h160v-160H180v160Zm440 0h160v-160H620v160Z\"/>\n",
              "  </svg>\n",
              "    </button>\n",
              "\n",
              "  <style>\n",
              "    .colab-df-container {\n",
              "      display:flex;\n",
              "      gap: 12px;\n",
              "    }\n",
              "\n",
              "    .colab-df-convert {\n",
              "      background-color: #E8F0FE;\n",
              "      border: none;\n",
              "      border-radius: 50%;\n",
              "      cursor: pointer;\n",
              "      display: none;\n",
              "      fill: #1967D2;\n",
              "      height: 32px;\n",
              "      padding: 0 0 0 0;\n",
              "      width: 32px;\n",
              "    }\n",
              "\n",
              "    .colab-df-convert:hover {\n",
              "      background-color: #E2EBFA;\n",
              "      box-shadow: 0px 1px 2px rgba(60, 64, 67, 0.3), 0px 1px 3px 1px rgba(60, 64, 67, 0.15);\n",
              "      fill: #174EA6;\n",
              "    }\n",
              "\n",
              "    .colab-df-buttons div {\n",
              "      margin-bottom: 4px;\n",
              "    }\n",
              "\n",
              "    [theme=dark] .colab-df-convert {\n",
              "      background-color: #3B4455;\n",
              "      fill: #D2E3FC;\n",
              "    }\n",
              "\n",
              "    [theme=dark] .colab-df-convert:hover {\n",
              "      background-color: #434B5C;\n",
              "      box-shadow: 0px 1px 3px 1px rgba(0, 0, 0, 0.15);\n",
              "      filter: drop-shadow(0px 1px 2px rgba(0, 0, 0, 0.3));\n",
              "      fill: #FFFFFF;\n",
              "    }\n",
              "  </style>\n",
              "\n",
              "    <script>\n",
              "      const buttonEl =\n",
              "        document.querySelector('#df-cd5dfbe8-0d85-4f6e-aa48-d9cff45c3222 button.colab-df-convert');\n",
              "      buttonEl.style.display =\n",
              "        google.colab.kernel.accessAllowed ? 'block' : 'none';\n",
              "\n",
              "      async function convertToInteractive(key) {\n",
              "        const element = document.querySelector('#df-cd5dfbe8-0d85-4f6e-aa48-d9cff45c3222');\n",
              "        const dataTable =\n",
              "          await google.colab.kernel.invokeFunction('convertToInteractive',\n",
              "                                                    [key], {});\n",
              "        if (!dataTable) return;\n",
              "\n",
              "        const docLinkHtml = 'Like what you see? Visit the ' +\n",
              "          '<a target=\"_blank\" href=https://colab.research.google.com/notebooks/data_table.ipynb>data table notebook</a>'\n",
              "          + ' to learn more about interactive tables.';\n",
              "        element.innerHTML = '';\n",
              "        dataTable['output_type'] = 'display_data';\n",
              "        await google.colab.output.renderOutput(dataTable, element);\n",
              "        const docLink = document.createElement('div');\n",
              "        docLink.innerHTML = docLinkHtml;\n",
              "        element.appendChild(docLink);\n",
              "      }\n",
              "    </script>\n",
              "  </div>\n",
              "\n",
              "\n",
              "<div id=\"df-d4ef0a0a-f66c-48b4-9a1f-05ffc7aa09b7\">\n",
              "  <button class=\"colab-df-quickchart\" onclick=\"quickchart('df-d4ef0a0a-f66c-48b4-9a1f-05ffc7aa09b7')\"\n",
              "            title=\"Suggest charts\"\n",
              "            style=\"display:none;\">\n",
              "\n",
              "<svg xmlns=\"http://www.w3.org/2000/svg\" height=\"24px\"viewBox=\"0 0 24 24\"\n",
              "     width=\"24px\">\n",
              "    <g>\n",
              "        <path d=\"M19 3H5c-1.1 0-2 .9-2 2v14c0 1.1.9 2 2 2h14c1.1 0 2-.9 2-2V5c0-1.1-.9-2-2-2zM9 17H7v-7h2v7zm4 0h-2V7h2v10zm4 0h-2v-4h2v4z\"/>\n",
              "    </g>\n",
              "</svg>\n",
              "  </button>\n",
              "\n",
              "<style>\n",
              "  .colab-df-quickchart {\n",
              "      --bg-color: #E8F0FE;\n",
              "      --fill-color: #1967D2;\n",
              "      --hover-bg-color: #E2EBFA;\n",
              "      --hover-fill-color: #174EA6;\n",
              "      --disabled-fill-color: #AAA;\n",
              "      --disabled-bg-color: #DDD;\n",
              "  }\n",
              "\n",
              "  [theme=dark] .colab-df-quickchart {\n",
              "      --bg-color: #3B4455;\n",
              "      --fill-color: #D2E3FC;\n",
              "      --hover-bg-color: #434B5C;\n",
              "      --hover-fill-color: #FFFFFF;\n",
              "      --disabled-bg-color: #3B4455;\n",
              "      --disabled-fill-color: #666;\n",
              "  }\n",
              "\n",
              "  .colab-df-quickchart {\n",
              "    background-color: var(--bg-color);\n",
              "    border: none;\n",
              "    border-radius: 50%;\n",
              "    cursor: pointer;\n",
              "    display: none;\n",
              "    fill: var(--fill-color);\n",
              "    height: 32px;\n",
              "    padding: 0;\n",
              "    width: 32px;\n",
              "  }\n",
              "\n",
              "  .colab-df-quickchart:hover {\n",
              "    background-color: var(--hover-bg-color);\n",
              "    box-shadow: 0 1px 2px rgba(60, 64, 67, 0.3), 0 1px 3px 1px rgba(60, 64, 67, 0.15);\n",
              "    fill: var(--button-hover-fill-color);\n",
              "  }\n",
              "\n",
              "  .colab-df-quickchart-complete:disabled,\n",
              "  .colab-df-quickchart-complete:disabled:hover {\n",
              "    background-color: var(--disabled-bg-color);\n",
              "    fill: var(--disabled-fill-color);\n",
              "    box-shadow: none;\n",
              "  }\n",
              "\n",
              "  .colab-df-spinner {\n",
              "    border: 2px solid var(--fill-color);\n",
              "    border-color: transparent;\n",
              "    border-bottom-color: var(--fill-color);\n",
              "    animation:\n",
              "      spin 1s steps(1) infinite;\n",
              "  }\n",
              "\n",
              "  @keyframes spin {\n",
              "    0% {\n",
              "      border-color: transparent;\n",
              "      border-bottom-color: var(--fill-color);\n",
              "      border-left-color: var(--fill-color);\n",
              "    }\n",
              "    20% {\n",
              "      border-color: transparent;\n",
              "      border-left-color: var(--fill-color);\n",
              "      border-top-color: var(--fill-color);\n",
              "    }\n",
              "    30% {\n",
              "      border-color: transparent;\n",
              "      border-left-color: var(--fill-color);\n",
              "      border-top-color: var(--fill-color);\n",
              "      border-right-color: var(--fill-color);\n",
              "    }\n",
              "    40% {\n",
              "      border-color: transparent;\n",
              "      border-right-color: var(--fill-color);\n",
              "      border-top-color: var(--fill-color);\n",
              "    }\n",
              "    60% {\n",
              "      border-color: transparent;\n",
              "      border-right-color: var(--fill-color);\n",
              "    }\n",
              "    80% {\n",
              "      border-color: transparent;\n",
              "      border-right-color: var(--fill-color);\n",
              "      border-bottom-color: var(--fill-color);\n",
              "    }\n",
              "    90% {\n",
              "      border-color: transparent;\n",
              "      border-bottom-color: var(--fill-color);\n",
              "    }\n",
              "  }\n",
              "</style>\n",
              "\n",
              "  <script>\n",
              "    async function quickchart(key) {\n",
              "      const quickchartButtonEl =\n",
              "        document.querySelector('#' + key + ' button');\n",
              "      quickchartButtonEl.disabled = true;  // To prevent multiple clicks.\n",
              "      quickchartButtonEl.classList.add('colab-df-spinner');\n",
              "      try {\n",
              "        const charts = await google.colab.kernel.invokeFunction(\n",
              "            'suggestCharts', [key], {});\n",
              "      } catch (error) {\n",
              "        console.error('Error during call to suggestCharts:', error);\n",
              "      }\n",
              "      quickchartButtonEl.classList.remove('colab-df-spinner');\n",
              "      quickchartButtonEl.classList.add('colab-df-quickchart-complete');\n",
              "    }\n",
              "    (() => {\n",
              "      let quickchartButtonEl =\n",
              "        document.querySelector('#df-d4ef0a0a-f66c-48b4-9a1f-05ffc7aa09b7 button');\n",
              "      quickchartButtonEl.style.display =\n",
              "        google.colab.kernel.accessAllowed ? 'block' : 'none';\n",
              "    })();\n",
              "  </script>\n",
              "</div>\n",
              "    </div>\n",
              "  </div>\n"
            ]
          },
          "metadata": {},
          "execution_count": 7
        }
      ]
    },
    {
      "cell_type": "code",
      "source": [
        "sns.scatterplot(x = df[\"Budget\"], y = df[\"Sales\"])\n",
        "plt.show()"
      ],
      "metadata": {
        "colab": {
          "base_uri": "https://localhost:8080/",
          "height": 449
        },
        "id": "K5Kc_ceAACBr",
        "outputId": "9edca46d-d3bf-466f-869a-21599ecc4709"
      },
      "execution_count": null,
      "outputs": [
        {
          "output_type": "display_data",
          "data": {
            "text/plain": [
              "<Figure size 640x480 with 1 Axes>"
            ],
            "image/png": "[encoded data removed]"
          },
          "metadata": {}
        }
      ]
    },
    {
      "cell_type": "code",
      "source": [
        "from scipy.stats import pearsonr\n",
        "\n",
        "corr , pval = pearsonr(df[\"Budget\"], df[\"Sales\"])\n",
        "\n",
        "print(corr)"
      ],
      "metadata": {
        "colab": {
          "base_uri": "https://localhost:8080/"
        },
        "id": "UzHdZuUiAWZN",
        "outputId": "82d3ef32-112e-4133-9fe8-889c40f1e9aa"
      },
      "execution_count": null,
      "outputs": [
        {
          "output_type": "stream",
          "name": "stdout",
          "text": [
            "0.9578136851211717\n"
          ]
        }
      ]
    },
    {
      "cell_type": "code",
      "source": [
        "'''\n",
        "- 1 to +1\n",
        "\n",
        "+1 --> highly +ve correlated\n",
        "-1 --> highly -ve correlated\n",
        "0 --> no correlation\n",
        "'''"
      ],
      "metadata": {
        "id": "g4ee0csQBeJp"
      },
      "execution_count": null,
      "outputs": []
    },
    {
      "cell_type": "code",
      "source": [
        "s = str(24090)"
      ],
      "metadata": {
        "id": "CGgeqp7DFETY"
      },
      "execution_count": null,
      "outputs": []
    },
    {
      "cell_type": "code",
      "source": [
        "for c in s:\n",
        "  print(c)"
      ],
      "metadata": {
        "colab": {
          "base_uri": "https://localhost:8080/"
        },
        "id": "AkAtXKY3FFDg",
        "outputId": "1b7417b2-f41f-481a-88be-aa290b3f5d9c"
      },
      "execution_count": null,
      "outputs": [
        {
          "output_type": "stream",
          "name": "stdout",
          "text": [
            "2\n",
            "4\n",
            "0\n",
            "9\n",
            "0\n"
          ]
        }
      ]
    },
    {
      "cell_type": "code",
      "source": [
        "'''\n",
        "Practice Questions:\n",
        "\n",
        "Q1:\n",
        "In a scientific experiment, researchers are measuring the time (in seconds) it takes for a chemical reaction to occur. A random sample of 40 reactions is taken, and the measured times are as follows:\n",
        "\n",
        "Sample Data: [12,15,13,11,14,12,10,13,11,14,16,13,12,15,13,11,14,12,10,13,11,14,16,13,12,15,13,11,14,12,10,13,11,14,16,13,12,15,13,11]\n",
        "\n",
        "Assuming normality for the sampling distribution of the mean, construct a 90% confidence interval for the true average time of the chemical reaction.\n",
        "(Round off the value to two decimal points)\n",
        "\n",
        "1- CI: (12.39, 13.26) - correct\n",
        "2- CI: (12.45, 13.29)\n",
        "3- CI: (12.20, 13.40)\n",
        "4 - CI: (12.35, 13.32)\n",
        "\n",
        "\n",
        "\n",
        "\n",
        "Q2: Matrix Ops\n",
        "\n",
        "Problem Statement:\n",
        "\n",
        "The task involves working with two 2D arrays that specify ranges of rows and columns. The following operations need to be carried out:\n",
        "\n",
        "Compute the product of the two matrices provided.\n",
        "Using the given row and column ranges, retrieve specific elements from the result obtained in the previous step.\n",
        "If it is not possible to multiply the matrices, return -1.\n",
        "Please note that the endpoint (upper range) of each row and column is not inclusive.\n",
        "\n",
        "Input Format:\n",
        "\n",
        "There will be four lines of input as follows:\n",
        "First line will have mat1.\n",
        "Second line will have mat2.\n",
        "Third line will have two space-separated integers representing start and end point of rows.\n",
        "Fourth line will have two space-separated integers representing start and end point of columns.\n",
        "\n",
        "\n",
        "Output Format:\n",
        "A Numpy array\n",
        "Sample Input:\n",
        "\n",
        "[[1 2 3]\n",
        "[4 5 6]\n",
        "[7 8 9]]\n",
        "[[4 3 4]\n",
        "[4 5 1]\n",
        "[9 0 7]]\n",
        "1 2\n",
        "2 3\n",
        "\n",
        "Sample Output:\n",
        "[[37 63]\n",
        " [61 99]]\n",
        "\n",
        "\n",
        "Sample explanation:\n",
        "The dimension of product is (3,3), and the elements for rows 1 to 2 and columns 1 to 2 are prd[1][1], prd[1][2], prd[2][1] and prd[2][2] i.e. 37, 63, 61 and 99.\n",
        "\n",
        "\n",
        "'''"
      ],
      "metadata": {
        "id": "F6qjWPBAFP59"
      },
      "execution_count": null,
      "outputs": []
    }
  ]
}