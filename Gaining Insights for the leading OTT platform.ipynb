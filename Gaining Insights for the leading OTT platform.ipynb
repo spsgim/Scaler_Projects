{
 "cells": [
  {
   "cell_type": "markdown",
   "id": "06c1e3f2",
   "metadata": {},
   "source": [
    "# Gaining Insights for the leading OTT platform to help them deciding the type of content to produce for different geographies.\n",
    "**<font color=green>*Shailendra Pratap Singh - Dec'22 MWF - Batch***"
   ]
  },
  {
   "cell_type": "markdown",
   "id": "8d0955ff",
   "metadata": {},
   "source": [
    "## <span style='font-family:Georgia'> Table of Content\n",
    "\n",
    "### 1. Section 1\n",
    "* [Case Study](#1) \n",
    "\n",
    "### 2. Section 2\n",
    "* [Importing Libraries](#2)\n",
    "* [Reading the CSV file](#3)\n",
    "\n",
    "### 3. Section 3\n",
    "* [1. Problem Defination](#4)\n",
    "* [2. Observation on the data](#5)\n",
    "* [3. Non-Graphical Analysis](#6)\n",
    "* [4. Visual Analysis](#7)\n",
    "* [5. Missing Value and Outlier check](#8)\n",
    "* [6. Insights](#9)\n",
    "* [7. Business Insights](#10)\n",
    "* [8. Recommendations](#11)"
   ]
  },
  {
   "cell_type": "markdown",
   "id": "bf54b1f3",
   "metadata": {
    "slideshow": {
     "slide_type": "notes"
    }
   },
   "source": [
    "## Case Study <a id = \"1\"></a>\n",
    "\n",
    "### About Company\n",
    "\n",
    "The company is one of the most popular media and video streaming platforms. They have over 10,000 movies or tv shows available on their platform, as of mid-2021, they have over 222M Subscribers globally. This tabular dataset consists of listings of all the movies and tv shows available on Netflix, along with details such as - cast, directors, ratings, release year, duration, etc.\n",
    "\n",
    "### Business Problem\n",
    "\n",
    "Analyze the data and generate insights that could help Netflix in deciding which type of shows/movies to produce and how they can grow the business in different countries\n",
    "\n",
    "### Dataset\n",
    "\n",
    "The dataset provided to you consists of a list of all the TV shows/movies available on Netflix:\n",
    "\n",
    "    Show_id: Unique ID for every Movie / Tv Show\n",
    "    Type: Identifier - A Movie or TV Show\n",
    "    Title: Title of the Movie / Tv Show\n",
    "    Director: Director of the Movie\n",
    "    Cast: Actors involved in the movie/show\n",
    "    Country: Country where the movie/show was produced\n",
    "    Date_added: Date it was added on Netflix\n",
    "    Release_year: Actual Release year of the movie/show\n",
    "    Rating: TV Rating of the movie/show\n",
    "    Duration: Total Duration - in minutes or number of seasons\n",
    "    Listed_in: Genre\n",
    "    Description: The summary description"
   ]
  },
  {
   "cell_type": "markdown",
   "id": "c5573799",
   "metadata": {},
   "source": [
    "## Importing Libraries <a id = \"2\"> </a>"
   ]
  },
  {
   "cell_type": "code",
   "execution_count": 3,
   "id": "35fea010",
   "metadata": {},
   "outputs": [],
   "source": [
    "import pandas as pd \n",
    "import numpy as np\n",
    "import matplotlib.pyplot as plt\n",
    "import seaborn as sns"
   ]
  },
  {
   "cell_type": "markdown",
   "id": "fbc36a46",
   "metadata": {},
   "source": [
    "## Reading the Dataset <a id = \"3\"> </a>"
   ]
  },
  {
   "cell_type": "code",
   "execution_count": 4,
   "id": "938f86dd",
   "metadata": {
    "scrolled": false
   },
   "outputs": [
    {
     "data": {
      "text/html": [
       "<div>\n",
       "<style scoped>\n",
       "    .dataframe tbody tr th:only-of-type {\n",
       "        vertical-align: middle;\n",
       "    }\n",
       "\n",
       "    .dataframe tbody tr th {\n",
       "        vertical-align: top;\n",
       "    }\n",
       "\n",
       "    .dataframe thead th {\n",
       "        text-align: right;\n",
       "    }\n",
       "</style>\n",
       "<table border=\"1\" class=\"dataframe\">\n",
       "  <thead>\n",
       "    <tr style=\"text-align: right;\">\n",
       "      <th></th>\n",
       "      <th>show_id</th>\n",
       "      <th>type</th>\n",
       "      <th>title</th>\n",
       "      <th>director</th>\n",
       "      <th>cast</th>\n",
       "      <th>country</th>\n",
       "      <th>date_added</th>\n",
       "      <th>release_year</th>\n",
       "      <th>rating</th>\n",
       "      <th>duration</th>\n",
       "      <th>listed_in</th>\n",
       "      <th>description</th>\n",
       "    </tr>\n",
       "  </thead>\n",
       "  <tbody>\n",
       "    <tr>\n",
       "      <th>0</th>\n",
       "      <td>s1</td>\n",
       "      <td>Movie</td>\n",
       "      <td>Dick Johnson Is Dead</td>\n",
       "      <td>Kirsten Johnson</td>\n",
       "      <td>NaN</td>\n",
       "      <td>United States</td>\n",
       "      <td>September 25, 2021</td>\n",
       "      <td>2020</td>\n",
       "      <td>PG-13</td>\n",
       "      <td>90 min</td>\n",
       "      <td>Documentaries</td>\n",
       "      <td>As her father nears the end of his life, filmm...</td>\n",
       "    </tr>\n",
       "    <tr>\n",
       "      <th>1</th>\n",
       "      <td>s2</td>\n",
       "      <td>TV Show</td>\n",
       "      <td>Blood &amp; Water</td>\n",
       "      <td>NaN</td>\n",
       "      <td>Ama Qamata, Khosi Ngema, Gail Mabalane, Thaban...</td>\n",
       "      <td>South Africa</td>\n",
       "      <td>September 24, 2021</td>\n",
       "      <td>2021</td>\n",
       "      <td>TV-MA</td>\n",
       "      <td>2 Seasons</td>\n",
       "      <td>International TV Shows, TV Dramas, TV Mysteries</td>\n",
       "      <td>After crossing paths at a party, a Cape Town t...</td>\n",
       "    </tr>\n",
       "    <tr>\n",
       "      <th>2</th>\n",
       "      <td>s3</td>\n",
       "      <td>TV Show</td>\n",
       "      <td>Ganglands</td>\n",
       "      <td>Julien Leclercq</td>\n",
       "      <td>Sami Bouajila, Tracy Gotoas, Samuel Jouy, Nabi...</td>\n",
       "      <td>NaN</td>\n",
       "      <td>September 24, 2021</td>\n",
       "      <td>2021</td>\n",
       "      <td>TV-MA</td>\n",
       "      <td>1 Season</td>\n",
       "      <td>Crime TV Shows, International TV Shows, TV Act...</td>\n",
       "      <td>To protect his family from a powerful drug lor...</td>\n",
       "    </tr>\n",
       "    <tr>\n",
       "      <th>3</th>\n",
       "      <td>s4</td>\n",
       "      <td>TV Show</td>\n",
       "      <td>Jailbirds New Orleans</td>\n",
       "      <td>NaN</td>\n",
       "      <td>NaN</td>\n",
       "      <td>NaN</td>\n",
       "      <td>September 24, 2021</td>\n",
       "      <td>2021</td>\n",
       "      <td>TV-MA</td>\n",
       "      <td>1 Season</td>\n",
       "      <td>Docuseries, Reality TV</td>\n",
       "      <td>Feuds, flirtations and toilet talk go down amo...</td>\n",
       "    </tr>\n",
       "    <tr>\n",
       "      <th>4</th>\n",
       "      <td>s5</td>\n",
       "      <td>TV Show</td>\n",
       "      <td>Kota Factory</td>\n",
       "      <td>NaN</td>\n",
       "      <td>Mayur More, Jitendra Kumar, Ranjan Raj, Alam K...</td>\n",
       "      <td>India</td>\n",
       "      <td>September 24, 2021</td>\n",
       "      <td>2021</td>\n",
       "      <td>TV-MA</td>\n",
       "      <td>2 Seasons</td>\n",
       "      <td>International TV Shows, Romantic TV Shows, TV ...</td>\n",
       "      <td>In a city of coaching centers known to train I...</td>\n",
       "    </tr>\n",
       "  </tbody>\n",
       "</table>\n",
       "</div>"
      ],
      "text/plain": [
       "  show_id     type                  title         director  \\\n",
       "0      s1    Movie   Dick Johnson Is Dead  Kirsten Johnson   \n",
       "1      s2  TV Show          Blood & Water              NaN   \n",
       "2      s3  TV Show              Ganglands  Julien Leclercq   \n",
       "3      s4  TV Show  Jailbirds New Orleans              NaN   \n",
       "4      s5  TV Show           Kota Factory              NaN   \n",
       "\n",
       "                                                cast        country  \\\n",
       "0                                                NaN  United States   \n",
       "1  Ama Qamata, Khosi Ngema, Gail Mabalane, Thaban...   South Africa   \n",
       "2  Sami Bouajila, Tracy Gotoas, Samuel Jouy, Nabi...            NaN   \n",
       "3                                                NaN            NaN   \n",
       "4  Mayur More, Jitendra Kumar, Ranjan Raj, Alam K...          India   \n",
       "\n",
       "           date_added  release_year rating   duration  \\\n",
       "0  September 25, 2021          2020  PG-13     90 min   \n",
       "1  September 24, 2021          2021  TV-MA  2 Seasons   \n",
       "2  September 24, 2021          2021  TV-MA   1 Season   \n",
       "3  September 24, 2021          2021  TV-MA   1 Season   \n",
       "4  September 24, 2021          2021  TV-MA  2 Seasons   \n",
       "\n",
       "                                           listed_in  \\\n",
       "0                                      Documentaries   \n",
       "1    International TV Shows, TV Dramas, TV Mysteries   \n",
       "2  Crime TV Shows, International TV Shows, TV Act...   \n",
       "3                             Docuseries, Reality TV   \n",
       "4  International TV Shows, Romantic TV Shows, TV ...   \n",
       "\n",
       "                                         description  \n",
       "0  As her father nears the end of his life, filmm...  \n",
       "1  After crossing paths at a party, a Cape Town t...  \n",
       "2  To protect his family from a powerful drug lor...  \n",
       "3  Feuds, flirtations and toilet talk go down amo...  \n",
       "4  In a city of coaching centers known to train I...  "
      ]
     },
     "execution_count": 4,
     "metadata": {},
     "output_type": "execute_result"
    }
   ],
   "source": [
    "nd = pd.read_csv(\"netflix.csv\")\n",
    "nd.head()"
   ]
  },
  {
   "cell_type": "markdown",
   "id": "a99b3182",
   "metadata": {},
   "source": [
    "## Q1. Defining Problem Statement and Analysing basic metrics <a id = \"4\"></a>"
   ]
  },
  {
   "cell_type": "markdown",
   "id": "e45e398c",
   "metadata": {},
   "source": [
    "### 1.1 Problem Defination"
   ]
  },
  {
   "cell_type": "markdown",
   "id": "0739ac88",
   "metadata": {},
   "source": [
    "1. Netflix is looking to get insights, which is backed by data, so that they could able to strategise their future plans to grow their business.\n",
    "2. Netflix is looking to plan their future shows/movies such that they encourge more engagement thereby increase their revenue. For that they want to find insights such as:\n",
    "    * Which type of shows/movies to release in different countries.\n",
    "    * The ideal timings to release any show in different countries.\n",
    "    * Content of which actors/directors has better probability to get success in different countries.\n",
    "    * Which are the best set of Genre for different countries."
   ]
  },
  {
   "cell_type": "markdown",
   "id": "7d0a37b6",
   "metadata": {},
   "source": [
    "### 1.2 Initial Data Exploration <a id = \"4\"></a>"
   ]
  },
  {
   "cell_type": "code",
   "execution_count": 106,
   "id": "5cefcd80",
   "metadata": {
    "scrolled": true
   },
   "outputs": [
    {
     "name": "stdout",
     "output_type": "stream",
     "text": [
      "<class 'pandas.core.frame.DataFrame'>\n",
      "RangeIndex: 8807 entries, 0 to 8806\n",
      "Data columns (total 12 columns):\n",
      " #   Column        Non-Null Count  Dtype \n",
      "---  ------        --------------  ----- \n",
      " 0   show_id       8807 non-null   object\n",
      " 1   type          8807 non-null   object\n",
      " 2   title         8807 non-null   object\n",
      " 3   director      6173 non-null   object\n",
      " 4   cast          7982 non-null   object\n",
      " 5   country       7976 non-null   object\n",
      " 6   date_added    8797 non-null   object\n",
      " 7   release_year  8807 non-null   int64 \n",
      " 8   rating        8803 non-null   object\n",
      " 9   duration      8804 non-null   object\n",
      " 10  listed_in     8807 non-null   object\n",
      " 11  description   8807 non-null   object\n",
      "dtypes: int64(1), object(11)\n",
      "memory usage: 825.8+ KB\n"
     ]
    }
   ],
   "source": [
    "nd.info()"
   ]
  },
  {
   "cell_type": "code",
   "execution_count": 107,
   "id": "c8833ef4",
   "metadata": {},
   "outputs": [
    {
     "data": {
      "text/html": [
       "<div>\n",
       "<style scoped>\n",
       "    .dataframe tbody tr th:only-of-type {\n",
       "        vertical-align: middle;\n",
       "    }\n",
       "\n",
       "    .dataframe tbody tr th {\n",
       "        vertical-align: top;\n",
       "    }\n",
       "\n",
       "    .dataframe thead th {\n",
       "        text-align: right;\n",
       "    }\n",
       "</style>\n",
       "<table border=\"1\" class=\"dataframe\">\n",
       "  <thead>\n",
       "    <tr style=\"text-align: right;\">\n",
       "      <th></th>\n",
       "      <th>count</th>\n",
       "      <th>unique</th>\n",
       "      <th>top</th>\n",
       "      <th>freq</th>\n",
       "    </tr>\n",
       "  </thead>\n",
       "  <tbody>\n",
       "    <tr>\n",
       "      <th>show_id</th>\n",
       "      <td>8807</td>\n",
       "      <td>8807</td>\n",
       "      <td>s1</td>\n",
       "      <td>1</td>\n",
       "    </tr>\n",
       "    <tr>\n",
       "      <th>type</th>\n",
       "      <td>8807</td>\n",
       "      <td>2</td>\n",
       "      <td>Movie</td>\n",
       "      <td>6131</td>\n",
       "    </tr>\n",
       "    <tr>\n",
       "      <th>title</th>\n",
       "      <td>8807</td>\n",
       "      <td>8807</td>\n",
       "      <td>Dick Johnson Is Dead</td>\n",
       "      <td>1</td>\n",
       "    </tr>\n",
       "    <tr>\n",
       "      <th>director</th>\n",
       "      <td>6173</td>\n",
       "      <td>4528</td>\n",
       "      <td>Rajiv Chilaka</td>\n",
       "      <td>19</td>\n",
       "    </tr>\n",
       "    <tr>\n",
       "      <th>cast</th>\n",
       "      <td>7982</td>\n",
       "      <td>7692</td>\n",
       "      <td>David Attenborough</td>\n",
       "      <td>19</td>\n",
       "    </tr>\n",
       "    <tr>\n",
       "      <th>country</th>\n",
       "      <td>7976</td>\n",
       "      <td>748</td>\n",
       "      <td>United States</td>\n",
       "      <td>2818</td>\n",
       "    </tr>\n",
       "    <tr>\n",
       "      <th>date_added</th>\n",
       "      <td>8797</td>\n",
       "      <td>1767</td>\n",
       "      <td>January 1, 2020</td>\n",
       "      <td>109</td>\n",
       "    </tr>\n",
       "    <tr>\n",
       "      <th>rating</th>\n",
       "      <td>8803</td>\n",
       "      <td>17</td>\n",
       "      <td>TV-MA</td>\n",
       "      <td>3207</td>\n",
       "    </tr>\n",
       "    <tr>\n",
       "      <th>duration</th>\n",
       "      <td>8804</td>\n",
       "      <td>220</td>\n",
       "      <td>1 Season</td>\n",
       "      <td>1793</td>\n",
       "    </tr>\n",
       "    <tr>\n",
       "      <th>listed_in</th>\n",
       "      <td>8807</td>\n",
       "      <td>514</td>\n",
       "      <td>Dramas, International Movies</td>\n",
       "      <td>362</td>\n",
       "    </tr>\n",
       "    <tr>\n",
       "      <th>description</th>\n",
       "      <td>8807</td>\n",
       "      <td>8775</td>\n",
       "      <td>Paranormal activity at a lush, abandoned prope...</td>\n",
       "      <td>4</td>\n",
       "    </tr>\n",
       "  </tbody>\n",
       "</table>\n",
       "</div>"
      ],
      "text/plain": [
       "            count unique                                                top  \\\n",
       "show_id      8807   8807                                                 s1   \n",
       "type         8807      2                                              Movie   \n",
       "title        8807   8807                               Dick Johnson Is Dead   \n",
       "director     6173   4528                                      Rajiv Chilaka   \n",
       "cast         7982   7692                                 David Attenborough   \n",
       "country      7976    748                                      United States   \n",
       "date_added   8797   1767                                    January 1, 2020   \n",
       "rating       8803     17                                              TV-MA   \n",
       "duration     8804    220                                           1 Season   \n",
       "listed_in    8807    514                       Dramas, International Movies   \n",
       "description  8807   8775  Paranormal activity at a lush, abandoned prope...   \n",
       "\n",
       "             freq  \n",
       "show_id         1  \n",
       "type         6131  \n",
       "title           1  \n",
       "director       19  \n",
       "cast           19  \n",
       "country      2818  \n",
       "date_added    109  \n",
       "rating       3207  \n",
       "duration     1793  \n",
       "listed_in     362  \n",
       "description     4  "
      ]
     },
     "execution_count": 107,
     "metadata": {},
     "output_type": "execute_result"
    }
   ],
   "source": [
    "nd.describe(include = \"object\").T"
   ]
  },
  {
   "cell_type": "code",
   "execution_count": 108,
   "id": "30a40d40",
   "metadata": {},
   "outputs": [
    {
     "data": {
      "text/html": [
       "<div>\n",
       "<style scoped>\n",
       "    .dataframe tbody tr th:only-of-type {\n",
       "        vertical-align: middle;\n",
       "    }\n",
       "\n",
       "    .dataframe tbody tr th {\n",
       "        vertical-align: top;\n",
       "    }\n",
       "\n",
       "    .dataframe thead th {\n",
       "        text-align: right;\n",
       "    }\n",
       "</style>\n",
       "<table border=\"1\" class=\"dataframe\">\n",
       "  <thead>\n",
       "    <tr style=\"text-align: right;\">\n",
       "      <th></th>\n",
       "      <th>release_year</th>\n",
       "    </tr>\n",
       "  </thead>\n",
       "  <tbody>\n",
       "    <tr>\n",
       "      <th>count</th>\n",
       "      <td>8807.000000</td>\n",
       "    </tr>\n",
       "    <tr>\n",
       "      <th>mean</th>\n",
       "      <td>2014.180198</td>\n",
       "    </tr>\n",
       "    <tr>\n",
       "      <th>std</th>\n",
       "      <td>8.819312</td>\n",
       "    </tr>\n",
       "    <tr>\n",
       "      <th>min</th>\n",
       "      <td>1925.000000</td>\n",
       "    </tr>\n",
       "    <tr>\n",
       "      <th>25%</th>\n",
       "      <td>2013.000000</td>\n",
       "    </tr>\n",
       "    <tr>\n",
       "      <th>50%</th>\n",
       "      <td>2017.000000</td>\n",
       "    </tr>\n",
       "    <tr>\n",
       "      <th>75%</th>\n",
       "      <td>2019.000000</td>\n",
       "    </tr>\n",
       "    <tr>\n",
       "      <th>max</th>\n",
       "      <td>2021.000000</td>\n",
       "    </tr>\n",
       "  </tbody>\n",
       "</table>\n",
       "</div>"
      ],
      "text/plain": [
       "       release_year\n",
       "count   8807.000000\n",
       "mean    2014.180198\n",
       "std        8.819312\n",
       "min     1925.000000\n",
       "25%     2013.000000\n",
       "50%     2017.000000\n",
       "75%     2019.000000\n",
       "max     2021.000000"
      ]
     },
     "execution_count": 108,
     "metadata": {},
     "output_type": "execute_result"
    }
   ],
   "source": [
    "nd.describe()"
   ]
  },
  {
   "cell_type": "markdown",
   "id": "1a4d85c9",
   "metadata": {},
   "source": [
    "### 1.3 Observations \n",
    "* The dataset consists of 12 columns and 8,807 rows.\n",
    "* There is some pre-processiong required - Like unnesting of columns, conversion of dtype etc"
   ]
  },
  {
   "cell_type": "markdown",
   "id": "4b276487",
   "metadata": {},
   "source": [
    "## Q2. Observations on the following <a id = \"5\"></a>\n",
    "- shape of data, \n",
    "- data types of all the attributes, \n",
    "- conversion of categorical attributes to 'category' (If required), \n",
    "- missing value detection, statistical summary"
   ]
  },
  {
   "cell_type": "markdown",
   "id": "a2e1d02b",
   "metadata": {},
   "source": [
    "### 2.1 Observations"
   ]
  },
  {
   "cell_type": "markdown",
   "id": "d1ad4687",
   "metadata": {},
   "source": [
    "#### 2.1.1. Shape of the data"
   ]
  },
  {
   "cell_type": "code",
   "execution_count": 109,
   "id": "4fadd295",
   "metadata": {
    "scrolled": false
   },
   "outputs": [
    {
     "data": {
      "text/plain": [
       "(8807, 12)"
      ]
     },
     "execution_count": 109,
     "metadata": {},
     "output_type": "execute_result"
    }
   ],
   "source": [
    "nd.shape"
   ]
  },
  {
   "cell_type": "markdown",
   "id": "3e914a24",
   "metadata": {},
   "source": [
    "* The dataset consists of 8,807 rows and 12 columns."
   ]
  },
  {
   "cell_type": "markdown",
   "id": "f8327673",
   "metadata": {},
   "source": [
    "#### 2.1.2. Data types of all the attributes"
   ]
  },
  {
   "cell_type": "code",
   "execution_count": 110,
   "id": "8614a871",
   "metadata": {},
   "outputs": [
    {
     "name": "stdout",
     "output_type": "stream",
     "text": [
      "<class 'pandas.core.frame.DataFrame'>\n",
      "RangeIndex: 8807 entries, 0 to 8806\n",
      "Data columns (total 12 columns):\n",
      " #   Column        Non-Null Count  Dtype \n",
      "---  ------        --------------  ----- \n",
      " 0   show_id       8807 non-null   object\n",
      " 1   type          8807 non-null   object\n",
      " 2   title         8807 non-null   object\n",
      " 3   director      6173 non-null   object\n",
      " 4   cast          7982 non-null   object\n",
      " 5   country       7976 non-null   object\n",
      " 6   date_added    8797 non-null   object\n",
      " 7   release_year  8807 non-null   int64 \n",
      " 8   rating        8803 non-null   object\n",
      " 9   duration      8804 non-null   object\n",
      " 10  listed_in     8807 non-null   object\n",
      " 11  description   8807 non-null   object\n",
      "dtypes: int64(1), object(11)\n",
      "memory usage: 825.8+ KB\n"
     ]
    }
   ],
   "source": [
    "nd.info()"
   ]
  },
  {
   "cell_type": "markdown",
   "id": "47832f64",
   "metadata": {},
   "source": [
    "* In the dataset all the given columns are of Object datatype except ```release_year```\n",
    "* The ```date_added``` column consists of dates thus datatype need to be changes to ```datetime```\n",
    "* The ```duration``` column consists of duration of the movie or TV Show, we can extract the numerical part from this column"
   ]
  },
  {
   "cell_type": "markdown",
   "id": "d27a63a6",
   "metadata": {},
   "source": [
    "#### 2.1.3. Conversion of categorical attributes to 'category' (If required)\n",
    "\n"
   ]
  },
  {
   "cell_type": "code",
   "execution_count": 111,
   "id": "2591b7eb",
   "metadata": {},
   "outputs": [
    {
     "data": {
      "text/plain": [
       "Index(['show_id', 'type', 'title', 'director', 'cast', 'country', 'date_added',\n",
       "       'release_year', 'rating', 'duration', 'listed_in', 'description'],\n",
       "      dtype='object')"
      ]
     },
     "execution_count": 111,
     "metadata": {},
     "output_type": "execute_result"
    }
   ],
   "source": [
    "nd.columns"
   ]
  },
  {
   "cell_type": "code",
   "execution_count": 112,
   "id": "873c33fe",
   "metadata": {},
   "outputs": [],
   "source": [
    "nd[[\"type\", \"rating\"]] = nd[[\"type\", \"rating\"]].astype(\"category\")"
   ]
  },
  {
   "cell_type": "markdown",
   "id": "142bc77b",
   "metadata": {},
   "source": [
    "#### 2.1.4 Missing value detection, statistical summary, and treatment "
   ]
  },
  {
   "cell_type": "code",
   "execution_count": 113,
   "id": "bdcc28c2",
   "metadata": {},
   "outputs": [],
   "source": [
    "# nd = pd.read_csv(\"netflix.csv\")"
   ]
  },
  {
   "cell_type": "markdown",
   "id": "94622ce4",
   "metadata": {},
   "source": [
    "#### 1. Handling Missing Values in the `duration`, `rating`, and `date_added` columns"
   ]
  },
  {
   "cell_type": "code",
   "execution_count": 114,
   "id": "56f11149",
   "metadata": {},
   "outputs": [
    {
     "data": {
      "text/plain": [
       "show_id            0\n",
       "type               0\n",
       "title              0\n",
       "director        2634\n",
       "cast             825\n",
       "country          831\n",
       "date_added        10\n",
       "release_year       0\n",
       "rating             4\n",
       "duration           3\n",
       "listed_in          0\n",
       "description        0\n",
       "dtype: int64"
      ]
     },
     "execution_count": 114,
     "metadata": {},
     "output_type": "execute_result"
    }
   ],
   "source": [
    "nd.isnull().sum()"
   ]
  },
  {
   "cell_type": "markdown",
   "id": "8e49fab0",
   "metadata": {},
   "source": [
    "#### Treatment for duration column"
   ]
  },
  {
   "cell_type": "code",
   "execution_count": 115,
   "id": "059b6df4",
   "metadata": {},
   "outputs": [
    {
     "data": {
      "text/html": [
       "<div>\n",
       "<style scoped>\n",
       "    .dataframe tbody tr th:only-of-type {\n",
       "        vertical-align: middle;\n",
       "    }\n",
       "\n",
       "    .dataframe tbody tr th {\n",
       "        vertical-align: top;\n",
       "    }\n",
       "\n",
       "    .dataframe thead th {\n",
       "        text-align: right;\n",
       "    }\n",
       "</style>\n",
       "<table border=\"1\" class=\"dataframe\">\n",
       "  <thead>\n",
       "    <tr style=\"text-align: right;\">\n",
       "      <th></th>\n",
       "      <th>show_id</th>\n",
       "      <th>type</th>\n",
       "      <th>title</th>\n",
       "      <th>director</th>\n",
       "      <th>cast</th>\n",
       "      <th>country</th>\n",
       "      <th>date_added</th>\n",
       "      <th>release_year</th>\n",
       "      <th>rating</th>\n",
       "      <th>duration</th>\n",
       "      <th>listed_in</th>\n",
       "      <th>description</th>\n",
       "    </tr>\n",
       "  </thead>\n",
       "  <tbody>\n",
       "    <tr>\n",
       "      <th>5541</th>\n",
       "      <td>s5542</td>\n",
       "      <td>Movie</td>\n",
       "      <td>Louis C.K. 2017</td>\n",
       "      <td>Louis C.K.</td>\n",
       "      <td>Louis C.K.</td>\n",
       "      <td>United States</td>\n",
       "      <td>April 4, 2017</td>\n",
       "      <td>2017</td>\n",
       "      <td>74 min</td>\n",
       "      <td>NaN</td>\n",
       "      <td>Movies</td>\n",
       "      <td>Louis C.K. muses on religion, eternal love, gi...</td>\n",
       "    </tr>\n",
       "    <tr>\n",
       "      <th>5794</th>\n",
       "      <td>s5795</td>\n",
       "      <td>Movie</td>\n",
       "      <td>Louis C.K.: Hilarious</td>\n",
       "      <td>Louis C.K.</td>\n",
       "      <td>Louis C.K.</td>\n",
       "      <td>United States</td>\n",
       "      <td>September 16, 2016</td>\n",
       "      <td>2010</td>\n",
       "      <td>84 min</td>\n",
       "      <td>NaN</td>\n",
       "      <td>Movies</td>\n",
       "      <td>Emmy-winning comedy writer Louis C.K. brings h...</td>\n",
       "    </tr>\n",
       "    <tr>\n",
       "      <th>5813</th>\n",
       "      <td>s5814</td>\n",
       "      <td>Movie</td>\n",
       "      <td>Louis C.K.: Live at the Comedy Store</td>\n",
       "      <td>Louis C.K.</td>\n",
       "      <td>Louis C.K.</td>\n",
       "      <td>United States</td>\n",
       "      <td>August 15, 2016</td>\n",
       "      <td>2015</td>\n",
       "      <td>66 min</td>\n",
       "      <td>NaN</td>\n",
       "      <td>Movies</td>\n",
       "      <td>The comic puts his trademark hilarious/thought...</td>\n",
       "    </tr>\n",
       "  </tbody>\n",
       "</table>\n",
       "</div>"
      ],
      "text/plain": [
       "     show_id   type                                 title    director  \\\n",
       "5541   s5542  Movie                       Louis C.K. 2017  Louis C.K.   \n",
       "5794   s5795  Movie                 Louis C.K.: Hilarious  Louis C.K.   \n",
       "5813   s5814  Movie  Louis C.K.: Live at the Comedy Store  Louis C.K.   \n",
       "\n",
       "            cast        country          date_added  release_year  rating  \\\n",
       "5541  Louis C.K.  United States       April 4, 2017          2017  74 min   \n",
       "5794  Louis C.K.  United States  September 16, 2016          2010  84 min   \n",
       "5813  Louis C.K.  United States     August 15, 2016          2015  66 min   \n",
       "\n",
       "     duration listed_in                                        description  \n",
       "5541      NaN    Movies  Louis C.K. muses on religion, eternal love, gi...  \n",
       "5794      NaN    Movies  Emmy-winning comedy writer Louis C.K. brings h...  \n",
       "5813      NaN    Movies  The comic puts his trademark hilarious/thought...  "
      ]
     },
     "execution_count": 115,
     "metadata": {},
     "output_type": "execute_result"
    }
   ],
   "source": [
    "nd.loc[nd[\"duration\"].isna()]"
   ]
  },
  {
   "cell_type": "code",
   "execution_count": 116,
   "id": "87674610",
   "metadata": {},
   "outputs": [],
   "source": [
    "### Looks like a misplacement, the Values for durations are entered in the rating column"
   ]
  },
  {
   "cell_type": "code",
   "execution_count": 117,
   "id": "bda5efad",
   "metadata": {},
   "outputs": [],
   "source": [
    "### Setting the misplaced duration value from rating column\n",
    "nd_durr =nd.loc[nd[\"duration\"].isna()]\n",
    "ids = nd_durr[\"show_id\"].index"
   ]
  },
  {
   "cell_type": "code",
   "execution_count": 118,
   "id": "1a8c323b",
   "metadata": {},
   "outputs": [],
   "source": [
    "nd[\"duration\"].fillna(nd[\"rating\"], inplace=True)"
   ]
  },
  {
   "cell_type": "code",
   "execution_count": 119,
   "id": "5c0bf746",
   "metadata": {},
   "outputs": [
    {
     "data": {
      "text/plain": [
       "0"
      ]
     },
     "execution_count": 119,
     "metadata": {},
     "output_type": "execute_result"
    }
   ],
   "source": [
    "nd[\"duration\"].isna().sum()"
   ]
  },
  {
   "cell_type": "markdown",
   "id": "f995f8aa",
   "metadata": {},
   "source": [
    "#### Treatment for rating column"
   ]
  },
  {
   "cell_type": "code",
   "execution_count": 120,
   "id": "1301f077",
   "metadata": {},
   "outputs": [],
   "source": [
    "### deleting these misplaces values from rating column\n",
    "nd.loc[ids,\"rating\"] = np.nan"
   ]
  },
  {
   "cell_type": "code",
   "execution_count": 121,
   "id": "c83994fc",
   "metadata": {},
   "outputs": [],
   "source": [
    "### Imputing with the group mode\n",
    "nd[\"rating\"] = nd.groupby([\"type\", \"listed_in\"])[\"rating\"].apply(lambda x: x.fillna(x.mode().iloc[0]))"
   ]
  },
  {
   "cell_type": "code",
   "execution_count": 122,
   "id": "ed5471ad",
   "metadata": {},
   "outputs": [
    {
     "data": {
      "text/plain": [
       "0"
      ]
     },
     "execution_count": 122,
     "metadata": {},
     "output_type": "execute_result"
    }
   ],
   "source": [
    "nd[\"rating\"].isna().sum()"
   ]
  },
  {
   "cell_type": "markdown",
   "id": "cebba3a0",
   "metadata": {},
   "source": [
    "#### Treatment for `date_added` column"
   ]
  },
  {
   "cell_type": "code",
   "execution_count": 123,
   "id": "6b2cd306",
   "metadata": {},
   "outputs": [],
   "source": [
    "nd[\"date_added\"].fillna(nd[\"release_year\"], inplace=True)"
   ]
  },
  {
   "cell_type": "code",
   "execution_count": 124,
   "id": "47cecd0f",
   "metadata": {},
   "outputs": [
    {
     "data": {
      "text/plain": [
       "0"
      ]
     },
     "execution_count": 124,
     "metadata": {},
     "output_type": "execute_result"
    }
   ],
   "source": [
    "nd[\"date_added\"].isna().sum()"
   ]
  },
  {
   "cell_type": "code",
   "execution_count": 125,
   "id": "deb75373",
   "metadata": {},
   "outputs": [
    {
     "data": {
      "text/plain": [
       "show_id          0.000000\n",
       "type             0.000000\n",
       "title            0.000000\n",
       "director        29.908028\n",
       "cast             9.367549\n",
       "country          9.435676\n",
       "date_added       0.000000\n",
       "release_year     0.000000\n",
       "rating           0.000000\n",
       "duration         0.000000\n",
       "listed_in        0.000000\n",
       "description      0.000000\n",
       "dtype: float64"
      ]
     },
     "execution_count": 125,
     "metadata": {},
     "output_type": "execute_result"
    }
   ],
   "source": [
    "nd.isnull().sum()/nd.shape[0]*100"
   ]
  },
  {
   "cell_type": "code",
   "execution_count": 126,
   "id": "b2a961d1",
   "metadata": {},
   "outputs": [],
   "source": [
    "### Will treat other three missing values columns after preprocessing"
   ]
  },
  {
   "cell_type": "markdown",
   "id": "2e211eb0",
   "metadata": {},
   "source": [
    "### 2.2. Observations"
   ]
  },
  {
   "cell_type": "markdown",
   "id": "ae41b936",
   "metadata": {},
   "source": [
    "1. Majorly, the dataset consists of catagorical data \n",
    "2. Dataset has significant missing values in below columns that need to be treated\n",
    "    * director - 29.9%\n",
    "    * cast - 9.37%\n",
    "    * country - 9.43%\n",
    "3. Unnesting need to be done for 4 columns - cast, director, country, listed_in\n",
    "4. Around 70% of the content is Movies and another 30% is TV Shows\n",
    "5. date_added column is of object datatype which need to be converted to datetime datatype"
   ]
  },
  {
   "cell_type": "markdown",
   "id": "9ed0376d",
   "metadata": {},
   "source": [
    "## Q3. Non-Graphical Analysis: <a id = \"6\"></a>\n",
    "- Value counts\n",
    "- unique attributes"
   ]
  },
  {
   "cell_type": "code",
   "execution_count": 8,
   "id": "218e1243",
   "metadata": {},
   "outputs": [
    {
     "data": {
      "text/html": [
       "<div>\n",
       "<style scoped>\n",
       "    .dataframe tbody tr th:only-of-type {\n",
       "        vertical-align: middle;\n",
       "    }\n",
       "\n",
       "    .dataframe tbody tr th {\n",
       "        vertical-align: top;\n",
       "    }\n",
       "\n",
       "    .dataframe thead th {\n",
       "        text-align: right;\n",
       "    }\n",
       "</style>\n",
       "<table border=\"1\" class=\"dataframe\">\n",
       "  <thead>\n",
       "    <tr style=\"text-align: right;\">\n",
       "      <th></th>\n",
       "      <th>Rating</th>\n",
       "      <th>Count of Titles</th>\n",
       "    </tr>\n",
       "  </thead>\n",
       "  <tbody>\n",
       "    <tr>\n",
       "      <th>0</th>\n",
       "      <td>TV-MA</td>\n",
       "      <td>3207</td>\n",
       "    </tr>\n",
       "    <tr>\n",
       "      <th>1</th>\n",
       "      <td>TV-14</td>\n",
       "      <td>2160</td>\n",
       "    </tr>\n",
       "    <tr>\n",
       "      <th>2</th>\n",
       "      <td>TV-PG</td>\n",
       "      <td>863</td>\n",
       "    </tr>\n",
       "    <tr>\n",
       "      <th>3</th>\n",
       "      <td>R</td>\n",
       "      <td>799</td>\n",
       "    </tr>\n",
       "    <tr>\n",
       "      <th>4</th>\n",
       "      <td>PG-13</td>\n",
       "      <td>490</td>\n",
       "    </tr>\n",
       "    <tr>\n",
       "      <th>5</th>\n",
       "      <td>TV-Y7</td>\n",
       "      <td>334</td>\n",
       "    </tr>\n",
       "    <tr>\n",
       "      <th>6</th>\n",
       "      <td>TV-Y</td>\n",
       "      <td>307</td>\n",
       "    </tr>\n",
       "    <tr>\n",
       "      <th>7</th>\n",
       "      <td>PG</td>\n",
       "      <td>287</td>\n",
       "    </tr>\n",
       "    <tr>\n",
       "      <th>8</th>\n",
       "      <td>TV-G</td>\n",
       "      <td>220</td>\n",
       "    </tr>\n",
       "    <tr>\n",
       "      <th>9</th>\n",
       "      <td>NR</td>\n",
       "      <td>80</td>\n",
       "    </tr>\n",
       "    <tr>\n",
       "      <th>10</th>\n",
       "      <td>G</td>\n",
       "      <td>41</td>\n",
       "    </tr>\n",
       "    <tr>\n",
       "      <th>11</th>\n",
       "      <td>TV-Y7-FV</td>\n",
       "      <td>6</td>\n",
       "    </tr>\n",
       "    <tr>\n",
       "      <th>12</th>\n",
       "      <td>NC-17</td>\n",
       "      <td>3</td>\n",
       "    </tr>\n",
       "    <tr>\n",
       "      <th>13</th>\n",
       "      <td>UR</td>\n",
       "      <td>3</td>\n",
       "    </tr>\n",
       "    <tr>\n",
       "      <th>14</th>\n",
       "      <td>74 min</td>\n",
       "      <td>1</td>\n",
       "    </tr>\n",
       "    <tr>\n",
       "      <th>15</th>\n",
       "      <td>84 min</td>\n",
       "      <td>1</td>\n",
       "    </tr>\n",
       "    <tr>\n",
       "      <th>16</th>\n",
       "      <td>66 min</td>\n",
       "      <td>1</td>\n",
       "    </tr>\n",
       "  </tbody>\n",
       "</table>\n",
       "</div>"
      ],
      "text/plain": [
       "      Rating  Count of Titles\n",
       "0      TV-MA             3207\n",
       "1      TV-14             2160\n",
       "2      TV-PG              863\n",
       "3          R              799\n",
       "4      PG-13              490\n",
       "5      TV-Y7              334\n",
       "6       TV-Y              307\n",
       "7         PG              287\n",
       "8       TV-G              220\n",
       "9         NR               80\n",
       "10         G               41\n",
       "11  TV-Y7-FV                6\n",
       "12     NC-17                3\n",
       "13        UR                3\n",
       "14    74 min                1\n",
       "15    84 min                1\n",
       "16    66 min                1"
      ]
     },
     "execution_count": 8,
     "metadata": {},
     "output_type": "execute_result"
    }
   ],
   "source": [
    "nd[\"rating\"].value_counts().to_frame().reset_index().rename(columns = {'rating':\"Rating\", \"count\":\"Count of Titles\"})"
   ]
  },
  {
   "cell_type": "code",
   "execution_count": 10,
   "id": "29c8b000",
   "metadata": {},
   "outputs": [
    {
     "data": {
      "text/html": [
       "<div>\n",
       "<style scoped>\n",
       "    .dataframe tbody tr th:only-of-type {\n",
       "        vertical-align: middle;\n",
       "    }\n",
       "\n",
       "    .dataframe tbody tr th {\n",
       "        vertical-align: top;\n",
       "    }\n",
       "\n",
       "    .dataframe thead th {\n",
       "        text-align: right;\n",
       "    }\n",
       "</style>\n",
       "<table border=\"1\" class=\"dataframe\">\n",
       "  <thead>\n",
       "    <tr style=\"text-align: right;\">\n",
       "      <th></th>\n",
       "      <th>ContentType</th>\n",
       "      <th>Count of Titles</th>\n",
       "    </tr>\n",
       "  </thead>\n",
       "  <tbody>\n",
       "    <tr>\n",
       "      <th>0</th>\n",
       "      <td>Movie</td>\n",
       "      <td>6131</td>\n",
       "    </tr>\n",
       "    <tr>\n",
       "      <th>1</th>\n",
       "      <td>TV Show</td>\n",
       "      <td>2676</td>\n",
       "    </tr>\n",
       "  </tbody>\n",
       "</table>\n",
       "</div>"
      ],
      "text/plain": [
       "  ContentType  Count of Titles\n",
       "0       Movie             6131\n",
       "1     TV Show             2676"
      ]
     },
     "execution_count": 10,
     "metadata": {},
     "output_type": "execute_result"
    }
   ],
   "source": [
    "nd[\"type\"].value_counts().reset_index().rename(columns = {'type':\"ContentType\", \"count\":\"Count of Titles\"})"
   ]
  },
  {
   "cell_type": "markdown",
   "id": "594ed652",
   "metadata": {},
   "source": [
    "### 3.1 Pre-Processing of Data"
   ]
  },
  {
   "cell_type": "markdown",
   "id": "2a466e70",
   "metadata": {},
   "source": [
    "As we have seen in the above sections, data pre-processing is required. To perform data analysis, we'll do unnesting, datatype conversion, some aditional adjustments.\n"
   ]
  },
  {
   "cell_type": "markdown",
   "id": "673211a1",
   "metadata": {},
   "source": [
    "#### 3.1.1. Unnesting"
   ]
  },
  {
   "cell_type": "code",
   "execution_count": 129,
   "id": "1d3876cc",
   "metadata": {},
   "outputs": [],
   "source": [
    "# nd = pd.read_csv(\"netflix.csv\")"
   ]
  },
  {
   "cell_type": "markdown",
   "id": "b0622fbc",
   "metadata": {},
   "source": [
    "* As the values in ```director```,```cast```, ```country```, and ```listed_in``` as separated by comma, we can easily split these value with delimiter \",\". This will give us a list of all the values at respective cells and columns"
   ]
  },
  {
   "cell_type": "code",
   "execution_count": 130,
   "id": "2b9e25fc",
   "metadata": {},
   "outputs": [
    {
     "data": {
      "text/html": [
       "<div>\n",
       "<style scoped>\n",
       "    .dataframe tbody tr th:only-of-type {\n",
       "        vertical-align: middle;\n",
       "    }\n",
       "\n",
       "    .dataframe tbody tr th {\n",
       "        vertical-align: top;\n",
       "    }\n",
       "\n",
       "    .dataframe thead th {\n",
       "        text-align: right;\n",
       "    }\n",
       "</style>\n",
       "<table border=\"1\" class=\"dataframe\">\n",
       "  <thead>\n",
       "    <tr style=\"text-align: right;\">\n",
       "      <th></th>\n",
       "      <th>show_id</th>\n",
       "      <th>type</th>\n",
       "      <th>title</th>\n",
       "      <th>director</th>\n",
       "      <th>cast</th>\n",
       "      <th>country</th>\n",
       "      <th>date_added</th>\n",
       "      <th>release_year</th>\n",
       "      <th>rating</th>\n",
       "      <th>duration</th>\n",
       "      <th>listed_in</th>\n",
       "      <th>description</th>\n",
       "    </tr>\n",
       "  </thead>\n",
       "  <tbody>\n",
       "    <tr>\n",
       "      <th>0</th>\n",
       "      <td>s1</td>\n",
       "      <td>Movie</td>\n",
       "      <td>Dick Johnson Is Dead</td>\n",
       "      <td>[Kirsten Johnson]</td>\n",
       "      <td>NaN</td>\n",
       "      <td>[United States]</td>\n",
       "      <td>September 25, 2021</td>\n",
       "      <td>2020</td>\n",
       "      <td>PG-13</td>\n",
       "      <td>90 min</td>\n",
       "      <td>[Documentaries]</td>\n",
       "      <td>As her father nears the end of his life, filmm...</td>\n",
       "    </tr>\n",
       "    <tr>\n",
       "      <th>1</th>\n",
       "      <td>s2</td>\n",
       "      <td>TV Show</td>\n",
       "      <td>Blood &amp; Water</td>\n",
       "      <td>NaN</td>\n",
       "      <td>[Ama Qamata, Khosi Ngema, Gail Mabalane, Thaba...</td>\n",
       "      <td>[South Africa]</td>\n",
       "      <td>September 24, 2021</td>\n",
       "      <td>2021</td>\n",
       "      <td>TV-MA</td>\n",
       "      <td>2 Seasons</td>\n",
       "      <td>[International TV Shows, TV Dramas, TV Mysteries]</td>\n",
       "      <td>After crossing paths at a party, a Cape Town t...</td>\n",
       "    </tr>\n",
       "    <tr>\n",
       "      <th>2</th>\n",
       "      <td>s3</td>\n",
       "      <td>TV Show</td>\n",
       "      <td>Ganglands</td>\n",
       "      <td>[Julien Leclercq]</td>\n",
       "      <td>[Sami Bouajila, Tracy Gotoas, Samuel Jouy, Nab...</td>\n",
       "      <td>NaN</td>\n",
       "      <td>September 24, 2021</td>\n",
       "      <td>2021</td>\n",
       "      <td>TV-MA</td>\n",
       "      <td>1 Season</td>\n",
       "      <td>[Crime TV Shows, International TV Shows, TV Ac...</td>\n",
       "      <td>To protect his family from a powerful drug lor...</td>\n",
       "    </tr>\n",
       "  </tbody>\n",
       "</table>\n",
       "</div>"
      ],
      "text/plain": [
       "  show_id     type                 title           director  \\\n",
       "0      s1    Movie  Dick Johnson Is Dead  [Kirsten Johnson]   \n",
       "1      s2  TV Show         Blood & Water                NaN   \n",
       "2      s3  TV Show             Ganglands  [Julien Leclercq]   \n",
       "\n",
       "                                                cast          country  \\\n",
       "0                                                NaN  [United States]   \n",
       "1  [Ama Qamata, Khosi Ngema, Gail Mabalane, Thaba...   [South Africa]   \n",
       "2  [Sami Bouajila, Tracy Gotoas, Samuel Jouy, Nab...              NaN   \n",
       "\n",
       "           date_added  release_year rating   duration  \\\n",
       "0  September 25, 2021          2020  PG-13     90 min   \n",
       "1  September 24, 2021          2021  TV-MA  2 Seasons   \n",
       "2  September 24, 2021          2021  TV-MA   1 Season   \n",
       "\n",
       "                                           listed_in  \\\n",
       "0                                    [Documentaries]   \n",
       "1  [International TV Shows, TV Dramas, TV Mysteries]   \n",
       "2  [Crime TV Shows, International TV Shows, TV Ac...   \n",
       "\n",
       "                                         description  \n",
       "0  As her father nears the end of his life, filmm...  \n",
       "1  After crossing paths at a party, a Cape Town t...  \n",
       "2  To protect his family from a powerful drug lor...  "
      ]
     },
     "execution_count": 130,
     "metadata": {},
     "output_type": "execute_result"
    }
   ],
   "source": [
    "nd[\"cast\"], nd[\"director\"],\\\n",
    "nd[\"country\"], nd[\"listed_in\"] = nd[\"cast\"].str.split(', '), nd[\"director\"].str.split(', '),\\\n",
    "                                 nd[\"country\"].str.split(', '), nd[\"listed_in\"].str.split(', ')\n",
    "nd.head(3)"
   ]
  },
  {
   "cell_type": "markdown",
   "id": "2aedeaa1",
   "metadata": {},
   "source": [
    "* Now we can use explode() function to split these values as per there rows"
   ]
  },
  {
   "cell_type": "code",
   "execution_count": 131,
   "id": "f6dcb735",
   "metadata": {},
   "outputs": [],
   "source": [
    "df = nd.explode(\"cast\").explode(\"director\").explode(\"country\").explode(\"listed_in\")"
   ]
  },
  {
   "cell_type": "code",
   "execution_count": 132,
   "id": "3b5995ff",
   "metadata": {},
   "outputs": [
    {
     "data": {
      "text/plain": [
       "(201991, 12)"
      ]
     },
     "execution_count": 132,
     "metadata": {},
     "output_type": "execute_result"
    }
   ],
   "source": [
    "df.shape"
   ]
  },
  {
   "cell_type": "markdown",
   "id": "aa5cdfee",
   "metadata": {},
   "source": [
    "#### 3.1.2. Converting ```date_added``` column to Datetime and extract ```Month``` and ```Year``` from that for future analysis"
   ]
  },
  {
   "cell_type": "code",
   "execution_count": 133,
   "id": "ca81d261",
   "metadata": {},
   "outputs": [],
   "source": [
    "df[\"date_added\"] = pd.to_datetime(df[\"date_added\"])"
   ]
  },
  {
   "cell_type": "code",
   "execution_count": 134,
   "id": "da1e1c75",
   "metadata": {},
   "outputs": [],
   "source": [
    "df[\"month_added\"] = pd.to_datetime(df[\"date_added\"]).dt.month.astype('Int64')"
   ]
  },
  {
   "cell_type": "code",
   "execution_count": 135,
   "id": "012eb63a",
   "metadata": {},
   "outputs": [],
   "source": [
    "df[\"year_added\"] = pd.to_datetime(df[\"date_added\"]).dt.year.astype('Int64')"
   ]
  },
  {
   "cell_type": "code",
   "execution_count": 136,
   "id": "49f0f871",
   "metadata": {},
   "outputs": [
    {
     "data": {
      "text/html": [
       "<div>\n",
       "<style scoped>\n",
       "    .dataframe tbody tr th:only-of-type {\n",
       "        vertical-align: middle;\n",
       "    }\n",
       "\n",
       "    .dataframe tbody tr th {\n",
       "        vertical-align: top;\n",
       "    }\n",
       "\n",
       "    .dataframe thead th {\n",
       "        text-align: right;\n",
       "    }\n",
       "</style>\n",
       "<table border=\"1\" class=\"dataframe\">\n",
       "  <thead>\n",
       "    <tr style=\"text-align: right;\">\n",
       "      <th></th>\n",
       "      <th>show_id</th>\n",
       "      <th>type</th>\n",
       "      <th>title</th>\n",
       "      <th>director</th>\n",
       "      <th>cast</th>\n",
       "      <th>country</th>\n",
       "      <th>date_added</th>\n",
       "      <th>release_year</th>\n",
       "      <th>rating</th>\n",
       "      <th>duration</th>\n",
       "      <th>listed_in</th>\n",
       "      <th>description</th>\n",
       "      <th>month_added</th>\n",
       "      <th>year_added</th>\n",
       "    </tr>\n",
       "  </thead>\n",
       "  <tbody>\n",
       "    <tr>\n",
       "      <th>0</th>\n",
       "      <td>s1</td>\n",
       "      <td>Movie</td>\n",
       "      <td>Dick Johnson Is Dead</td>\n",
       "      <td>Kirsten Johnson</td>\n",
       "      <td>NaN</td>\n",
       "      <td>United States</td>\n",
       "      <td>2021-09-25</td>\n",
       "      <td>2020</td>\n",
       "      <td>PG-13</td>\n",
       "      <td>90 min</td>\n",
       "      <td>Documentaries</td>\n",
       "      <td>As her father nears the end of his life, filmm...</td>\n",
       "      <td>9</td>\n",
       "      <td>2021</td>\n",
       "    </tr>\n",
       "    <tr>\n",
       "      <th>1</th>\n",
       "      <td>s2</td>\n",
       "      <td>TV Show</td>\n",
       "      <td>Blood &amp; Water</td>\n",
       "      <td>NaN</td>\n",
       "      <td>Ama Qamata</td>\n",
       "      <td>South Africa</td>\n",
       "      <td>2021-09-24</td>\n",
       "      <td>2021</td>\n",
       "      <td>TV-MA</td>\n",
       "      <td>2 Seasons</td>\n",
       "      <td>International TV Shows</td>\n",
       "      <td>After crossing paths at a party, a Cape Town t...</td>\n",
       "      <td>9</td>\n",
       "      <td>2021</td>\n",
       "    </tr>\n",
       "    <tr>\n",
       "      <th>1</th>\n",
       "      <td>s2</td>\n",
       "      <td>TV Show</td>\n",
       "      <td>Blood &amp; Water</td>\n",
       "      <td>NaN</td>\n",
       "      <td>Ama Qamata</td>\n",
       "      <td>South Africa</td>\n",
       "      <td>2021-09-24</td>\n",
       "      <td>2021</td>\n",
       "      <td>TV-MA</td>\n",
       "      <td>2 Seasons</td>\n",
       "      <td>TV Dramas</td>\n",
       "      <td>After crossing paths at a party, a Cape Town t...</td>\n",
       "      <td>9</td>\n",
       "      <td>2021</td>\n",
       "    </tr>\n",
       "    <tr>\n",
       "      <th>1</th>\n",
       "      <td>s2</td>\n",
       "      <td>TV Show</td>\n",
       "      <td>Blood &amp; Water</td>\n",
       "      <td>NaN</td>\n",
       "      <td>Ama Qamata</td>\n",
       "      <td>South Africa</td>\n",
       "      <td>2021-09-24</td>\n",
       "      <td>2021</td>\n",
       "      <td>TV-MA</td>\n",
       "      <td>2 Seasons</td>\n",
       "      <td>TV Mysteries</td>\n",
       "      <td>After crossing paths at a party, a Cape Town t...</td>\n",
       "      <td>9</td>\n",
       "      <td>2021</td>\n",
       "    </tr>\n",
       "    <tr>\n",
       "      <th>1</th>\n",
       "      <td>s2</td>\n",
       "      <td>TV Show</td>\n",
       "      <td>Blood &amp; Water</td>\n",
       "      <td>NaN</td>\n",
       "      <td>Khosi Ngema</td>\n",
       "      <td>South Africa</td>\n",
       "      <td>2021-09-24</td>\n",
       "      <td>2021</td>\n",
       "      <td>TV-MA</td>\n",
       "      <td>2 Seasons</td>\n",
       "      <td>International TV Shows</td>\n",
       "      <td>After crossing paths at a party, a Cape Town t...</td>\n",
       "      <td>9</td>\n",
       "      <td>2021</td>\n",
       "    </tr>\n",
       "  </tbody>\n",
       "</table>\n",
       "</div>"
      ],
      "text/plain": [
       "  show_id     type                 title         director         cast  \\\n",
       "0      s1    Movie  Dick Johnson Is Dead  Kirsten Johnson          NaN   \n",
       "1      s2  TV Show         Blood & Water              NaN   Ama Qamata   \n",
       "1      s2  TV Show         Blood & Water              NaN   Ama Qamata   \n",
       "1      s2  TV Show         Blood & Water              NaN   Ama Qamata   \n",
       "1      s2  TV Show         Blood & Water              NaN  Khosi Ngema   \n",
       "\n",
       "         country date_added  release_year rating   duration  \\\n",
       "0  United States 2021-09-25          2020  PG-13     90 min   \n",
       "1   South Africa 2021-09-24          2021  TV-MA  2 Seasons   \n",
       "1   South Africa 2021-09-24          2021  TV-MA  2 Seasons   \n",
       "1   South Africa 2021-09-24          2021  TV-MA  2 Seasons   \n",
       "1   South Africa 2021-09-24          2021  TV-MA  2 Seasons   \n",
       "\n",
       "                listed_in                                        description  \\\n",
       "0           Documentaries  As her father nears the end of his life, filmm...   \n",
       "1  International TV Shows  After crossing paths at a party, a Cape Town t...   \n",
       "1               TV Dramas  After crossing paths at a party, a Cape Town t...   \n",
       "1            TV Mysteries  After crossing paths at a party, a Cape Town t...   \n",
       "1  International TV Shows  After crossing paths at a party, a Cape Town t...   \n",
       "\n",
       "   month_added  year_added  \n",
       "0            9        2021  \n",
       "1            9        2021  \n",
       "1            9        2021  \n",
       "1            9        2021  \n",
       "1            9        2021  "
      ]
     },
     "execution_count": 136,
     "metadata": {},
     "output_type": "execute_result"
    }
   ],
   "source": [
    "df.head()"
   ]
  },
  {
   "cell_type": "markdown",
   "id": "f049ffe4",
   "metadata": {},
   "source": [
    "#### 3.2 ```values_count``` and ```nuniques``` "
   ]
  },
  {
   "cell_type": "code",
   "execution_count": 137,
   "id": "eee70f81",
   "metadata": {},
   "outputs": [
    {
     "data": {
      "text/html": [
       "<div>\n",
       "<style scoped>\n",
       "    .dataframe tbody tr th:only-of-type {\n",
       "        vertical-align: middle;\n",
       "    }\n",
       "\n",
       "    .dataframe tbody tr th {\n",
       "        vertical-align: top;\n",
       "    }\n",
       "\n",
       "    .dataframe thead th {\n",
       "        text-align: right;\n",
       "    }\n",
       "</style>\n",
       "<table border=\"1\" class=\"dataframe\">\n",
       "  <thead>\n",
       "    <tr style=\"text-align: right;\">\n",
       "      <th></th>\n",
       "      <th>count</th>\n",
       "      <th>unique</th>\n",
       "      <th>top</th>\n",
       "      <th>freq</th>\n",
       "    </tr>\n",
       "  </thead>\n",
       "  <tbody>\n",
       "    <tr>\n",
       "      <th>show_id</th>\n",
       "      <td>201991</td>\n",
       "      <td>8807</td>\n",
       "      <td>s7165</td>\n",
       "      <td>700</td>\n",
       "    </tr>\n",
       "    <tr>\n",
       "      <th>title</th>\n",
       "      <td>201991</td>\n",
       "      <td>8807</td>\n",
       "      <td>Kahlil Gibran's The Prophet</td>\n",
       "      <td>700</td>\n",
       "    </tr>\n",
       "    <tr>\n",
       "      <th>director</th>\n",
       "      <td>151348</td>\n",
       "      <td>4993</td>\n",
       "      <td>Martin Scorsese</td>\n",
       "      <td>419</td>\n",
       "    </tr>\n",
       "    <tr>\n",
       "      <th>cast</th>\n",
       "      <td>199845</td>\n",
       "      <td>36439</td>\n",
       "      <td>Liam Neeson</td>\n",
       "      <td>161</td>\n",
       "    </tr>\n",
       "    <tr>\n",
       "      <th>country</th>\n",
       "      <td>190094</td>\n",
       "      <td>127</td>\n",
       "      <td>United States</td>\n",
       "      <td>59349</td>\n",
       "    </tr>\n",
       "    <tr>\n",
       "      <th>duration</th>\n",
       "      <td>201991</td>\n",
       "      <td>220</td>\n",
       "      <td>1 Season</td>\n",
       "      <td>35035</td>\n",
       "    </tr>\n",
       "    <tr>\n",
       "      <th>listed_in</th>\n",
       "      <td>201991</td>\n",
       "      <td>42</td>\n",
       "      <td>Dramas</td>\n",
       "      <td>29775</td>\n",
       "    </tr>\n",
       "    <tr>\n",
       "      <th>description</th>\n",
       "      <td>201991</td>\n",
       "      <td>8775</td>\n",
       "      <td>A troubled young girl and her mother find sola...</td>\n",
       "      <td>700</td>\n",
       "    </tr>\n",
       "  </tbody>\n",
       "</table>\n",
       "</div>"
      ],
      "text/plain": [
       "              count unique                                                top  \\\n",
       "show_id      201991   8807                                              s7165   \n",
       "title        201991   8807                        Kahlil Gibran's The Prophet   \n",
       "director     151348   4993                                    Martin Scorsese   \n",
       "cast         199845  36439                                        Liam Neeson   \n",
       "country      190094    127                                      United States   \n",
       "duration     201991    220                                           1 Season   \n",
       "listed_in    201991     42                                             Dramas   \n",
       "description  201991   8775  A troubled young girl and her mother find sola...   \n",
       "\n",
       "              freq  \n",
       "show_id        700  \n",
       "title          700  \n",
       "director       419  \n",
       "cast           161  \n",
       "country      59349  \n",
       "duration     35035  \n",
       "listed_in    29775  \n",
       "description    700  "
      ]
     },
     "execution_count": 137,
     "metadata": {},
     "output_type": "execute_result"
    }
   ],
   "source": [
    "df.describe(include = \"object\").T"
   ]
  },
  {
   "cell_type": "markdown",
   "id": "a4161149",
   "metadata": {},
   "source": [
    "## Analysis"
   ]
  },
  {
   "cell_type": "code",
   "execution_count": 138,
   "id": "07c1cbd4",
   "metadata": {},
   "outputs": [],
   "source": [
    "movies = df.loc[df[\"type\"] == \"Movie\"]\n",
    "shows = df.loc[df[\"type\"] == \"TV Show\"]"
   ]
  },
  {
   "cell_type": "markdown",
   "id": "97e20a3e",
   "metadata": {},
   "source": [
    "### Top Actors"
   ]
  },
  {
   "cell_type": "code",
   "execution_count": 139,
   "id": "ae199749",
   "metadata": {},
   "outputs": [
    {
     "data": {
      "text/html": [
       "<div>\n",
       "<style scoped>\n",
       "    .dataframe tbody tr th:only-of-type {\n",
       "        vertical-align: middle;\n",
       "    }\n",
       "\n",
       "    .dataframe tbody tr th {\n",
       "        vertical-align: top;\n",
       "    }\n",
       "\n",
       "    .dataframe thead th {\n",
       "        text-align: right;\n",
       "    }\n",
       "</style>\n",
       "<table border=\"1\" class=\"dataframe\">\n",
       "  <thead>\n",
       "    <tr style=\"text-align: right;\">\n",
       "      <th></th>\n",
       "      <th>actor</th>\n",
       "      <th>type</th>\n",
       "      <th>count</th>\n",
       "    </tr>\n",
       "  </thead>\n",
       "  <tbody>\n",
       "    <tr>\n",
       "      <th>1</th>\n",
       "      <td>Shah Rukh Khan</td>\n",
       "      <td>Movie</td>\n",
       "      <td>35</td>\n",
       "    </tr>\n",
       "    <tr>\n",
       "      <th>2</th>\n",
       "      <td>Naseeruddin Shah</td>\n",
       "      <td>Movie</td>\n",
       "      <td>32</td>\n",
       "    </tr>\n",
       "    <tr>\n",
       "      <th>3</th>\n",
       "      <td>Akshay Kumar</td>\n",
       "      <td>Movie</td>\n",
       "      <td>30</td>\n",
       "    </tr>\n",
       "    <tr>\n",
       "      <th>4</th>\n",
       "      <td>Om Puri</td>\n",
       "      <td>Movie</td>\n",
       "      <td>30</td>\n",
       "    </tr>\n",
       "    <tr>\n",
       "      <th>5</th>\n",
       "      <td>Paresh Rawal</td>\n",
       "      <td>Movie</td>\n",
       "      <td>28</td>\n",
       "    </tr>\n",
       "    <tr>\n",
       "      <th>6</th>\n",
       "      <td>Julie Tejwani</td>\n",
       "      <td>Movie</td>\n",
       "      <td>28</td>\n",
       "    </tr>\n",
       "    <tr>\n",
       "      <th>7</th>\n",
       "      <td>Amitabh Bachchan</td>\n",
       "      <td>Movie</td>\n",
       "      <td>28</td>\n",
       "    </tr>\n",
       "    <tr>\n",
       "      <th>8</th>\n",
       "      <td>Rupa Bhimani</td>\n",
       "      <td>Movie</td>\n",
       "      <td>27</td>\n",
       "    </tr>\n",
       "    <tr>\n",
       "      <th>9</th>\n",
       "      <td>Boman Irani</td>\n",
       "      <td>Movie</td>\n",
       "      <td>27</td>\n",
       "    </tr>\n",
       "    <tr>\n",
       "      <th>10</th>\n",
       "      <td>Kareena Kapoor</td>\n",
       "      <td>Movie</td>\n",
       "      <td>25</td>\n",
       "    </tr>\n",
       "  </tbody>\n",
       "</table>\n",
       "</div>"
      ],
      "text/plain": [
       "               actor   type  count\n",
       "1     Shah Rukh Khan  Movie     35\n",
       "2   Naseeruddin Shah  Movie     32\n",
       "3       Akshay Kumar  Movie     30\n",
       "4            Om Puri  Movie     30\n",
       "5       Paresh Rawal  Movie     28\n",
       "6      Julie Tejwani  Movie     28\n",
       "7   Amitabh Bachchan  Movie     28\n",
       "8       Rupa Bhimani  Movie     27\n",
       "9        Boman Irani  Movie     27\n",
       "10    Kareena Kapoor  Movie     25"
      ]
     },
     "execution_count": 139,
     "metadata": {},
     "output_type": "execute_result"
    }
   ],
   "source": [
    "m_actors = movies.groupby([\"cast\", \"type\"])[\"show_id\"].nunique().sort_values(ascending = False).reset_index()\n",
    "m_actors.columns = [\"actor\",\"type\", \"count\"]\n",
    "m_actors = m_actors.iloc[1:11,:]\n",
    "m_actors"
   ]
  },
  {
   "cell_type": "code",
   "execution_count": 140,
   "id": "a69ea922",
   "metadata": {},
   "outputs": [
    {
     "data": {
      "text/html": [
       "<div>\n",
       "<style scoped>\n",
       "    .dataframe tbody tr th:only-of-type {\n",
       "        vertical-align: middle;\n",
       "    }\n",
       "\n",
       "    .dataframe tbody tr th {\n",
       "        vertical-align: top;\n",
       "    }\n",
       "\n",
       "    .dataframe thead th {\n",
       "        text-align: right;\n",
       "    }\n",
       "</style>\n",
       "<table border=\"1\" class=\"dataframe\">\n",
       "  <thead>\n",
       "    <tr style=\"text-align: right;\">\n",
       "      <th></th>\n",
       "      <th>actor</th>\n",
       "      <th>type</th>\n",
       "      <th>count</th>\n",
       "    </tr>\n",
       "  </thead>\n",
       "  <tbody>\n",
       "    <tr>\n",
       "      <th>1</th>\n",
       "      <td>Yuki Kaji</td>\n",
       "      <td>TV Show</td>\n",
       "      <td>19</td>\n",
       "    </tr>\n",
       "    <tr>\n",
       "      <th>2</th>\n",
       "      <td>Daisuke Ono</td>\n",
       "      <td>TV Show</td>\n",
       "      <td>17</td>\n",
       "    </tr>\n",
       "    <tr>\n",
       "      <th>3</th>\n",
       "      <td>Ai Kayano</td>\n",
       "      <td>TV Show</td>\n",
       "      <td>17</td>\n",
       "    </tr>\n",
       "    <tr>\n",
       "      <th>4</th>\n",
       "      <td>Junichi Suwabe</td>\n",
       "      <td>TV Show</td>\n",
       "      <td>17</td>\n",
       "    </tr>\n",
       "    <tr>\n",
       "      <th>5</th>\n",
       "      <td>Yuichi Nakamura</td>\n",
       "      <td>TV Show</td>\n",
       "      <td>16</td>\n",
       "    </tr>\n",
       "    <tr>\n",
       "      <th>6</th>\n",
       "      <td>Jun Fukuyama</td>\n",
       "      <td>TV Show</td>\n",
       "      <td>15</td>\n",
       "    </tr>\n",
       "    <tr>\n",
       "      <th>7</th>\n",
       "      <td>Yoshimasa Hosoya</td>\n",
       "      <td>TV Show</td>\n",
       "      <td>15</td>\n",
       "    </tr>\n",
       "    <tr>\n",
       "      <th>8</th>\n",
       "      <td>David Attenborough</td>\n",
       "      <td>TV Show</td>\n",
       "      <td>14</td>\n",
       "    </tr>\n",
       "    <tr>\n",
       "      <th>9</th>\n",
       "      <td>Vincent Tong</td>\n",
       "      <td>TV Show</td>\n",
       "      <td>13</td>\n",
       "    </tr>\n",
       "    <tr>\n",
       "      <th>10</th>\n",
       "      <td>Takehito Koyasu</td>\n",
       "      <td>TV Show</td>\n",
       "      <td>13</td>\n",
       "    </tr>\n",
       "  </tbody>\n",
       "</table>\n",
       "</div>"
      ],
      "text/plain": [
       "                 actor     type  count\n",
       "1            Yuki Kaji  TV Show     19\n",
       "2          Daisuke Ono  TV Show     17\n",
       "3            Ai Kayano  TV Show     17\n",
       "4       Junichi Suwabe  TV Show     17\n",
       "5      Yuichi Nakamura  TV Show     16\n",
       "6         Jun Fukuyama  TV Show     15\n",
       "7     Yoshimasa Hosoya  TV Show     15\n",
       "8   David Attenborough  TV Show     14\n",
       "9         Vincent Tong  TV Show     13\n",
       "10     Takehito Koyasu  TV Show     13"
      ]
     },
     "execution_count": 140,
     "metadata": {},
     "output_type": "execute_result"
    }
   ],
   "source": [
    "s_actors = shows.groupby([\"cast\", \"type\"])[\"show_id\"].nunique().sort_values(ascending = False).reset_index()\n",
    "s_actors.columns = [\"actor\",\"type\", \"count\"]\n",
    "s_actors = s_actors.iloc[1:11,:]\n",
    "s_actors"
   ]
  },
  {
   "cell_type": "markdown",
   "id": "496d1626",
   "metadata": {},
   "source": [
    "### Top Directors"
   ]
  },
  {
   "cell_type": "code",
   "execution_count": 141,
   "id": "13cde247",
   "metadata": {},
   "outputs": [
    {
     "data": {
      "text/html": [
       "<div>\n",
       "<style scoped>\n",
       "    .dataframe tbody tr th:only-of-type {\n",
       "        vertical-align: middle;\n",
       "    }\n",
       "\n",
       "    .dataframe tbody tr th {\n",
       "        vertical-align: top;\n",
       "    }\n",
       "\n",
       "    .dataframe thead th {\n",
       "        text-align: right;\n",
       "    }\n",
       "</style>\n",
       "<table border=\"1\" class=\"dataframe\">\n",
       "  <thead>\n",
       "    <tr style=\"text-align: right;\">\n",
       "      <th></th>\n",
       "      <th>director</th>\n",
       "      <th>type</th>\n",
       "      <th>count</th>\n",
       "    </tr>\n",
       "  </thead>\n",
       "  <tbody>\n",
       "    <tr>\n",
       "      <th>1</th>\n",
       "      <td>Jan Suter</td>\n",
       "      <td>Movie</td>\n",
       "      <td>21</td>\n",
       "    </tr>\n",
       "    <tr>\n",
       "      <th>2</th>\n",
       "      <td>Raúl Campos</td>\n",
       "      <td>Movie</td>\n",
       "      <td>19</td>\n",
       "    </tr>\n",
       "    <tr>\n",
       "      <th>3</th>\n",
       "      <td>Suhas Kadav</td>\n",
       "      <td>Movie</td>\n",
       "      <td>16</td>\n",
       "    </tr>\n",
       "    <tr>\n",
       "      <th>4</th>\n",
       "      <td>Jay Karas</td>\n",
       "      <td>Movie</td>\n",
       "      <td>15</td>\n",
       "    </tr>\n",
       "    <tr>\n",
       "      <th>5</th>\n",
       "      <td>Marcus Raboy</td>\n",
       "      <td>Movie</td>\n",
       "      <td>15</td>\n",
       "    </tr>\n",
       "    <tr>\n",
       "      <th>6</th>\n",
       "      <td>Cathy Garcia-Molina</td>\n",
       "      <td>Movie</td>\n",
       "      <td>13</td>\n",
       "    </tr>\n",
       "    <tr>\n",
       "      <th>7</th>\n",
       "      <td>Martin Scorsese</td>\n",
       "      <td>Movie</td>\n",
       "      <td>12</td>\n",
       "    </tr>\n",
       "    <tr>\n",
       "      <th>8</th>\n",
       "      <td>Jay Chapman</td>\n",
       "      <td>Movie</td>\n",
       "      <td>12</td>\n",
       "    </tr>\n",
       "    <tr>\n",
       "      <th>9</th>\n",
       "      <td>Youssef Chahine</td>\n",
       "      <td>Movie</td>\n",
       "      <td>12</td>\n",
       "    </tr>\n",
       "    <tr>\n",
       "      <th>10</th>\n",
       "      <td>Steven Spielberg</td>\n",
       "      <td>Movie</td>\n",
       "      <td>11</td>\n",
       "    </tr>\n",
       "  </tbody>\n",
       "</table>\n",
       "</div>"
      ],
      "text/plain": [
       "               director   type  count\n",
       "1             Jan Suter  Movie     21\n",
       "2           Raúl Campos  Movie     19\n",
       "3           Suhas Kadav  Movie     16\n",
       "4             Jay Karas  Movie     15\n",
       "5          Marcus Raboy  Movie     15\n",
       "6   Cathy Garcia-Molina  Movie     13\n",
       "7       Martin Scorsese  Movie     12\n",
       "8           Jay Chapman  Movie     12\n",
       "9       Youssef Chahine  Movie     12\n",
       "10     Steven Spielberg  Movie     11"
      ]
     },
     "execution_count": 141,
     "metadata": {},
     "output_type": "execute_result"
    }
   ],
   "source": [
    "m_directors = movies.groupby([\"director\", \"type\"])[\"show_id\"].nunique().sort_values(ascending = False).reset_index()\n",
    "m_directors.columns = [\"director\", \"type\", \"count\"]\n",
    "m_directors = m_directors.iloc[1:11,:]\n",
    "m_directors"
   ]
  },
  {
   "cell_type": "code",
   "execution_count": 142,
   "id": "d84dfdbd",
   "metadata": {},
   "outputs": [
    {
     "data": {
      "text/html": [
       "<div>\n",
       "<style scoped>\n",
       "    .dataframe tbody tr th:only-of-type {\n",
       "        vertical-align: middle;\n",
       "    }\n",
       "\n",
       "    .dataframe tbody tr th {\n",
       "        vertical-align: top;\n",
       "    }\n",
       "\n",
       "    .dataframe thead th {\n",
       "        text-align: right;\n",
       "    }\n",
       "</style>\n",
       "<table border=\"1\" class=\"dataframe\">\n",
       "  <thead>\n",
       "    <tr style=\"text-align: right;\">\n",
       "      <th></th>\n",
       "      <th>director</th>\n",
       "      <th>type</th>\n",
       "      <th>count</th>\n",
       "    </tr>\n",
       "  </thead>\n",
       "  <tbody>\n",
       "    <tr>\n",
       "      <th>1</th>\n",
       "      <td>Ken Burns</td>\n",
       "      <td>TV Show</td>\n",
       "      <td>3</td>\n",
       "    </tr>\n",
       "    <tr>\n",
       "      <th>2</th>\n",
       "      <td>Stan Lathan</td>\n",
       "      <td>TV Show</td>\n",
       "      <td>2</td>\n",
       "    </tr>\n",
       "    <tr>\n",
       "      <th>3</th>\n",
       "      <td>Joe Berlinger</td>\n",
       "      <td>TV Show</td>\n",
       "      <td>2</td>\n",
       "    </tr>\n",
       "    <tr>\n",
       "      <th>4</th>\n",
       "      <td>Rob Seidenglanz</td>\n",
       "      <td>TV Show</td>\n",
       "      <td>2</td>\n",
       "    </tr>\n",
       "    <tr>\n",
       "      <th>5</th>\n",
       "      <td>Shin Won-ho</td>\n",
       "      <td>TV Show</td>\n",
       "      <td>2</td>\n",
       "    </tr>\n",
       "    <tr>\n",
       "      <th>6</th>\n",
       "      <td>Jung-ah Im</td>\n",
       "      <td>TV Show</td>\n",
       "      <td>2</td>\n",
       "    </tr>\n",
       "    <tr>\n",
       "      <th>7</th>\n",
       "      <td>Gautham Vasudev Menon</td>\n",
       "      <td>TV Show</td>\n",
       "      <td>2</td>\n",
       "    </tr>\n",
       "    <tr>\n",
       "      <th>8</th>\n",
       "      <td>Hsu Fu-chun</td>\n",
       "      <td>TV Show</td>\n",
       "      <td>2</td>\n",
       "    </tr>\n",
       "    <tr>\n",
       "      <th>9</th>\n",
       "      <td>Iginio Straffi</td>\n",
       "      <td>TV Show</td>\n",
       "      <td>2</td>\n",
       "    </tr>\n",
       "    <tr>\n",
       "      <th>10</th>\n",
       "      <td>Lynn Novick</td>\n",
       "      <td>TV Show</td>\n",
       "      <td>2</td>\n",
       "    </tr>\n",
       "  </tbody>\n",
       "</table>\n",
       "</div>"
      ],
      "text/plain": [
       "                 director     type  count\n",
       "1               Ken Burns  TV Show      3\n",
       "2             Stan Lathan  TV Show      2\n",
       "3           Joe Berlinger  TV Show      2\n",
       "4         Rob Seidenglanz  TV Show      2\n",
       "5             Shin Won-ho  TV Show      2\n",
       "6              Jung-ah Im  TV Show      2\n",
       "7   Gautham Vasudev Menon  TV Show      2\n",
       "8             Hsu Fu-chun  TV Show      2\n",
       "9          Iginio Straffi  TV Show      2\n",
       "10            Lynn Novick  TV Show      2"
      ]
     },
     "execution_count": 142,
     "metadata": {},
     "output_type": "execute_result"
    }
   ],
   "source": [
    "s_directors = shows.groupby([\"director\", \"type\"])[\"show_id\"].nunique().sort_values(ascending = False).reset_index()\n",
    "s_directors.columns = [\"director\", \"type\", \"count\"]\n",
    "s_directors = s_directors.iloc[1:11,:]\n",
    "s_directors"
   ]
  },
  {
   "cell_type": "markdown",
   "id": "ccc91901",
   "metadata": {},
   "source": [
    "### Top ```Actor-Director``` pair"
   ]
  },
  {
   "cell_type": "code",
   "execution_count": 143,
   "id": "609a9b8e",
   "metadata": {},
   "outputs": [
    {
     "data": {
      "text/html": [
       "<div>\n",
       "<style scoped>\n",
       "    .dataframe tbody tr th:only-of-type {\n",
       "        vertical-align: middle;\n",
       "    }\n",
       "\n",
       "    .dataframe tbody tr th {\n",
       "        vertical-align: top;\n",
       "    }\n",
       "\n",
       "    .dataframe thead th {\n",
       "        text-align: right;\n",
       "    }\n",
       "</style>\n",
       "<table border=\"1\" class=\"dataframe\">\n",
       "  <thead>\n",
       "    <tr style=\"text-align: right;\">\n",
       "      <th></th>\n",
       "      <th>director</th>\n",
       "      <th>actor</th>\n",
       "      <th>count</th>\n",
       "    </tr>\n",
       "  </thead>\n",
       "  <tbody>\n",
       "    <tr>\n",
       "      <th>0</th>\n",
       "      <td>Rajiv Chilaka</td>\n",
       "      <td>Julie Tejwani</td>\n",
       "      <td>19</td>\n",
       "    </tr>\n",
       "    <tr>\n",
       "      <th>1</th>\n",
       "      <td>Rajiv Chilaka</td>\n",
       "      <td>Rajesh Kava</td>\n",
       "      <td>19</td>\n",
       "    </tr>\n",
       "    <tr>\n",
       "      <th>2</th>\n",
       "      <td>Rajiv Chilaka</td>\n",
       "      <td>Jigna Bhardwaj</td>\n",
       "      <td>18</td>\n",
       "    </tr>\n",
       "    <tr>\n",
       "      <th>3</th>\n",
       "      <td>Rajiv Chilaka</td>\n",
       "      <td>Rupa Bhimani</td>\n",
       "      <td>18</td>\n",
       "    </tr>\n",
       "    <tr>\n",
       "      <th>4</th>\n",
       "      <td>Rajiv Chilaka</td>\n",
       "      <td>Vatsal Dubey</td>\n",
       "      <td>16</td>\n",
       "    </tr>\n",
       "    <tr>\n",
       "      <th>5</th>\n",
       "      <td>Rajiv Chilaka</td>\n",
       "      <td>Swapnil</td>\n",
       "      <td>13</td>\n",
       "    </tr>\n",
       "    <tr>\n",
       "      <th>6</th>\n",
       "      <td>Rajiv Chilaka</td>\n",
       "      <td>Mousam</td>\n",
       "      <td>13</td>\n",
       "    </tr>\n",
       "    <tr>\n",
       "      <th>7</th>\n",
       "      <td>Suhas Kadav</td>\n",
       "      <td>Saurav Chakraborty</td>\n",
       "      <td>8</td>\n",
       "    </tr>\n",
       "    <tr>\n",
       "      <th>8</th>\n",
       "      <td>Yılmaz Erdoğan</td>\n",
       "      <td>Yılmaz Erdoğan</td>\n",
       "      <td>7</td>\n",
       "    </tr>\n",
       "    <tr>\n",
       "      <th>9</th>\n",
       "      <td>S.S. Rajamouli</td>\n",
       "      <td>Sathyaraj</td>\n",
       "      <td>7</td>\n",
       "    </tr>\n",
       "  </tbody>\n",
       "</table>\n",
       "</div>"
      ],
      "text/plain": [
       "         director               actor  count\n",
       "0   Rajiv Chilaka       Julie Tejwani     19\n",
       "1   Rajiv Chilaka         Rajesh Kava     19\n",
       "2   Rajiv Chilaka      Jigna Bhardwaj     18\n",
       "3   Rajiv Chilaka        Rupa Bhimani     18\n",
       "4   Rajiv Chilaka        Vatsal Dubey     16\n",
       "5   Rajiv Chilaka             Swapnil     13\n",
       "6   Rajiv Chilaka              Mousam     13\n",
       "7     Suhas Kadav  Saurav Chakraborty      8\n",
       "8  Yılmaz Erdoğan      Yılmaz Erdoğan      7\n",
       "9  S.S. Rajamouli           Sathyaraj      7"
      ]
     },
     "execution_count": 143,
     "metadata": {},
     "output_type": "execute_result"
    }
   ],
   "source": [
    "ad_pair = df.groupby(by = [\"director\", 'cast'])[\"show_id\"].nunique().sort_values(ascending = False).reset_index()\n",
    "ad_pair.columns = [\"director\",\"actor\", \"count\"]\n",
    "ad_pair = ad_pair.head(10)\n",
    "ad_pair"
   ]
  },
  {
   "cell_type": "markdown",
   "id": "23878152",
   "metadata": {},
   "source": [
    "### Major Ratings"
   ]
  },
  {
   "cell_type": "code",
   "execution_count": 144,
   "id": "d85c6d20",
   "metadata": {},
   "outputs": [
    {
     "data": {
      "text/html": [
       "<div>\n",
       "<style scoped>\n",
       "    .dataframe tbody tr th:only-of-type {\n",
       "        vertical-align: middle;\n",
       "    }\n",
       "\n",
       "    .dataframe tbody tr th {\n",
       "        vertical-align: top;\n",
       "    }\n",
       "\n",
       "    .dataframe thead th {\n",
       "        text-align: right;\n",
       "    }\n",
       "</style>\n",
       "<table border=\"1\" class=\"dataframe\">\n",
       "  <thead>\n",
       "    <tr style=\"text-align: right;\">\n",
       "      <th></th>\n",
       "      <th>rating</th>\n",
       "      <th>count</th>\n",
       "    </tr>\n",
       "  </thead>\n",
       "  <tbody>\n",
       "    <tr>\n",
       "      <th>0</th>\n",
       "      <td>TV-MA</td>\n",
       "      <td>3207</td>\n",
       "    </tr>\n",
       "    <tr>\n",
       "      <th>1</th>\n",
       "      <td>TV-14</td>\n",
       "      <td>2161</td>\n",
       "    </tr>\n",
       "    <tr>\n",
       "      <th>2</th>\n",
       "      <td>TV-PG</td>\n",
       "      <td>863</td>\n",
       "    </tr>\n",
       "    <tr>\n",
       "      <th>3</th>\n",
       "      <td>R</td>\n",
       "      <td>800</td>\n",
       "    </tr>\n",
       "    <tr>\n",
       "      <th>4</th>\n",
       "      <td>PG-13</td>\n",
       "      <td>490</td>\n",
       "    </tr>\n",
       "    <tr>\n",
       "      <th>5</th>\n",
       "      <td>TV-Y7</td>\n",
       "      <td>335</td>\n",
       "    </tr>\n",
       "    <tr>\n",
       "      <th>6</th>\n",
       "      <td>TV-Y</td>\n",
       "      <td>311</td>\n",
       "    </tr>\n",
       "    <tr>\n",
       "      <th>7</th>\n",
       "      <td>PG</td>\n",
       "      <td>287</td>\n",
       "    </tr>\n",
       "    <tr>\n",
       "      <th>8</th>\n",
       "      <td>TV-G</td>\n",
       "      <td>220</td>\n",
       "    </tr>\n",
       "    <tr>\n",
       "      <th>9</th>\n",
       "      <td>NR</td>\n",
       "      <td>80</td>\n",
       "    </tr>\n",
       "    <tr>\n",
       "      <th>10</th>\n",
       "      <td>G</td>\n",
       "      <td>41</td>\n",
       "    </tr>\n",
       "    <tr>\n",
       "      <th>11</th>\n",
       "      <td>TV-Y7-FV</td>\n",
       "      <td>6</td>\n",
       "    </tr>\n",
       "    <tr>\n",
       "      <th>12</th>\n",
       "      <td>UR</td>\n",
       "      <td>3</td>\n",
       "    </tr>\n",
       "    <tr>\n",
       "      <th>13</th>\n",
       "      <td>NC-17</td>\n",
       "      <td>3</td>\n",
       "    </tr>\n",
       "    <tr>\n",
       "      <th>14</th>\n",
       "      <td>74 min</td>\n",
       "      <td>0</td>\n",
       "    </tr>\n",
       "    <tr>\n",
       "      <th>15</th>\n",
       "      <td>84 min</td>\n",
       "      <td>0</td>\n",
       "    </tr>\n",
       "    <tr>\n",
       "      <th>16</th>\n",
       "      <td>66 min</td>\n",
       "      <td>0</td>\n",
       "    </tr>\n",
       "  </tbody>\n",
       "</table>\n",
       "</div>"
      ],
      "text/plain": [
       "      rating  count\n",
       "0      TV-MA   3207\n",
       "1      TV-14   2161\n",
       "2      TV-PG    863\n",
       "3          R    800\n",
       "4      PG-13    490\n",
       "5      TV-Y7    335\n",
       "6       TV-Y    311\n",
       "7         PG    287\n",
       "8       TV-G    220\n",
       "9         NR     80\n",
       "10         G     41\n",
       "11  TV-Y7-FV      6\n",
       "12        UR      3\n",
       "13     NC-17      3\n",
       "14    74 min      0\n",
       "15    84 min      0\n",
       "16    66 min      0"
      ]
     },
     "execution_count": 144,
     "metadata": {},
     "output_type": "execute_result"
    }
   ],
   "source": [
    "ratings = df.groupby([\"rating\"])[\"show_id\"].nunique().sort_values(ascending = False).reset_index()\n",
    "ratings.columns = [\"rating\", \"count\"]\n",
    "ratings"
   ]
  },
  {
   "cell_type": "markdown",
   "id": "d71dbe81",
   "metadata": {},
   "source": [
    "### Top Content producer Countries"
   ]
  },
  {
   "cell_type": "code",
   "execution_count": 145,
   "id": "54cd51a5",
   "metadata": {},
   "outputs": [
    {
     "data": {
      "text/html": [
       "<div>\n",
       "<style scoped>\n",
       "    .dataframe tbody tr th:only-of-type {\n",
       "        vertical-align: middle;\n",
       "    }\n",
       "\n",
       "    .dataframe tbody tr th {\n",
       "        vertical-align: top;\n",
       "    }\n",
       "\n",
       "    .dataframe thead th {\n",
       "        text-align: right;\n",
       "    }\n",
       "</style>\n",
       "<table border=\"1\" class=\"dataframe\">\n",
       "  <thead>\n",
       "    <tr style=\"text-align: right;\">\n",
       "      <th></th>\n",
       "      <th>country</th>\n",
       "      <th>count</th>\n",
       "    </tr>\n",
       "  </thead>\n",
       "  <tbody>\n",
       "    <tr>\n",
       "      <th>0</th>\n",
       "      <td>United States</td>\n",
       "      <td>3689</td>\n",
       "    </tr>\n",
       "    <tr>\n",
       "      <th>1</th>\n",
       "      <td>India</td>\n",
       "      <td>1046</td>\n",
       "    </tr>\n",
       "    <tr>\n",
       "      <th>2</th>\n",
       "      <td>United Kingdom</td>\n",
       "      <td>804</td>\n",
       "    </tr>\n",
       "    <tr>\n",
       "      <th>3</th>\n",
       "      <td>Canada</td>\n",
       "      <td>445</td>\n",
       "    </tr>\n",
       "    <tr>\n",
       "      <th>4</th>\n",
       "      <td>France</td>\n",
       "      <td>393</td>\n",
       "    </tr>\n",
       "    <tr>\n",
       "      <th>5</th>\n",
       "      <td>Japan</td>\n",
       "      <td>318</td>\n",
       "    </tr>\n",
       "    <tr>\n",
       "      <th>6</th>\n",
       "      <td>Spain</td>\n",
       "      <td>232</td>\n",
       "    </tr>\n",
       "    <tr>\n",
       "      <th>7</th>\n",
       "      <td>South Korea</td>\n",
       "      <td>231</td>\n",
       "    </tr>\n",
       "    <tr>\n",
       "      <th>8</th>\n",
       "      <td>Germany</td>\n",
       "      <td>226</td>\n",
       "    </tr>\n",
       "    <tr>\n",
       "      <th>9</th>\n",
       "      <td>Mexico</td>\n",
       "      <td>169</td>\n",
       "    </tr>\n",
       "  </tbody>\n",
       "</table>\n",
       "</div>"
      ],
      "text/plain": [
       "          country  count\n",
       "0   United States   3689\n",
       "1           India   1046\n",
       "2  United Kingdom    804\n",
       "3          Canada    445\n",
       "4          France    393\n",
       "5           Japan    318\n",
       "6           Spain    232\n",
       "7     South Korea    231\n",
       "8         Germany    226\n",
       "9          Mexico    169"
      ]
     },
     "execution_count": 145,
     "metadata": {},
     "output_type": "execute_result"
    }
   ],
   "source": [
    "countries = df.groupby([\"country\"])[\"show_id\"].nunique().sort_values(ascending = False).reset_index()\n",
    "countries.columns = [\"country\", \"count\"]\n",
    "countries = countries.head(10)\n",
    "countries"
   ]
  },
  {
   "cell_type": "code",
   "execution_count": 146,
   "id": "e68003a5",
   "metadata": {},
   "outputs": [
    {
     "data": {
      "text/plain": [
       "Index(['show_id', 'type', 'title', 'director', 'cast', 'country', 'date_added',\n",
       "       'release_year', 'rating', 'duration', 'listed_in', 'description',\n",
       "       'month_added', 'year_added'],\n",
       "      dtype='object')"
      ]
     },
     "execution_count": 146,
     "metadata": {},
     "output_type": "execute_result"
    }
   ],
   "source": [
    "df.columns"
   ]
  },
  {
   "cell_type": "markdown",
   "id": "e43d96ae",
   "metadata": {},
   "source": [
    "### Top Genre - Countrywise"
   ]
  },
  {
   "cell_type": "code",
   "execution_count": 147,
   "id": "379c584d",
   "metadata": {},
   "outputs": [
    {
     "data": {
      "text/html": [
       "<div>\n",
       "<style scoped>\n",
       "    .dataframe tbody tr th:only-of-type {\n",
       "        vertical-align: middle;\n",
       "    }\n",
       "\n",
       "    .dataframe tbody tr th {\n",
       "        vertical-align: top;\n",
       "    }\n",
       "\n",
       "    .dataframe thead th {\n",
       "        text-align: right;\n",
       "    }\n",
       "</style>\n",
       "<table border=\"1\" class=\"dataframe\">\n",
       "  <thead>\n",
       "    <tr style=\"text-align: right;\">\n",
       "      <th></th>\n",
       "      <th>genre</th>\n",
       "      <th>type</th>\n",
       "      <th>count</th>\n",
       "    </tr>\n",
       "  </thead>\n",
       "  <tbody>\n",
       "    <tr>\n",
       "      <th>0</th>\n",
       "      <td>International Movies</td>\n",
       "      <td>Movie</td>\n",
       "      <td>2752</td>\n",
       "    </tr>\n",
       "    <tr>\n",
       "      <th>1</th>\n",
       "      <td>Dramas</td>\n",
       "      <td>Movie</td>\n",
       "      <td>2427</td>\n",
       "    </tr>\n",
       "    <tr>\n",
       "      <th>2</th>\n",
       "      <td>Comedies</td>\n",
       "      <td>Movie</td>\n",
       "      <td>1674</td>\n",
       "    </tr>\n",
       "    <tr>\n",
       "      <th>3</th>\n",
       "      <td>International TV Shows</td>\n",
       "      <td>TV Show</td>\n",
       "      <td>1351</td>\n",
       "    </tr>\n",
       "    <tr>\n",
       "      <th>4</th>\n",
       "      <td>Documentaries</td>\n",
       "      <td>Movie</td>\n",
       "      <td>869</td>\n",
       "    </tr>\n",
       "    <tr>\n",
       "      <th>5</th>\n",
       "      <td>Action &amp; Adventure</td>\n",
       "      <td>Movie</td>\n",
       "      <td>859</td>\n",
       "    </tr>\n",
       "    <tr>\n",
       "      <th>6</th>\n",
       "      <td>TV Dramas</td>\n",
       "      <td>TV Show</td>\n",
       "      <td>763</td>\n",
       "    </tr>\n",
       "    <tr>\n",
       "      <th>7</th>\n",
       "      <td>Independent Movies</td>\n",
       "      <td>Movie</td>\n",
       "      <td>756</td>\n",
       "    </tr>\n",
       "    <tr>\n",
       "      <th>8</th>\n",
       "      <td>Children &amp; Family Movies</td>\n",
       "      <td>Movie</td>\n",
       "      <td>641</td>\n",
       "    </tr>\n",
       "    <tr>\n",
       "      <th>9</th>\n",
       "      <td>Romantic Movies</td>\n",
       "      <td>Movie</td>\n",
       "      <td>616</td>\n",
       "    </tr>\n",
       "  </tbody>\n",
       "</table>\n",
       "</div>"
      ],
      "text/plain": [
       "                      genre     type  count\n",
       "0      International Movies    Movie   2752\n",
       "1                    Dramas    Movie   2427\n",
       "2                  Comedies    Movie   1674\n",
       "3    International TV Shows  TV Show   1351\n",
       "4             Documentaries    Movie    869\n",
       "5        Action & Adventure    Movie    859\n",
       "6                 TV Dramas  TV Show    763\n",
       "7        Independent Movies    Movie    756\n",
       "8  Children & Family Movies    Movie    641\n",
       "9           Romantic Movies    Movie    616"
      ]
     },
     "execution_count": 147,
     "metadata": {},
     "output_type": "execute_result"
    }
   ],
   "source": [
    "genre = df.groupby([\"listed_in\", \"type\"])[\"show_id\"].nunique().sort_values(ascending = False).reset_index()\n",
    "genre.columns = [\"genre\", \"type\", \"count\"]\n",
    "genre = genre.head(10)\n",
    "genre"
   ]
  },
  {
   "cell_type": "markdown",
   "id": "a4d2e0df",
   "metadata": {},
   "source": [
    "### Duration - Countrywise"
   ]
  },
  {
   "cell_type": "code",
   "execution_count": 148,
   "id": "d52820f5",
   "metadata": {},
   "outputs": [],
   "source": [
    "df[[\"duration_val\", \"Sessions/Min\"]] = df[\"duration\"].str.split(\" \", expand = True)\n",
    "df[\"duration_val\"] = df[\"duration_val\"].astype(\"int64\")"
   ]
  },
  {
   "cell_type": "markdown",
   "id": "6d3047cb",
   "metadata": {},
   "source": [
    "#### For Movies"
   ]
  },
  {
   "cell_type": "code",
   "execution_count": 149,
   "id": "903ef5b4",
   "metadata": {},
   "outputs": [
    {
     "data": {
      "text/html": [
       "<div>\n",
       "<style scoped>\n",
       "    .dataframe tbody tr th:only-of-type {\n",
       "        vertical-align: middle;\n",
       "    }\n",
       "\n",
       "    .dataframe tbody tr th {\n",
       "        vertical-align: top;\n",
       "    }\n",
       "\n",
       "    .dataframe thead th {\n",
       "        text-align: right;\n",
       "    }\n",
       "</style>\n",
       "<table border=\"1\" class=\"dataframe\">\n",
       "  <thead>\n",
       "    <tr style=\"text-align: right;\">\n",
       "      <th></th>\n",
       "      <th>mean</th>\n",
       "      <th>min</th>\n",
       "      <th>max</th>\n",
       "    </tr>\n",
       "  </thead>\n",
       "  <tbody>\n",
       "    <tr>\n",
       "      <th>duration_val</th>\n",
       "      <td>106.85579</td>\n",
       "      <td>3.0</td>\n",
       "      <td>312.0</td>\n",
       "    </tr>\n",
       "  </tbody>\n",
       "</table>\n",
       "</div>"
      ],
      "text/plain": [
       "                   mean  min    max\n",
       "duration_val  106.85579  3.0  312.0"
      ]
     },
     "execution_count": 149,
     "metadata": {},
     "output_type": "execute_result"
    }
   ],
   "source": [
    "movies = df.loc[df[\"type\"] == \"Movie\"]\n",
    "movies.describe().T.iloc[-1:,[1,3,-1]]"
   ]
  },
  {
   "cell_type": "code",
   "execution_count": 150,
   "id": "ff6e3ae1",
   "metadata": {},
   "outputs": [
    {
     "name": "stdout",
     "output_type": "stream",
     "text": [
      "Number of Short Duration Films: \n",
      "487\n",
      "Number of Long Duration Movies: \n",
      "5673\n"
     ]
    }
   ],
   "source": [
    "short_films = movies.loc[movies[\"duration_val\"] <= 60][\"title\"].nunique()\n",
    "long_films = movies.loc[movies[\"duration_val\"] >= 60][\"title\"].nunique()\n",
    "\n",
    "print(\"Number of Short Duration Films: \",short_films, \"Number of Long Duration Movies: \", long_films, sep= \"\\n\")"
   ]
  },
  {
   "cell_type": "markdown",
   "id": "12e10a8f",
   "metadata": {},
   "source": [
    "There are 487 short film and 5,673 full duration movies"
   ]
  },
  {
   "cell_type": "markdown",
   "id": "8f78c81b",
   "metadata": {},
   "source": [
    "#### For TV Show"
   ]
  },
  {
   "cell_type": "code",
   "execution_count": 151,
   "id": "013c3a15",
   "metadata": {},
   "outputs": [
    {
     "data": {
      "text/html": [
       "<div>\n",
       "<style scoped>\n",
       "    .dataframe tbody tr th:only-of-type {\n",
       "        vertical-align: middle;\n",
       "    }\n",
       "\n",
       "    .dataframe tbody tr th {\n",
       "        vertical-align: top;\n",
       "    }\n",
       "\n",
       "    .dataframe thead th {\n",
       "        text-align: right;\n",
       "    }\n",
       "</style>\n",
       "<table border=\"1\" class=\"dataframe\">\n",
       "  <thead>\n",
       "    <tr style=\"text-align: right;\">\n",
       "      <th></th>\n",
       "      <th>mean</th>\n",
       "      <th>min</th>\n",
       "      <th>max</th>\n",
       "    </tr>\n",
       "  </thead>\n",
       "  <tbody>\n",
       "    <tr>\n",
       "      <th>duration_val</th>\n",
       "      <td>1.928101</td>\n",
       "      <td>1.0</td>\n",
       "      <td>17.0</td>\n",
       "    </tr>\n",
       "  </tbody>\n",
       "</table>\n",
       "</div>"
      ],
      "text/plain": [
       "                  mean  min   max\n",
       "duration_val  1.928101  1.0  17.0"
      ]
     },
     "execution_count": 151,
     "metadata": {},
     "output_type": "execute_result"
    }
   ],
   "source": [
    "shows = df.loc[df[\"type\"] == \"TV Show\"]\n",
    "shows.describe().T.iloc[-1:,[1,3,-1]]"
   ]
  },
  {
   "cell_type": "code",
   "execution_count": 152,
   "id": "19728f6a",
   "metadata": {},
   "outputs": [
    {
     "data": {
      "text/plain": [
       "array([\"Grey's Anatomy\"], dtype=object)"
      ]
     },
     "execution_count": 152,
     "metadata": {},
     "output_type": "execute_result"
    }
   ],
   "source": [
    "shows.loc[shows.duration_val == 17][\"title\"].unique()"
   ]
  },
  {
   "cell_type": "code",
   "execution_count": 153,
   "id": "b4dbbe86",
   "metadata": {},
   "outputs": [
    {
     "name": "stdout",
     "output_type": "stream",
     "text": [
      "Number of TV Shows with 10 or more seasons:  17\n"
     ]
    }
   ],
   "source": [
    "long_shows = shows.loc[shows.duration_val >= 10][\"title\"].nunique()\n",
    "print(\"Number of TV Shows with 10 or more seasons: \", long_shows)"
   ]
  },
  {
   "cell_type": "markdown",
   "id": "b0795f13",
   "metadata": {},
   "source": [
    "* TV Shows are on an average of 2 seasons\n",
    "* Maximum seasons = 17 of <b> `\"Grey's Anatomy\"` </b> TV Show"
   ]
  },
  {
   "cell_type": "markdown",
   "id": "e6eb7684",
   "metadata": {},
   "source": [
    "## Q4. Visual Analysis <a id = \"7\"></a>\n",
    "- Univariate\n",
    "- Bivariate after pre-processing of the data"
   ]
  },
  {
   "cell_type": "markdown",
   "id": "e7b2db63",
   "metadata": {},
   "source": [
    "### Content Type"
   ]
  },
  {
   "cell_type": "code",
   "execution_count": 154,
   "id": "abe970cc",
   "metadata": {},
   "outputs": [
    {
     "data": {
      "text/plain": [
       "Movie      69.615079\n",
       "TV Show    30.384921\n",
       "Name: type, dtype: float64"
      ]
     },
     "execution_count": 154,
     "metadata": {},
     "output_type": "execute_result"
    }
   ],
   "source": [
    "nd[\"type\"].value_counts(normalize=True)*100"
   ]
  },
  {
   "cell_type": "code",
   "execution_count": 155,
   "id": "58d3500c",
   "metadata": {},
   "outputs": [
    {
     "data": {
      "text/plain": [
       "<AxesSubplot:ylabel='type'>"
      ]
     },
     "execution_count": 155,
     "metadata": {},
     "output_type": "execute_result"
    },
    {
     "data": {
      "image/png": "[encoded data removed]",
      "text/plain": [
       "<Figure size 640x480 with 1 Axes>"
      ]
     },
     "metadata": {},
     "output_type": "display_data"
    }
   ],
   "source": [
    "nd[\"type\"].value_counts().plot(kind= \"pie\", autopct=\"%.2f\")"
   ]
  },
  {
   "cell_type": "markdown",
   "id": "d73b7dfc",
   "metadata": {},
   "source": [
    "### How has the number of movies released per year changed over the years?"
   ]
  },
  {
   "cell_type": "code",
   "execution_count": 156,
   "id": "c6bd4181",
   "metadata": {},
   "outputs": [],
   "source": [
    "df_m = df.loc[df[\"type\"]==\"Movie\"]"
   ]
  },
  {
   "cell_type": "code",
   "execution_count": 157,
   "id": "033487ac",
   "metadata": {},
   "outputs": [
    {
     "data": {
      "text/plain": [
       "Text(0, 0.5, 'Count of Movies')"
      ]
     },
     "execution_count": 157,
     "metadata": {},
     "output_type": "execute_result"
    },
    {
     "data": {
      "image/png": "[encoded data removed]",
      "text/plain": [
       "<Figure size 1000x600 with 1 Axes>"
      ]
     },
     "metadata": {},
     "output_type": "display_data"
    }
   ],
   "source": [
    "plt.figure(figsize = (10,6))\n",
    "plt.bar(df_m.groupby([\"release_year\"])[\"show_id\"].count().index, df_m.groupby([\"release_year\"])[\"show_id\"].count())\n",
    "plt.title(\"YoY Movies Released\")\n",
    "plt.xticks(rotation = 45, fontsize = 12)\n",
    "plt.xlabel(\"Year\")\n",
    "plt.ylabel(\"Count of Movies\")"
   ]
  },
  {
   "cell_type": "code",
   "execution_count": 158,
   "id": "697106ba",
   "metadata": {},
   "outputs": [],
   "source": [
    "# plt.figure(figsize= (10,8))\n",
    "# sns.histplot(data = df, x = \"release_year\", hue = \"type\")"
   ]
  },
  {
   "cell_type": "code",
   "execution_count": 159,
   "id": "61bba096",
   "metadata": {},
   "outputs": [
    {
     "data": {
      "text/plain": [
       "Text(0.5, 1.0, 'YoY Content addition on Netflix Platform')"
      ]
     },
     "execution_count": 159,
     "metadata": {},
     "output_type": "execute_result"
    },
    {
     "data": {
      "image/png": "[encoded data removed]",
      "text/plain": [
       "<Figure size 1000x600 with 1 Axes>"
      ]
     },
     "metadata": {},
     "output_type": "display_data"
    }
   ],
   "source": [
    "plt.figure(figsize=(10,6))\n",
    "sns.countplot(x='year_added',data=df)\n",
    "plt.title(\"YoY Content addition on Netflix Platform\")"
   ]
  },
  {
   "cell_type": "markdown",
   "id": "ce9d798e",
   "metadata": {},
   "source": [
    "### Comparison of tv shows vs. movies wrt countries\n",
    "    "
   ]
  },
  {
   "cell_type": "code",
   "execution_count": 160,
   "id": "dd7ba16e",
   "metadata": {},
   "outputs": [],
   "source": [
    "typ = df.groupby([\"year_added\", \"type\"])[\"title\"].nunique()"
   ]
  },
  {
   "cell_type": "code",
   "execution_count": 161,
   "id": "136a7372",
   "metadata": {},
   "outputs": [
    {
     "data": {
      "text/html": [
       "<div>\n",
       "<style scoped>\n",
       "    .dataframe tbody tr th:only-of-type {\n",
       "        vertical-align: middle;\n",
       "    }\n",
       "\n",
       "    .dataframe tbody tr th {\n",
       "        vertical-align: top;\n",
       "    }\n",
       "\n",
       "    .dataframe thead th {\n",
       "        text-align: right;\n",
       "    }\n",
       "</style>\n",
       "<table border=\"1\" class=\"dataframe\">\n",
       "  <thead>\n",
       "    <tr style=\"text-align: right;\">\n",
       "      <th></th>\n",
       "      <th>year_added</th>\n",
       "      <th>type</th>\n",
       "      <th>title</th>\n",
       "    </tr>\n",
       "  </thead>\n",
       "  <tbody>\n",
       "    <tr>\n",
       "      <th>0</th>\n",
       "      <td>1970</td>\n",
       "      <td>Movie</td>\n",
       "      <td>0</td>\n",
       "    </tr>\n",
       "    <tr>\n",
       "      <th>1</th>\n",
       "      <td>1970</td>\n",
       "      <td>TV Show</td>\n",
       "      <td>10</td>\n",
       "    </tr>\n",
       "    <tr>\n",
       "      <th>2</th>\n",
       "      <td>2008</td>\n",
       "      <td>Movie</td>\n",
       "      <td>1</td>\n",
       "    </tr>\n",
       "    <tr>\n",
       "      <th>3</th>\n",
       "      <td>2008</td>\n",
       "      <td>TV Show</td>\n",
       "      <td>1</td>\n",
       "    </tr>\n",
       "    <tr>\n",
       "      <th>4</th>\n",
       "      <td>2009</td>\n",
       "      <td>Movie</td>\n",
       "      <td>2</td>\n",
       "    </tr>\n",
       "    <tr>\n",
       "      <th>5</th>\n",
       "      <td>2009</td>\n",
       "      <td>TV Show</td>\n",
       "      <td>0</td>\n",
       "    </tr>\n",
       "    <tr>\n",
       "      <th>6</th>\n",
       "      <td>2010</td>\n",
       "      <td>Movie</td>\n",
       "      <td>1</td>\n",
       "    </tr>\n",
       "    <tr>\n",
       "      <th>7</th>\n",
       "      <td>2010</td>\n",
       "      <td>TV Show</td>\n",
       "      <td>0</td>\n",
       "    </tr>\n",
       "    <tr>\n",
       "      <th>8</th>\n",
       "      <td>2011</td>\n",
       "      <td>Movie</td>\n",
       "      <td>13</td>\n",
       "    </tr>\n",
       "    <tr>\n",
       "      <th>9</th>\n",
       "      <td>2011</td>\n",
       "      <td>TV Show</td>\n",
       "      <td>0</td>\n",
       "    </tr>\n",
       "    <tr>\n",
       "      <th>10</th>\n",
       "      <td>2012</td>\n",
       "      <td>Movie</td>\n",
       "      <td>3</td>\n",
       "    </tr>\n",
       "    <tr>\n",
       "      <th>11</th>\n",
       "      <td>2012</td>\n",
       "      <td>TV Show</td>\n",
       "      <td>0</td>\n",
       "    </tr>\n",
       "    <tr>\n",
       "      <th>12</th>\n",
       "      <td>2013</td>\n",
       "      <td>Movie</td>\n",
       "      <td>6</td>\n",
       "    </tr>\n",
       "    <tr>\n",
       "      <th>13</th>\n",
       "      <td>2013</td>\n",
       "      <td>TV Show</td>\n",
       "      <td>5</td>\n",
       "    </tr>\n",
       "    <tr>\n",
       "      <th>14</th>\n",
       "      <td>2014</td>\n",
       "      <td>Movie</td>\n",
       "      <td>19</td>\n",
       "    </tr>\n",
       "    <tr>\n",
       "      <th>15</th>\n",
       "      <td>2014</td>\n",
       "      <td>TV Show</td>\n",
       "      <td>5</td>\n",
       "    </tr>\n",
       "    <tr>\n",
       "      <th>16</th>\n",
       "      <td>2015</td>\n",
       "      <td>Movie</td>\n",
       "      <td>56</td>\n",
       "    </tr>\n",
       "    <tr>\n",
       "      <th>17</th>\n",
       "      <td>2015</td>\n",
       "      <td>TV Show</td>\n",
       "      <td>26</td>\n",
       "    </tr>\n",
       "    <tr>\n",
       "      <th>18</th>\n",
       "      <td>2016</td>\n",
       "      <td>Movie</td>\n",
       "      <td>253</td>\n",
       "    </tr>\n",
       "    <tr>\n",
       "      <th>19</th>\n",
       "      <td>2016</td>\n",
       "      <td>TV Show</td>\n",
       "      <td>176</td>\n",
       "    </tr>\n",
       "    <tr>\n",
       "      <th>20</th>\n",
       "      <td>2017</td>\n",
       "      <td>Movie</td>\n",
       "      <td>839</td>\n",
       "    </tr>\n",
       "    <tr>\n",
       "      <th>21</th>\n",
       "      <td>2017</td>\n",
       "      <td>TV Show</td>\n",
       "      <td>349</td>\n",
       "    </tr>\n",
       "    <tr>\n",
       "      <th>22</th>\n",
       "      <td>2018</td>\n",
       "      <td>Movie</td>\n",
       "      <td>1237</td>\n",
       "    </tr>\n",
       "    <tr>\n",
       "      <th>23</th>\n",
       "      <td>2018</td>\n",
       "      <td>TV Show</td>\n",
       "      <td>412</td>\n",
       "    </tr>\n",
       "    <tr>\n",
       "      <th>24</th>\n",
       "      <td>2019</td>\n",
       "      <td>Movie</td>\n",
       "      <td>1424</td>\n",
       "    </tr>\n",
       "    <tr>\n",
       "      <th>25</th>\n",
       "      <td>2019</td>\n",
       "      <td>TV Show</td>\n",
       "      <td>592</td>\n",
       "    </tr>\n",
       "    <tr>\n",
       "      <th>26</th>\n",
       "      <td>2020</td>\n",
       "      <td>Movie</td>\n",
       "      <td>1284</td>\n",
       "    </tr>\n",
       "    <tr>\n",
       "      <th>27</th>\n",
       "      <td>2020</td>\n",
       "      <td>TV Show</td>\n",
       "      <td>595</td>\n",
       "    </tr>\n",
       "    <tr>\n",
       "      <th>28</th>\n",
       "      <td>2021</td>\n",
       "      <td>Movie</td>\n",
       "      <td>993</td>\n",
       "    </tr>\n",
       "    <tr>\n",
       "      <th>29</th>\n",
       "      <td>2021</td>\n",
       "      <td>TV Show</td>\n",
       "      <td>505</td>\n",
       "    </tr>\n",
       "  </tbody>\n",
       "</table>\n",
       "</div>"
      ],
      "text/plain": [
       "    year_added     type  title\n",
       "0         1970    Movie      0\n",
       "1         1970  TV Show     10\n",
       "2         2008    Movie      1\n",
       "3         2008  TV Show      1\n",
       "4         2009    Movie      2\n",
       "5         2009  TV Show      0\n",
       "6         2010    Movie      1\n",
       "7         2010  TV Show      0\n",
       "8         2011    Movie     13\n",
       "9         2011  TV Show      0\n",
       "10        2012    Movie      3\n",
       "11        2012  TV Show      0\n",
       "12        2013    Movie      6\n",
       "13        2013  TV Show      5\n",
       "14        2014    Movie     19\n",
       "15        2014  TV Show      5\n",
       "16        2015    Movie     56\n",
       "17        2015  TV Show     26\n",
       "18        2016    Movie    253\n",
       "19        2016  TV Show    176\n",
       "20        2017    Movie    839\n",
       "21        2017  TV Show    349\n",
       "22        2018    Movie   1237\n",
       "23        2018  TV Show    412\n",
       "24        2019    Movie   1424\n",
       "25        2019  TV Show    592\n",
       "26        2020    Movie   1284\n",
       "27        2020  TV Show    595\n",
       "28        2021    Movie    993\n",
       "29        2021  TV Show    505"
      ]
     },
     "execution_count": 161,
     "metadata": {},
     "output_type": "execute_result"
    }
   ],
   "source": [
    "typ = typ.reset_index()\n",
    "typ"
   ]
  },
  {
   "cell_type": "code",
   "execution_count": 162,
   "id": "1a0ef69d",
   "metadata": {},
   "outputs": [],
   "source": [
    "typ = pd.pivot(\n",
    "    index = [\"year_added\"], \n",
    "    data = typ, columns = [\"type\"], \n",
    "    values = \"title\").reset_index()"
   ]
  },
  {
   "cell_type": "code",
   "execution_count": 163,
   "id": "7327dae5",
   "metadata": {},
   "outputs": [],
   "source": [
    "typ[\"movie_pct\"] = (typ[\"Movie\"]/(typ[\"Movie\"] + typ[\"TV Show\"])).round(2)\n",
    "typ[\"TV Show_pct\"] = 1-typ[\"movie_pct\"]"
   ]
  },
  {
   "cell_type": "code",
   "execution_count": 164,
   "id": "5fbaf820",
   "metadata": {},
   "outputs": [
    {
     "data": {
      "text/html": [
       "<div>\n",
       "<style scoped>\n",
       "    .dataframe tbody tr th:only-of-type {\n",
       "        vertical-align: middle;\n",
       "    }\n",
       "\n",
       "    .dataframe tbody tr th {\n",
       "        vertical-align: top;\n",
       "    }\n",
       "\n",
       "    .dataframe thead th {\n",
       "        text-align: right;\n",
       "    }\n",
       "</style>\n",
       "<table border=\"1\" class=\"dataframe\">\n",
       "  <thead>\n",
       "    <tr style=\"text-align: right;\">\n",
       "      <th>type</th>\n",
       "      <th>year_added</th>\n",
       "      <th>movie_pct</th>\n",
       "      <th>TV Show_pct</th>\n",
       "    </tr>\n",
       "  </thead>\n",
       "  <tbody>\n",
       "    <tr>\n",
       "      <th>14</th>\n",
       "      <td>2021</td>\n",
       "      <td>0.66</td>\n",
       "      <td>0.34</td>\n",
       "    </tr>\n",
       "    <tr>\n",
       "      <th>13</th>\n",
       "      <td>2020</td>\n",
       "      <td>0.68</td>\n",
       "      <td>0.32</td>\n",
       "    </tr>\n",
       "    <tr>\n",
       "      <th>12</th>\n",
       "      <td>2019</td>\n",
       "      <td>0.71</td>\n",
       "      <td>0.29</td>\n",
       "    </tr>\n",
       "    <tr>\n",
       "      <th>11</th>\n",
       "      <td>2018</td>\n",
       "      <td>0.75</td>\n",
       "      <td>0.25</td>\n",
       "    </tr>\n",
       "    <tr>\n",
       "      <th>10</th>\n",
       "      <td>2017</td>\n",
       "      <td>0.71</td>\n",
       "      <td>0.29</td>\n",
       "    </tr>\n",
       "  </tbody>\n",
       "</table>\n",
       "</div>"
      ],
      "text/plain": [
       "type  year_added  movie_pct  TV Show_pct\n",
       "14          2021       0.66         0.34\n",
       "13          2020       0.68         0.32\n",
       "12          2019       0.71         0.29\n",
       "11          2018       0.75         0.25\n",
       "10          2017       0.71         0.29"
      ]
     },
     "execution_count": 164,
     "metadata": {},
     "output_type": "execute_result"
    }
   ],
   "source": [
    "typ_c = typ.iloc[:-6:-1,[0,3,4]]\n",
    "# typ_c[\"year_added\"] = typ_c[\"year_added\"].astype(\"object\")\n",
    "typ_c"
   ]
  },
  {
   "cell_type": "code",
   "execution_count": 165,
   "id": "e1e0c4db",
   "metadata": {},
   "outputs": [],
   "source": [
    "df1 = df.copy()\n",
    "df1.head(2)\n",
    "df1[\"year_added\"] = df1[\"year_added\"].astype(\"object\")"
   ]
  },
  {
   "cell_type": "code",
   "execution_count": 166,
   "id": "d9f68aed",
   "metadata": {},
   "outputs": [
    {
     "data": {
      "text/plain": [
       "<AxesSubplot:xlabel='year_added', ylabel='count'>"
      ]
     },
     "execution_count": 166,
     "metadata": {},
     "output_type": "execute_result"
    },
    {
     "data": {
      "image/png": "[encoded data removed]",
      "text/plain": [
       "<Figure size 1000x600 with 1 Axes>"
      ]
     },
     "metadata": {},
     "output_type": "display_data"
    }
   ],
   "source": [
    "plt.figure(figsize = (10,6))\n",
    "sns.countplot(data = df1, x = \"year_added\" , hue = \"type\")"
   ]
  },
  {
   "cell_type": "markdown",
   "id": "3a6283ff",
   "metadata": {},
   "source": [
    "### Observations"
   ]
  },
  {
   "cell_type": "markdown",
   "id": "3b6434e8",
   "metadata": {},
   "source": [
    "1. There is no significant and noticable increase in the TV Shows in comparision to Movies in recent years"
   ]
  },
  {
   "cell_type": "markdown",
   "id": "1ca64d78",
   "metadata": {},
   "source": [
    "### What is the best time to launch a TV show?\n"
   ]
  },
  {
   "cell_type": "code",
   "execution_count": 167,
   "id": "faf6a7bf",
   "metadata": {},
   "outputs": [
    {
     "data": {
      "text/plain": [
       "month_added\n",
       "12    266\n",
       "7     262\n",
       "9     251\n",
       "6     236\n",
       "8     236\n",
       "10    215\n",
       "4     214\n",
       "3     213\n",
       "11    207\n",
       "1     202\n",
       "5     193\n",
       "2     181\n",
       "Name: title, dtype: int64"
      ]
     },
     "execution_count": 167,
     "metadata": {},
     "output_type": "execute_result"
    }
   ],
   "source": [
    "df.loc[df[\"type\"] == \"TV Show\"].groupby([\"month_added\"])[\"title\"].nunique().sort_values(ascending = False)"
   ]
  },
  {
   "cell_type": "code",
   "execution_count": 168,
   "id": "c5c86b74",
   "metadata": {},
   "outputs": [
    {
     "data": {
      "text/plain": [
       "Text(0.5, 1.0, 'Netflix content addition in different months')"
      ]
     },
     "execution_count": 168,
     "metadata": {},
     "output_type": "execute_result"
    },
    {
     "data": {
      "image/png": "[encoded data removed]",
      "text/plain": [
       "<Figure size 1000x600 with 1 Axes>"
      ]
     },
     "metadata": {},
     "output_type": "display_data"
    }
   ],
   "source": [
    "plt.figure(figsize= (10,6))\n",
    "sns.countplot(data = df, x = \"month_added\", hue= \"type\")\n",
    "plt.title(\"Netflix content addition in different months\")"
   ]
  },
  {
   "cell_type": "markdown",
   "id": "806ec05d",
   "metadata": {},
   "source": [
    "1. Most of the movies and TV shows released in December, July, and September\n",
    "2. We do not have any such data which suggest whether releasing the show on that particular month was successful or not, thus it can't be concluded that release a show in a particular month will have better chance of getting better customer engagement."
   ]
  },
  {
   "cell_type": "markdown",
   "id": "6f0cf0fd",
   "metadata": {},
   "source": [
    "###    4. Analysis of actors/directors/rating/content/genre of different types of shows/movies."
   ]
  },
  {
   "cell_type": "code",
   "execution_count": 169,
   "id": "b0feeb0e",
   "metadata": {},
   "outputs": [
    {
     "data": {
      "text/html": [
       "<div>\n",
       "<style scoped>\n",
       "    .dataframe tbody tr th:only-of-type {\n",
       "        vertical-align: middle;\n",
       "    }\n",
       "\n",
       "    .dataframe tbody tr th {\n",
       "        vertical-align: top;\n",
       "    }\n",
       "\n",
       "    .dataframe thead th {\n",
       "        text-align: right;\n",
       "    }\n",
       "</style>\n",
       "<table border=\"1\" class=\"dataframe\">\n",
       "  <thead>\n",
       "    <tr style=\"text-align: right;\">\n",
       "      <th></th>\n",
       "      <th>actor</th>\n",
       "      <th>type</th>\n",
       "      <th>count</th>\n",
       "    </tr>\n",
       "  </thead>\n",
       "  <tbody>\n",
       "    <tr>\n",
       "      <th>1</th>\n",
       "      <td>Shah Rukh Khan</td>\n",
       "      <td>Movie</td>\n",
       "      <td>35</td>\n",
       "    </tr>\n",
       "    <tr>\n",
       "      <th>2</th>\n",
       "      <td>Naseeruddin Shah</td>\n",
       "      <td>Movie</td>\n",
       "      <td>32</td>\n",
       "    </tr>\n",
       "    <tr>\n",
       "      <th>3</th>\n",
       "      <td>Akshay Kumar</td>\n",
       "      <td>Movie</td>\n",
       "      <td>30</td>\n",
       "    </tr>\n",
       "    <tr>\n",
       "      <th>4</th>\n",
       "      <td>Om Puri</td>\n",
       "      <td>Movie</td>\n",
       "      <td>30</td>\n",
       "    </tr>\n",
       "    <tr>\n",
       "      <th>5</th>\n",
       "      <td>Paresh Rawal</td>\n",
       "      <td>Movie</td>\n",
       "      <td>28</td>\n",
       "    </tr>\n",
       "    <tr>\n",
       "      <th>6</th>\n",
       "      <td>Julie Tejwani</td>\n",
       "      <td>Movie</td>\n",
       "      <td>28</td>\n",
       "    </tr>\n",
       "    <tr>\n",
       "      <th>7</th>\n",
       "      <td>Amitabh Bachchan</td>\n",
       "      <td>Movie</td>\n",
       "      <td>28</td>\n",
       "    </tr>\n",
       "    <tr>\n",
       "      <th>8</th>\n",
       "      <td>Rupa Bhimani</td>\n",
       "      <td>Movie</td>\n",
       "      <td>27</td>\n",
       "    </tr>\n",
       "    <tr>\n",
       "      <th>9</th>\n",
       "      <td>Boman Irani</td>\n",
       "      <td>Movie</td>\n",
       "      <td>27</td>\n",
       "    </tr>\n",
       "    <tr>\n",
       "      <th>10</th>\n",
       "      <td>Kareena Kapoor</td>\n",
       "      <td>Movie</td>\n",
       "      <td>25</td>\n",
       "    </tr>\n",
       "  </tbody>\n",
       "</table>\n",
       "</div>"
      ],
      "text/plain": [
       "               actor   type  count\n",
       "1     Shah Rukh Khan  Movie     35\n",
       "2   Naseeruddin Shah  Movie     32\n",
       "3       Akshay Kumar  Movie     30\n",
       "4            Om Puri  Movie     30\n",
       "5       Paresh Rawal  Movie     28\n",
       "6      Julie Tejwani  Movie     28\n",
       "7   Amitabh Bachchan  Movie     28\n",
       "8       Rupa Bhimani  Movie     27\n",
       "9        Boman Irani  Movie     27\n",
       "10    Kareena Kapoor  Movie     25"
      ]
     },
     "execution_count": 169,
     "metadata": {},
     "output_type": "execute_result"
    }
   ],
   "source": [
    "m_actors"
   ]
  },
  {
   "cell_type": "code",
   "execution_count": 170,
   "id": "e84ed16d",
   "metadata": {},
   "outputs": [
    {
     "data": {
      "text/html": [
       "<div>\n",
       "<style scoped>\n",
       "    .dataframe tbody tr th:only-of-type {\n",
       "        vertical-align: middle;\n",
       "    }\n",
       "\n",
       "    .dataframe tbody tr th {\n",
       "        vertical-align: top;\n",
       "    }\n",
       "\n",
       "    .dataframe thead th {\n",
       "        text-align: right;\n",
       "    }\n",
       "</style>\n",
       "<table border=\"1\" class=\"dataframe\">\n",
       "  <thead>\n",
       "    <tr style=\"text-align: right;\">\n",
       "      <th></th>\n",
       "      <th>actor</th>\n",
       "      <th>type</th>\n",
       "      <th>count</th>\n",
       "    </tr>\n",
       "  </thead>\n",
       "  <tbody>\n",
       "    <tr>\n",
       "      <th>1</th>\n",
       "      <td>Yuki Kaji</td>\n",
       "      <td>TV Show</td>\n",
       "      <td>19</td>\n",
       "    </tr>\n",
       "    <tr>\n",
       "      <th>2</th>\n",
       "      <td>Daisuke Ono</td>\n",
       "      <td>TV Show</td>\n",
       "      <td>17</td>\n",
       "    </tr>\n",
       "    <tr>\n",
       "      <th>3</th>\n",
       "      <td>Ai Kayano</td>\n",
       "      <td>TV Show</td>\n",
       "      <td>17</td>\n",
       "    </tr>\n",
       "    <tr>\n",
       "      <th>4</th>\n",
       "      <td>Junichi Suwabe</td>\n",
       "      <td>TV Show</td>\n",
       "      <td>17</td>\n",
       "    </tr>\n",
       "    <tr>\n",
       "      <th>5</th>\n",
       "      <td>Yuichi Nakamura</td>\n",
       "      <td>TV Show</td>\n",
       "      <td>16</td>\n",
       "    </tr>\n",
       "    <tr>\n",
       "      <th>6</th>\n",
       "      <td>Jun Fukuyama</td>\n",
       "      <td>TV Show</td>\n",
       "      <td>15</td>\n",
       "    </tr>\n",
       "    <tr>\n",
       "      <th>7</th>\n",
       "      <td>Yoshimasa Hosoya</td>\n",
       "      <td>TV Show</td>\n",
       "      <td>15</td>\n",
       "    </tr>\n",
       "    <tr>\n",
       "      <th>8</th>\n",
       "      <td>David Attenborough</td>\n",
       "      <td>TV Show</td>\n",
       "      <td>14</td>\n",
       "    </tr>\n",
       "    <tr>\n",
       "      <th>9</th>\n",
       "      <td>Vincent Tong</td>\n",
       "      <td>TV Show</td>\n",
       "      <td>13</td>\n",
       "    </tr>\n",
       "    <tr>\n",
       "      <th>10</th>\n",
       "      <td>Takehito Koyasu</td>\n",
       "      <td>TV Show</td>\n",
       "      <td>13</td>\n",
       "    </tr>\n",
       "  </tbody>\n",
       "</table>\n",
       "</div>"
      ],
      "text/plain": [
       "                 actor     type  count\n",
       "1            Yuki Kaji  TV Show     19\n",
       "2          Daisuke Ono  TV Show     17\n",
       "3            Ai Kayano  TV Show     17\n",
       "4       Junichi Suwabe  TV Show     17\n",
       "5      Yuichi Nakamura  TV Show     16\n",
       "6         Jun Fukuyama  TV Show     15\n",
       "7     Yoshimasa Hosoya  TV Show     15\n",
       "8   David Attenborough  TV Show     14\n",
       "9         Vincent Tong  TV Show     13\n",
       "10     Takehito Koyasu  TV Show     13"
      ]
     },
     "execution_count": 170,
     "metadata": {},
     "output_type": "execute_result"
    }
   ],
   "source": [
    "s_actors"
   ]
  },
  {
   "cell_type": "code",
   "execution_count": 171,
   "id": "67610f49",
   "metadata": {},
   "outputs": [
    {
     "data": {
      "text/plain": [
       "Text(0.5, 1.0, 'Top Actors - Movies')"
      ]
     },
     "execution_count": 171,
     "metadata": {},
     "output_type": "execute_result"
    },
    {
     "data": {
      "image/png": "[encoded data removed]",
      "text/plain": [
       "<Figure size 700x500 with 1 Axes>"
      ]
     },
     "metadata": {},
     "output_type": "display_data"
    }
   ],
   "source": [
    "plt.figure(figsize= (7,5))\n",
    "sns.barplot(data = m_actors, x = \"count\", y = \"actor\")\n",
    "plt.title(\"Top Actors - Movies\")"
   ]
  },
  {
   "cell_type": "code",
   "execution_count": 172,
   "id": "60d5545b",
   "metadata": {},
   "outputs": [
    {
     "data": {
      "text/plain": [
       "Text(0.5, 1.0, 'Top Actors - TV Show')"
      ]
     },
     "execution_count": 172,
     "metadata": {},
     "output_type": "execute_result"
    },
    {
     "data": {
      "image/png": "[encoded data removed]",
      "text/plain": [
       "<Figure size 700x500 with 1 Axes>"
      ]
     },
     "metadata": {},
     "output_type": "display_data"
    }
   ],
   "source": [
    "plt.figure(figsize= (7,5))\n",
    "sns.barplot(data = s_actors, x = \"count\", y = \"actor\")\n",
    "plt.title(\"Top Actors - TV Show\")"
   ]
  },
  {
   "cell_type": "code",
   "execution_count": 173,
   "id": "023b5d40",
   "metadata": {},
   "outputs": [
    {
     "data": {
      "text/plain": [
       "Text(0.5, 1.0, 'Top Directors- Movies')"
      ]
     },
     "execution_count": 173,
     "metadata": {},
     "output_type": "execute_result"
    },
    {
     "data": {
      "image/png": "[encoded data removed]",
      "text/plain": [
       "<Figure size 800x600 with 1 Axes>"
      ]
     },
     "metadata": {},
     "output_type": "display_data"
    }
   ],
   "source": [
    "plt.figure(figsize= (8,6))\n",
    "sns.barplot(data = m_directors, x = \"count\", y = \"director\")\n",
    "plt.title(\"Top Directors- Movies\")"
   ]
  },
  {
   "cell_type": "code",
   "execution_count": 174,
   "id": "500f8023",
   "metadata": {},
   "outputs": [
    {
     "data": {
      "text/plain": [
       "Text(0.5, 1.0, 'Top Directors - TV Shows')"
      ]
     },
     "execution_count": 174,
     "metadata": {},
     "output_type": "execute_result"
    },
    {
     "data": {
      "image/png": "[encoded data removed]",
      "text/plain": [
       "<Figure size 800x600 with 1 Axes>"
      ]
     },
     "metadata": {},
     "output_type": "display_data"
    }
   ],
   "source": [
    "plt.figure(figsize= (8,6))\n",
    "sns.barplot(data = s_directors, x = \"count\", y = \"director\")\n",
    "plt.title(\"Top Directors - TV Shows\")"
   ]
  },
  {
   "cell_type": "code",
   "execution_count": 175,
   "id": "f89d9384",
   "metadata": {},
   "outputs": [
    {
     "data": {
      "text/html": [
       "<div>\n",
       "<style scoped>\n",
       "    .dataframe tbody tr th:only-of-type {\n",
       "        vertical-align: middle;\n",
       "    }\n",
       "\n",
       "    .dataframe tbody tr th {\n",
       "        vertical-align: top;\n",
       "    }\n",
       "\n",
       "    .dataframe thead th {\n",
       "        text-align: right;\n",
       "    }\n",
       "</style>\n",
       "<table border=\"1\" class=\"dataframe\">\n",
       "  <thead>\n",
       "    <tr style=\"text-align: right;\">\n",
       "      <th></th>\n",
       "      <th>director</th>\n",
       "      <th>actor</th>\n",
       "      <th>count</th>\n",
       "      <th>ad_pair</th>\n",
       "    </tr>\n",
       "  </thead>\n",
       "  <tbody>\n",
       "    <tr>\n",
       "      <th>0</th>\n",
       "      <td>Rajiv Chilaka</td>\n",
       "      <td>Julie Tejwani</td>\n",
       "      <td>19</td>\n",
       "      <td>Rajiv Chilaka - Julie Tejwani</td>\n",
       "    </tr>\n",
       "    <tr>\n",
       "      <th>1</th>\n",
       "      <td>Rajiv Chilaka</td>\n",
       "      <td>Rajesh Kava</td>\n",
       "      <td>19</td>\n",
       "      <td>Rajiv Chilaka - Rajesh Kava</td>\n",
       "    </tr>\n",
       "    <tr>\n",
       "      <th>2</th>\n",
       "      <td>Rajiv Chilaka</td>\n",
       "      <td>Jigna Bhardwaj</td>\n",
       "      <td>18</td>\n",
       "      <td>Rajiv Chilaka - Jigna Bhardwaj</td>\n",
       "    </tr>\n",
       "    <tr>\n",
       "      <th>3</th>\n",
       "      <td>Rajiv Chilaka</td>\n",
       "      <td>Rupa Bhimani</td>\n",
       "      <td>18</td>\n",
       "      <td>Rajiv Chilaka - Rupa Bhimani</td>\n",
       "    </tr>\n",
       "    <tr>\n",
       "      <th>4</th>\n",
       "      <td>Rajiv Chilaka</td>\n",
       "      <td>Vatsal Dubey</td>\n",
       "      <td>16</td>\n",
       "      <td>Rajiv Chilaka - Vatsal Dubey</td>\n",
       "    </tr>\n",
       "    <tr>\n",
       "      <th>5</th>\n",
       "      <td>Rajiv Chilaka</td>\n",
       "      <td>Swapnil</td>\n",
       "      <td>13</td>\n",
       "      <td>Rajiv Chilaka - Swapnil</td>\n",
       "    </tr>\n",
       "    <tr>\n",
       "      <th>6</th>\n",
       "      <td>Rajiv Chilaka</td>\n",
       "      <td>Mousam</td>\n",
       "      <td>13</td>\n",
       "      <td>Rajiv Chilaka - Mousam</td>\n",
       "    </tr>\n",
       "    <tr>\n",
       "      <th>7</th>\n",
       "      <td>Suhas Kadav</td>\n",
       "      <td>Saurav Chakraborty</td>\n",
       "      <td>8</td>\n",
       "      <td>Suhas Kadav - Saurav Chakraborty</td>\n",
       "    </tr>\n",
       "    <tr>\n",
       "      <th>8</th>\n",
       "      <td>Yılmaz Erdoğan</td>\n",
       "      <td>Yılmaz Erdoğan</td>\n",
       "      <td>7</td>\n",
       "      <td>Yılmaz Erdoğan - Yılmaz Erdoğan</td>\n",
       "    </tr>\n",
       "    <tr>\n",
       "      <th>9</th>\n",
       "      <td>S.S. Rajamouli</td>\n",
       "      <td>Sathyaraj</td>\n",
       "      <td>7</td>\n",
       "      <td>S.S. Rajamouli - Sathyaraj</td>\n",
       "    </tr>\n",
       "  </tbody>\n",
       "</table>\n",
       "</div>"
      ],
      "text/plain": [
       "         director               actor  count                           ad_pair\n",
       "0   Rajiv Chilaka       Julie Tejwani     19     Rajiv Chilaka - Julie Tejwani\n",
       "1   Rajiv Chilaka         Rajesh Kava     19       Rajiv Chilaka - Rajesh Kava\n",
       "2   Rajiv Chilaka      Jigna Bhardwaj     18    Rajiv Chilaka - Jigna Bhardwaj\n",
       "3   Rajiv Chilaka        Rupa Bhimani     18      Rajiv Chilaka - Rupa Bhimani\n",
       "4   Rajiv Chilaka        Vatsal Dubey     16      Rajiv Chilaka - Vatsal Dubey\n",
       "5   Rajiv Chilaka             Swapnil     13           Rajiv Chilaka - Swapnil\n",
       "6   Rajiv Chilaka              Mousam     13            Rajiv Chilaka - Mousam\n",
       "7     Suhas Kadav  Saurav Chakraborty      8  Suhas Kadav - Saurav Chakraborty\n",
       "8  Yılmaz Erdoğan      Yılmaz Erdoğan      7   Yılmaz Erdoğan - Yılmaz Erdoğan\n",
       "9  S.S. Rajamouli           Sathyaraj      7        S.S. Rajamouli - Sathyaraj"
      ]
     },
     "execution_count": 175,
     "metadata": {},
     "output_type": "execute_result"
    }
   ],
   "source": [
    "ad_pair[\"ad_pair\"] = ad_pair[\"director\"] + \" - \" + ad_pair[\"actor\"]\n",
    "ad_pair"
   ]
  },
  {
   "cell_type": "code",
   "execution_count": 176,
   "id": "e05d08f9",
   "metadata": {},
   "outputs": [
    {
     "data": {
      "text/plain": [
       "Text(0.5, 1.0, 'Top Director_Actor Pair')"
      ]
     },
     "execution_count": 176,
     "metadata": {},
     "output_type": "execute_result"
    },
    {
     "data": {
      "image/png": "[encoded data removed]",
      "text/plain": [
       "<Figure size 800x400 with 1 Axes>"
      ]
     },
     "metadata": {},
     "output_type": "display_data"
    }
   ],
   "source": [
    "plt.figure(figsize= (8,4))\n",
    "sns.barplot(data = ad_pair, x = \"count\", y = \"ad_pair\")\n",
    "plt.title(\"Top Director_Actor Pair\")"
   ]
  },
  {
   "cell_type": "code",
   "execution_count": 177,
   "id": "e8ee0579",
   "metadata": {},
   "outputs": [
    {
     "data": {
      "text/plain": [
       "Text(0.5, 1.0, 'Genre')"
      ]
     },
     "execution_count": 177,
     "metadata": {},
     "output_type": "execute_result"
    },
    {
     "data": {
      "image/png": "[encoded data removed]",
      "text/plain": [
       "<Figure size 800x600 with 1 Axes>"
      ]
     },
     "metadata": {},
     "output_type": "display_data"
    }
   ],
   "source": [
    "plt.figure(figsize= (8,6))\n",
    "sns.barplot(data = genre, y= \"genre\", x = \"count\")\n",
    "plt.title(\"Genre\")\n"
   ]
  },
  {
   "cell_type": "code",
   "execution_count": 178,
   "id": "ef37a74c",
   "metadata": {},
   "outputs": [
    {
     "data": {
      "text/plain": [
       "Text(0.5, 1.0, 'Ratings')"
      ]
     },
     "execution_count": 178,
     "metadata": {},
     "output_type": "execute_result"
    },
    {
     "data": {
      "image/png": "[encoded data removed]",
      "text/plain": [
       "<Figure size 1000x400 with 1 Axes>"
      ]
     },
     "metadata": {},
     "output_type": "display_data"
    }
   ],
   "source": [
    "plt.figure(figsize= (10,4))\n",
    "sns.barplot(data = ratings, x= \"rating\", y = \"count\")\n",
    "plt.title(\"Ratings\")"
   ]
  },
  {
   "cell_type": "markdown",
   "id": "ce72629b",
   "metadata": {},
   "source": [
    "### Understanding what content is available in different countries"
   ]
  },
  {
   "cell_type": "code",
   "execution_count": 179,
   "id": "b8e0e6f1",
   "metadata": {},
   "outputs": [
    {
     "data": {
      "text/html": [
       "<div>\n",
       "<style scoped>\n",
       "    .dataframe tbody tr th:only-of-type {\n",
       "        vertical-align: middle;\n",
       "    }\n",
       "\n",
       "    .dataframe tbody tr th {\n",
       "        vertical-align: top;\n",
       "    }\n",
       "\n",
       "    .dataframe thead th {\n",
       "        text-align: right;\n",
       "    }\n",
       "</style>\n",
       "<table border=\"1\" class=\"dataframe\">\n",
       "  <thead>\n",
       "    <tr style=\"text-align: right;\">\n",
       "      <th></th>\n",
       "      <th>country</th>\n",
       "      <th>title</th>\n",
       "    </tr>\n",
       "  </thead>\n",
       "  <tbody>\n",
       "    <tr>\n",
       "      <th>0</th>\n",
       "      <td>United States</td>\n",
       "      <td>3689</td>\n",
       "    </tr>\n",
       "    <tr>\n",
       "      <th>1</th>\n",
       "      <td>India</td>\n",
       "      <td>1046</td>\n",
       "    </tr>\n",
       "    <tr>\n",
       "      <th>2</th>\n",
       "      <td>United Kingdom</td>\n",
       "      <td>804</td>\n",
       "    </tr>\n",
       "    <tr>\n",
       "      <th>3</th>\n",
       "      <td>Canada</td>\n",
       "      <td>445</td>\n",
       "    </tr>\n",
       "    <tr>\n",
       "      <th>4</th>\n",
       "      <td>France</td>\n",
       "      <td>393</td>\n",
       "    </tr>\n",
       "    <tr>\n",
       "      <th>...</th>\n",
       "      <td>...</td>\n",
       "      <td>...</td>\n",
       "    </tr>\n",
       "    <tr>\n",
       "      <th>122</th>\n",
       "      <td>Kazakhstan</td>\n",
       "      <td>1</td>\n",
       "    </tr>\n",
       "    <tr>\n",
       "      <th>123</th>\n",
       "      <td>Jamaica</td>\n",
       "      <td>1</td>\n",
       "    </tr>\n",
       "    <tr>\n",
       "      <th>124</th>\n",
       "      <td>Slovakia</td>\n",
       "      <td>1</td>\n",
       "    </tr>\n",
       "    <tr>\n",
       "      <th>125</th>\n",
       "      <td>Somalia</td>\n",
       "      <td>1</td>\n",
       "    </tr>\n",
       "    <tr>\n",
       "      <th>126</th>\n",
       "      <td>Lithuania</td>\n",
       "      <td>1</td>\n",
       "    </tr>\n",
       "  </tbody>\n",
       "</table>\n",
       "<p>127 rows × 2 columns</p>\n",
       "</div>"
      ],
      "text/plain": [
       "            country  title\n",
       "0     United States   3689\n",
       "1             India   1046\n",
       "2    United Kingdom    804\n",
       "3            Canada    445\n",
       "4            France    393\n",
       "..              ...    ...\n",
       "122      Kazakhstan      1\n",
       "123         Jamaica      1\n",
       "124        Slovakia      1\n",
       "125         Somalia      1\n",
       "126       Lithuania      1\n",
       "\n",
       "[127 rows x 2 columns]"
      ]
     },
     "execution_count": 179,
     "metadata": {},
     "output_type": "execute_result"
    }
   ],
   "source": [
    "cntry = df.groupby([\"country\"])[\"title\"].nunique().sort_values(ascending = False)\n",
    "cntry = cntry.reset_index()\n",
    "cntry"
   ]
  },
  {
   "cell_type": "code",
   "execution_count": 180,
   "id": "4e88f222",
   "metadata": {},
   "outputs": [
    {
     "data": {
      "text/html": [
       "<div>\n",
       "<style scoped>\n",
       "    .dataframe tbody tr th:only-of-type {\n",
       "        vertical-align: middle;\n",
       "    }\n",
       "\n",
       "    .dataframe tbody tr th {\n",
       "        vertical-align: top;\n",
       "    }\n",
       "\n",
       "    .dataframe thead th {\n",
       "        text-align: right;\n",
       "    }\n",
       "</style>\n",
       "<table border=\"1\" class=\"dataframe\">\n",
       "  <thead>\n",
       "    <tr style=\"text-align: right;\">\n",
       "      <th></th>\n",
       "      <th>country</th>\n",
       "      <th>title</th>\n",
       "    </tr>\n",
       "  </thead>\n",
       "  <tbody>\n",
       "    <tr>\n",
       "      <th>0</th>\n",
       "      <td>United States</td>\n",
       "      <td>3689</td>\n",
       "    </tr>\n",
       "    <tr>\n",
       "      <th>1</th>\n",
       "      <td>India</td>\n",
       "      <td>1046</td>\n",
       "    </tr>\n",
       "    <tr>\n",
       "      <th>2</th>\n",
       "      <td>United Kingdom</td>\n",
       "      <td>804</td>\n",
       "    </tr>\n",
       "    <tr>\n",
       "      <th>3</th>\n",
       "      <td>Canada</td>\n",
       "      <td>445</td>\n",
       "    </tr>\n",
       "    <tr>\n",
       "      <th>4</th>\n",
       "      <td>France</td>\n",
       "      <td>393</td>\n",
       "    </tr>\n",
       "    <tr>\n",
       "      <th>5</th>\n",
       "      <td>Japan</td>\n",
       "      <td>318</td>\n",
       "    </tr>\n",
       "    <tr>\n",
       "      <th>6</th>\n",
       "      <td>Spain</td>\n",
       "      <td>232</td>\n",
       "    </tr>\n",
       "    <tr>\n",
       "      <th>7</th>\n",
       "      <td>South Korea</td>\n",
       "      <td>231</td>\n",
       "    </tr>\n",
       "    <tr>\n",
       "      <th>8</th>\n",
       "      <td>Germany</td>\n",
       "      <td>226</td>\n",
       "    </tr>\n",
       "    <tr>\n",
       "      <th>9</th>\n",
       "      <td>Mexico</td>\n",
       "      <td>169</td>\n",
       "    </tr>\n",
       "    <tr>\n",
       "      <th>10</th>\n",
       "      <td>China</td>\n",
       "      <td>162</td>\n",
       "    </tr>\n",
       "    <tr>\n",
       "      <th>11</th>\n",
       "      <td>Australia</td>\n",
       "      <td>160</td>\n",
       "    </tr>\n",
       "    <tr>\n",
       "      <th>12</th>\n",
       "      <td>Egypt</td>\n",
       "      <td>117</td>\n",
       "    </tr>\n",
       "    <tr>\n",
       "      <th>13</th>\n",
       "      <td>Turkey</td>\n",
       "      <td>113</td>\n",
       "    </tr>\n",
       "    <tr>\n",
       "      <th>14</th>\n",
       "      <td>Hong Kong</td>\n",
       "      <td>105</td>\n",
       "    </tr>\n",
       "    <tr>\n",
       "      <th>15</th>\n",
       "      <td>Nigeria</td>\n",
       "      <td>103</td>\n",
       "    </tr>\n",
       "    <tr>\n",
       "      <th>16</th>\n",
       "      <td>Italy</td>\n",
       "      <td>100</td>\n",
       "    </tr>\n",
       "    <tr>\n",
       "      <th>17</th>\n",
       "      <td>Brazil</td>\n",
       "      <td>97</td>\n",
       "    </tr>\n",
       "    <tr>\n",
       "      <th>18</th>\n",
       "      <td>Argentina</td>\n",
       "      <td>91</td>\n",
       "    </tr>\n",
       "    <tr>\n",
       "      <th>19</th>\n",
       "      <td>Indonesia</td>\n",
       "      <td>90</td>\n",
       "    </tr>\n",
       "  </tbody>\n",
       "</table>\n",
       "</div>"
      ],
      "text/plain": [
       "           country  title\n",
       "0    United States   3689\n",
       "1            India   1046\n",
       "2   United Kingdom    804\n",
       "3           Canada    445\n",
       "4           France    393\n",
       "5            Japan    318\n",
       "6            Spain    232\n",
       "7      South Korea    231\n",
       "8          Germany    226\n",
       "9           Mexico    169\n",
       "10           China    162\n",
       "11       Australia    160\n",
       "12           Egypt    117\n",
       "13          Turkey    113\n",
       "14       Hong Kong    105\n",
       "15         Nigeria    103\n",
       "16           Italy    100\n",
       "17          Brazil     97\n",
       "18       Argentina     91\n",
       "19       Indonesia     90"
      ]
     },
     "execution_count": 180,
     "metadata": {},
     "output_type": "execute_result"
    }
   ],
   "source": [
    "cntry[:20]"
   ]
  },
  {
   "cell_type": "code",
   "execution_count": 181,
   "id": "3dd4e440",
   "metadata": {},
   "outputs": [
    {
     "data": {
      "image/png": "[encoded data removed]",
      "text/plain": [
       "<Figure size 1200x1000 with 1 Axes>"
      ]
     },
     "metadata": {},
     "output_type": "display_data"
    }
   ],
   "source": [
    "plt.figure(figsize=(12,10))\n",
    "sns.barplot(y = cntry.country[:20], x = cntry.title)\n",
    "plt.title(\"Top 15 Countries Contributor on Netflix\")\n",
    "plt.xlabel(\"Titles\")\n",
    "plt.ylabel(\"Country\")\n",
    "plt.show()"
   ]
  },
  {
   "cell_type": "code",
   "execution_count": 182,
   "id": "872fb505",
   "metadata": {},
   "outputs": [
    {
     "data": {
      "text/plain": [
       "array(['United States', 'India', 'United Kingdom', 'Canada', 'France'],\n",
       "      dtype=object)"
      ]
     },
     "execution_count": 182,
     "metadata": {},
     "output_type": "execute_result"
    }
   ],
   "source": [
    "top_cntry = cntry.country[:5].values\n",
    "top_cntry"
   ]
  },
  {
   "cell_type": "code",
   "execution_count": 183,
   "id": "33aa3157",
   "metadata": {},
   "outputs": [],
   "source": [
    "df_tc = df.loc[df[\"country\"].isin(top_cntry)]"
   ]
  },
  {
   "cell_type": "code",
   "execution_count": 184,
   "id": "886db9f0",
   "metadata": {},
   "outputs": [
    {
     "data": {
      "text/html": [
       "<div>\n",
       "<style scoped>\n",
       "    .dataframe tbody tr th:only-of-type {\n",
       "        vertical-align: middle;\n",
       "    }\n",
       "\n",
       "    .dataframe tbody tr th {\n",
       "        vertical-align: top;\n",
       "    }\n",
       "\n",
       "    .dataframe thead th {\n",
       "        text-align: right;\n",
       "    }\n",
       "</style>\n",
       "<table border=\"1\" class=\"dataframe\">\n",
       "  <thead>\n",
       "    <tr style=\"text-align: right;\">\n",
       "      <th></th>\n",
       "      <th>country</th>\n",
       "      <th>listed_in</th>\n",
       "      <th>title</th>\n",
       "    </tr>\n",
       "  </thead>\n",
       "  <tbody>\n",
       "    <tr>\n",
       "      <th>5</th>\n",
       "      <td>Canada</td>\n",
       "      <td>Comedies</td>\n",
       "      <td>94</td>\n",
       "    </tr>\n",
       "    <tr>\n",
       "      <th>10</th>\n",
       "      <td>Canada</td>\n",
       "      <td>Dramas</td>\n",
       "      <td>82</td>\n",
       "    </tr>\n",
       "    <tr>\n",
       "      <th>3</th>\n",
       "      <td>Canada</td>\n",
       "      <td>Children &amp; Family Movies</td>\n",
       "      <td>80</td>\n",
       "    </tr>\n",
       "    <tr>\n",
       "      <th>50</th>\n",
       "      <td>France</td>\n",
       "      <td>International Movies</td>\n",
       "      <td>207</td>\n",
       "    </tr>\n",
       "    <tr>\n",
       "      <th>46</th>\n",
       "      <td>France</td>\n",
       "      <td>Dramas</td>\n",
       "      <td>167</td>\n",
       "    </tr>\n",
       "    <tr>\n",
       "      <th>49</th>\n",
       "      <td>France</td>\n",
       "      <td>Independent Movies</td>\n",
       "      <td>73</td>\n",
       "    </tr>\n",
       "    <tr>\n",
       "      <th>85</th>\n",
       "      <td>India</td>\n",
       "      <td>International Movies</td>\n",
       "      <td>864</td>\n",
       "    </tr>\n",
       "    <tr>\n",
       "      <th>81</th>\n",
       "      <td>India</td>\n",
       "      <td>Dramas</td>\n",
       "      <td>662</td>\n",
       "    </tr>\n",
       "    <tr>\n",
       "      <th>76</th>\n",
       "      <td>India</td>\n",
       "      <td>Comedies</td>\n",
       "      <td>323</td>\n",
       "    </tr>\n",
       "    <tr>\n",
       "      <th>108</th>\n",
       "      <td>United Kingdom</td>\n",
       "      <td>British TV Shows</td>\n",
       "      <td>225</td>\n",
       "    </tr>\n",
       "    <tr>\n",
       "      <th>117</th>\n",
       "      <td>United Kingdom</td>\n",
       "      <td>Dramas</td>\n",
       "      <td>196</td>\n",
       "    </tr>\n",
       "    <tr>\n",
       "      <th>121</th>\n",
       "      <td>United Kingdom</td>\n",
       "      <td>International Movies</td>\n",
       "      <td>168</td>\n",
       "    </tr>\n",
       "    <tr>\n",
       "      <th>156</th>\n",
       "      <td>United States</td>\n",
       "      <td>Dramas</td>\n",
       "      <td>835</td>\n",
       "    </tr>\n",
       "    <tr>\n",
       "      <th>151</th>\n",
       "      <td>United States</td>\n",
       "      <td>Comedies</td>\n",
       "      <td>680</td>\n",
       "    </tr>\n",
       "    <tr>\n",
       "      <th>154</th>\n",
       "      <td>United States</td>\n",
       "      <td>Documentaries</td>\n",
       "      <td>511</td>\n",
       "    </tr>\n",
       "  </tbody>\n",
       "</table>\n",
       "</div>"
      ],
      "text/plain": [
       "            country                 listed_in  title\n",
       "5            Canada                  Comedies     94\n",
       "10           Canada                    Dramas     82\n",
       "3            Canada  Children & Family Movies     80\n",
       "50           France      International Movies    207\n",
       "46           France                    Dramas    167\n",
       "49           France        Independent Movies     73\n",
       "85            India      International Movies    864\n",
       "81            India                    Dramas    662\n",
       "76            India                  Comedies    323\n",
       "108  United Kingdom          British TV Shows    225\n",
       "117  United Kingdom                    Dramas    196\n",
       "121  United Kingdom      International Movies    168\n",
       "156   United States                    Dramas    835\n",
       "151   United States                  Comedies    680\n",
       "154   United States             Documentaries    511"
      ]
     },
     "execution_count": 184,
     "metadata": {},
     "output_type": "execute_result"
    }
   ],
   "source": [
    "genre = df_tc.groupby([\"country\", \"listed_in\"])[\"title\"].nunique().reset_index()\n",
    "genre = genre.sort_values(by = [\"country\", \"title\"], ascending = [True, False])\n",
    "gnr = genre.groupby(\"country\").head(3)\n",
    "gnr"
   ]
  },
  {
   "cell_type": "code",
   "execution_count": 185,
   "id": "c7e97179",
   "metadata": {},
   "outputs": [
    {
     "data": {
      "text/plain": [
       "<AxesSubplot:xlabel='country', ylabel='title'>"
      ]
     },
     "execution_count": 185,
     "metadata": {},
     "output_type": "execute_result"
    },
    {
     "data": {
      "image/png": "[encoded data removed]",
      "text/plain": [
       "<Figure size 1000x600 with 1 Axes>"
      ]
     },
     "metadata": {},
     "output_type": "display_data"
    }
   ],
   "source": [
    "plt.figure(figsize = (10,6))\n",
    "sns.barplot(data = gnr, x='country', y = \"title\" , hue='listed_in' )"
   ]
  },
  {
   "cell_type": "markdown",
   "id": "1e7145c4",
   "metadata": {},
   "source": [
    "Note: Pre-processing involves unnesting of the data in columns like Actor, Director, Country\n",
    "1. For continuous variable(s): Distplot, countplot, histogram for univariate analysis\n",
    "2. For categorical variable(s): Boxplot\n",
    "3. For correlation: Heatmaps, Pairplots"
   ]
  },
  {
   "cell_type": "markdown",
   "id": "64bfe00b",
   "metadata": {},
   "source": [
    "## Q5. Missing Value & Outlier check <a id = \"8\"></a>\n",
    "(Treatment optional) "
   ]
  },
  {
   "cell_type": "markdown",
   "id": "3dc5e537",
   "metadata": {},
   "source": [
    "### 5.1 Missing values and outliers detection"
   ]
  },
  {
   "cell_type": "code",
   "execution_count": 186,
   "id": "d42ac764",
   "metadata": {},
   "outputs": [
    {
     "data": {
      "text/plain": [
       "show_id             0\n",
       "type                0\n",
       "title               0\n",
       "director        50643\n",
       "cast             2146\n",
       "country         11897\n",
       "date_added          0\n",
       "release_year        0\n",
       "rating              0\n",
       "duration            0\n",
       "listed_in           0\n",
       "description         0\n",
       "month_added         0\n",
       "year_added          0\n",
       "duration_val        0\n",
       "Sessions/Min        0\n",
       "dtype: int64"
      ]
     },
     "execution_count": 186,
     "metadata": {},
     "output_type": "execute_result"
    }
   ],
   "source": [
    "df.isnull().sum()"
   ]
  },
  {
   "cell_type": "code",
   "execution_count": 187,
   "id": "08ca6160",
   "metadata": {},
   "outputs": [
    {
     "data": {
      "text/plain": [
       "show_id          0.000000\n",
       "type             0.000000\n",
       "title            0.000000\n",
       "director        25.071909\n",
       "cast             1.062424\n",
       "country          5.889866\n",
       "date_added       0.000000\n",
       "release_year     0.000000\n",
       "rating           0.000000\n",
       "duration         0.000000\n",
       "listed_in        0.000000\n",
       "description      0.000000\n",
       "month_added      0.000000\n",
       "year_added       0.000000\n",
       "duration_val     0.000000\n",
       "Sessions/Min     0.000000\n",
       "dtype: float64"
      ]
     },
     "execution_count": 187,
     "metadata": {},
     "output_type": "execute_result"
    }
   ],
   "source": [
    "df.isnull().sum()*100/len(df)"
   ]
  },
  {
   "cell_type": "code",
   "execution_count": 188,
   "id": "59e5c97a",
   "metadata": {},
   "outputs": [
    {
     "name": "stdout",
     "output_type": "stream",
     "text": [
      "<class 'pandas.core.frame.DataFrame'>\n",
      "Int64Index: 0 entries\n",
      "Data columns (total 16 columns):\n",
      " #   Column        Non-Null Count  Dtype         \n",
      "---  ------        --------------  -----         \n",
      " 0   show_id       0 non-null      object        \n",
      " 1   type          0 non-null      category      \n",
      " 2   title         0 non-null      object        \n",
      " 3   director      0 non-null      object        \n",
      " 4   cast          0 non-null      object        \n",
      " 5   country       0 non-null      object        \n",
      " 6   date_added    0 non-null      datetime64[ns]\n",
      " 7   release_year  0 non-null      int64         \n",
      " 8   rating        0 non-null      category      \n",
      " 9   duration      0 non-null      object        \n",
      " 10  listed_in     0 non-null      object        \n",
      " 11  description   0 non-null      object        \n",
      " 12  month_added   0 non-null      Int64         \n",
      " 13  year_added    0 non-null      Int64         \n",
      " 14  duration_val  0 non-null      int64         \n",
      " 15  Sessions/Min  0 non-null      object        \n",
      "dtypes: Int64(2), category(2), datetime64[ns](1), int64(2), object(9)\n",
      "memory usage: 816.0+ bytes\n"
     ]
    }
   ],
   "source": [
    "df.loc[df[\"date_added\"].isna()].info()"
   ]
  },
  {
   "cell_type": "markdown",
   "id": "c2a5be8c",
   "metadata": {},
   "source": [
    "### Exploration of unnested dataframe"
   ]
  },
  {
   "cell_type": "code",
   "execution_count": 189,
   "id": "02b027d3",
   "metadata": {},
   "outputs": [
    {
     "data": {
      "text/plain": [
       "(201991, 16)"
      ]
     },
     "execution_count": 189,
     "metadata": {},
     "output_type": "execute_result"
    }
   ],
   "source": [
    "df.shape"
   ]
  },
  {
   "cell_type": "code",
   "execution_count": 190,
   "id": "3d37b770",
   "metadata": {},
   "outputs": [
    {
     "data": {
      "text/html": [
       "<div>\n",
       "<style scoped>\n",
       "    .dataframe tbody tr th:only-of-type {\n",
       "        vertical-align: middle;\n",
       "    }\n",
       "\n",
       "    .dataframe tbody tr th {\n",
       "        vertical-align: top;\n",
       "    }\n",
       "\n",
       "    .dataframe thead th {\n",
       "        text-align: right;\n",
       "    }\n",
       "</style>\n",
       "<table border=\"1\" class=\"dataframe\">\n",
       "  <thead>\n",
       "    <tr style=\"text-align: right;\">\n",
       "      <th></th>\n",
       "      <th>count</th>\n",
       "      <th>unique</th>\n",
       "      <th>top</th>\n",
       "      <th>freq</th>\n",
       "    </tr>\n",
       "  </thead>\n",
       "  <tbody>\n",
       "    <tr>\n",
       "      <th>show_id</th>\n",
       "      <td>201991</td>\n",
       "      <td>8807</td>\n",
       "      <td>s7165</td>\n",
       "      <td>700</td>\n",
       "    </tr>\n",
       "    <tr>\n",
       "      <th>title</th>\n",
       "      <td>201991</td>\n",
       "      <td>8807</td>\n",
       "      <td>Kahlil Gibran's The Prophet</td>\n",
       "      <td>700</td>\n",
       "    </tr>\n",
       "    <tr>\n",
       "      <th>director</th>\n",
       "      <td>151348</td>\n",
       "      <td>4993</td>\n",
       "      <td>Martin Scorsese</td>\n",
       "      <td>419</td>\n",
       "    </tr>\n",
       "    <tr>\n",
       "      <th>cast</th>\n",
       "      <td>199845</td>\n",
       "      <td>36439</td>\n",
       "      <td>Liam Neeson</td>\n",
       "      <td>161</td>\n",
       "    </tr>\n",
       "    <tr>\n",
       "      <th>country</th>\n",
       "      <td>190094</td>\n",
       "      <td>127</td>\n",
       "      <td>United States</td>\n",
       "      <td>59349</td>\n",
       "    </tr>\n",
       "    <tr>\n",
       "      <th>duration</th>\n",
       "      <td>201991</td>\n",
       "      <td>220</td>\n",
       "      <td>1 Season</td>\n",
       "      <td>35035</td>\n",
       "    </tr>\n",
       "    <tr>\n",
       "      <th>listed_in</th>\n",
       "      <td>201991</td>\n",
       "      <td>42</td>\n",
       "      <td>Dramas</td>\n",
       "      <td>29775</td>\n",
       "    </tr>\n",
       "    <tr>\n",
       "      <th>description</th>\n",
       "      <td>201991</td>\n",
       "      <td>8775</td>\n",
       "      <td>A troubled young girl and her mother find sola...</td>\n",
       "      <td>700</td>\n",
       "    </tr>\n",
       "    <tr>\n",
       "      <th>Sessions/Min</th>\n",
       "      <td>201991</td>\n",
       "      <td>3</td>\n",
       "      <td>min</td>\n",
       "      <td>145843</td>\n",
       "    </tr>\n",
       "  </tbody>\n",
       "</table>\n",
       "</div>"
      ],
      "text/plain": [
       "               count unique  \\\n",
       "show_id       201991   8807   \n",
       "title         201991   8807   \n",
       "director      151348   4993   \n",
       "cast          199845  36439   \n",
       "country       190094    127   \n",
       "duration      201991    220   \n",
       "listed_in     201991     42   \n",
       "description   201991   8775   \n",
       "Sessions/Min  201991      3   \n",
       "\n",
       "                                                            top    freq  \n",
       "show_id                                                   s7165     700  \n",
       "title                               Kahlil Gibran's The Prophet     700  \n",
       "director                                        Martin Scorsese     419  \n",
       "cast                                                Liam Neeson     161  \n",
       "country                                           United States   59349  \n",
       "duration                                               1 Season   35035  \n",
       "listed_in                                                Dramas   29775  \n",
       "description   A troubled young girl and her mother find sola...     700  \n",
       "Sessions/Min                                                min  145843  "
      ]
     },
     "execution_count": 190,
     "metadata": {},
     "output_type": "execute_result"
    }
   ],
   "source": [
    "df.describe(include = object).T"
   ]
  },
  {
   "cell_type": "code",
   "execution_count": 191,
   "id": "fba10aaf",
   "metadata": {},
   "outputs": [
    {
     "data": {
      "text/html": [
       "<div>\n",
       "<style scoped>\n",
       "    .dataframe tbody tr th:only-of-type {\n",
       "        vertical-align: middle;\n",
       "    }\n",
       "\n",
       "    .dataframe tbody tr th {\n",
       "        vertical-align: top;\n",
       "    }\n",
       "\n",
       "    .dataframe thead th {\n",
       "        text-align: right;\n",
       "    }\n",
       "</style>\n",
       "<table border=\"1\" class=\"dataframe\">\n",
       "  <thead>\n",
       "    <tr style=\"text-align: right;\">\n",
       "      <th></th>\n",
       "      <th>count</th>\n",
       "      <th>mean</th>\n",
       "      <th>std</th>\n",
       "      <th>min</th>\n",
       "      <th>25%</th>\n",
       "      <th>50%</th>\n",
       "      <th>75%</th>\n",
       "      <th>max</th>\n",
       "    </tr>\n",
       "  </thead>\n",
       "  <tbody>\n",
       "    <tr>\n",
       "      <th>release_year</th>\n",
       "      <td>201991.0</td>\n",
       "      <td>2013.452891</td>\n",
       "      <td>9.003933</td>\n",
       "      <td>1925.0</td>\n",
       "      <td>2012.0</td>\n",
       "      <td>2016.0</td>\n",
       "      <td>2019.0</td>\n",
       "      <td>2021.0</td>\n",
       "    </tr>\n",
       "    <tr>\n",
       "      <th>month_added</th>\n",
       "      <td>201991.0</td>\n",
       "      <td>6.631909</td>\n",
       "      <td>3.444674</td>\n",
       "      <td>1.0</td>\n",
       "      <td>4.0</td>\n",
       "      <td>7.0</td>\n",
       "      <td>10.0</td>\n",
       "      <td>12.0</td>\n",
       "    </tr>\n",
       "    <tr>\n",
       "      <th>year_added</th>\n",
       "      <td>201991.0</td>\n",
       "      <td>2018.926873</td>\n",
       "      <td>2.068777</td>\n",
       "      <td>1970.0</td>\n",
       "      <td>2018.0</td>\n",
       "      <td>2019.0</td>\n",
       "      <td>2020.0</td>\n",
       "      <td>2021.0</td>\n",
       "    </tr>\n",
       "    <tr>\n",
       "      <th>duration_val</th>\n",
       "      <td>201991.0</td>\n",
       "      <td>77.688749</td>\n",
       "      <td>51.488067</td>\n",
       "      <td>1.0</td>\n",
       "      <td>4.0</td>\n",
       "      <td>95.0</td>\n",
       "      <td>112.0</td>\n",
       "      <td>312.0</td>\n",
       "    </tr>\n",
       "  </tbody>\n",
       "</table>\n",
       "</div>"
      ],
      "text/plain": [
       "                 count         mean        std     min     25%     50%  \\\n",
       "release_year  201991.0  2013.452891   9.003933  1925.0  2012.0  2016.0   \n",
       "month_added   201991.0     6.631909   3.444674     1.0     4.0     7.0   \n",
       "year_added    201991.0  2018.926873   2.068777  1970.0  2018.0  2019.0   \n",
       "duration_val  201991.0    77.688749  51.488067     1.0     4.0    95.0   \n",
       "\n",
       "                 75%     max  \n",
       "release_year  2019.0  2021.0  \n",
       "month_added     10.0    12.0  \n",
       "year_added    2020.0  2021.0  \n",
       "duration_val   112.0   312.0  "
      ]
     },
     "execution_count": 191,
     "metadata": {},
     "output_type": "execute_result"
    }
   ],
   "source": [
    "df.describe().T"
   ]
  },
  {
   "cell_type": "markdown",
   "id": "4ed2961d",
   "metadata": {},
   "source": [
    "### 5.2 Missing Values and Outliers Treatment"
   ]
  },
  {
   "cell_type": "code",
   "execution_count": 192,
   "id": "86cd243d",
   "metadata": {},
   "outputs": [],
   "source": [
    "# df[\"rating\"] = df.groupby([\"type\", \"listed_in\"])[\"rating\"].apply(lambda x: x.fillna(x.mode().iloc[0]))\n",
    "# df[\"country\"] = df.groupby([\"type\", \"listed_in\"])[\"country\"].apply(lambda x: x.fillna(x.mode().iloc[0]))"
   ]
  },
  {
   "cell_type": "code",
   "execution_count": 193,
   "id": "33fd873d",
   "metadata": {},
   "outputs": [],
   "source": [
    "# df.dropna(subset = [\"date_added\", \"rating\", \"duration\"], inplace = True)"
   ]
  },
  {
   "cell_type": "code",
   "execution_count": 194,
   "id": "6442434e",
   "metadata": {},
   "outputs": [],
   "source": [
    "df['cast'].fillna(\"Unknown Actor\", inplace = True)\n",
    "df['director'].fillna(\"Unknown Director\", inplace = True)\n",
    "df['country'].fillna(\"Unknown Country\", inplace = True)"
   ]
  },
  {
   "cell_type": "code",
   "execution_count": 195,
   "id": "32758224",
   "metadata": {},
   "outputs": [
    {
     "data": {
      "text/plain": [
       "show_id         0\n",
       "type            0\n",
       "title           0\n",
       "director        0\n",
       "cast            0\n",
       "country         0\n",
       "date_added      0\n",
       "release_year    0\n",
       "rating          0\n",
       "duration        0\n",
       "listed_in       0\n",
       "description     0\n",
       "month_added     0\n",
       "year_added      0\n",
       "duration_val    0\n",
       "Sessions/Min    0\n",
       "dtype: int64"
      ]
     },
     "execution_count": 195,
     "metadata": {},
     "output_type": "execute_result"
    }
   ],
   "source": [
    "df.isnull().sum()"
   ]
  },
  {
   "cell_type": "code",
   "execution_count": 196,
   "id": "57903308",
   "metadata": {},
   "outputs": [],
   "source": [
    "df_temp = df.copy()"
   ]
  },
  {
   "cell_type": "code",
   "execution_count": 197,
   "id": "194b7ccf",
   "metadata": {},
   "outputs": [],
   "source": [
    "df_temp[[\"durr\", \"Sessions/Min\"]] = df_temp[\"duration\"].str.split(\" \", expand = True)\n",
    "df_temp[\"durr\"] = df_temp[\"durr\"].astype(\"int64\")"
   ]
  },
  {
   "cell_type": "code",
   "execution_count": 198,
   "id": "b1413480",
   "metadata": {},
   "outputs": [
    {
     "data": {
      "text/plain": [
       "<AxesSubplot:ylabel='durr'>"
      ]
     },
     "execution_count": 198,
     "metadata": {},
     "output_type": "execute_result"
    },
    {
     "data": {
      "image/png": "[encoded data removed]",
      "text/plain": [
       "<Figure size 1200x600 with 2 Axes>"
      ]
     },
     "metadata": {},
     "output_type": "display_data"
    }
   ],
   "source": [
    "plt.figure(figsize= (12,6))\n",
    "plt.subplot(1,2,1)\n",
    "sns.boxplot(data = df_temp[df_temp[\"type\"] == \"TV Show\"] , y = \"durr\")\n",
    "plt.subplot(1,2,2)\n",
    "sns.boxplot(data = df_temp[df_temp[\"type\"] == \"Movie\"] , y = \"durr\")"
   ]
  },
  {
   "cell_type": "markdown",
   "id": "cd2bda8a",
   "metadata": {},
   "source": [
    "### Observations"
   ]
  },
  {
   "cell_type": "markdown",
   "id": "5ef54870",
   "metadata": {},
   "source": [
    "1. After unnesting we have total of <b> 2,01,991 </b> rows\n",
    "2. The data suggests \"Alfred Molina\" is the most popular Actors among 39296 unique Actors, \n",
    "3. \"Martin Scorsese is the most popular director amonng 5120 uniques directors\n",
    "4. We have significantly larger missing values in Director (Around 30%, Cast (9%), and Country (9%) that need to be treated\n",
    "5. Outliers are present in the dataset"
   ]
  },
  {
   "cell_type": "markdown",
   "id": "1ebbf075",
   "metadata": {},
   "source": [
    "## 6. Insights based on Non-Graphical and Visual Analysis <a id = \"\"></a>"
   ]
  },
  {
   "cell_type": "markdown",
   "id": "7a7c5068",
   "metadata": {},
   "source": [
    "<font color = \"green\" >\n",
    "\n",
    "1. There are unique 8,807 movies/tv shows in the Netflix dataset.\n",
    "2. A majority of the dataset consists of categorical data.\n",
    "3. Around 70% of the content is Movies, and another 30% is TV Shows.\n",
    "4. The maximum number of seasons for any TV Show is 17 for \"Grey's Anatomy.\"\n",
    "5. TV Shows are on an average of 2 seasons.\n",
    "6. The number of Short Duration Films is 487, and the Number of Long Duration Movies is 5,673\n",
    "7. The number of Movies released yearly has increased exponentially in the last two decades.\n",
    "8. After 2014, there was a considerable increase in the content added to the platform.\n",
    "9. There has been no significant and noticeable increase in TV Shows compared to Movies in recent years.\n",
    "10. Most of the movies and TV shows released in December, July, and September\n",
    "11. We do not have any such data which suggests whether releasing the show in that particular month was successful. Thus, it can't be concluded that releasing a show for a specific month will have a better chance of getting better customer engagement.\n",
    "12. \"International Movies\", \"Comedy\", and \"Drama\" are the most favoured content type.\n",
    "13. USA and India are top contributors in terms of content addition on Netflix\n",
    "14. Rajiv Chilaka - Julie Tejwan have done the most 19 movies together\n",
    "15. Rajiv Chilaka has directed most of the movies - 22\n",
    "16. Anupam Kher is the most popular movie actor - part of 42 movies.\n",
    "17. Takahiro Sakurai is the most popular TV actor - part of 25 TV shows.\n",
    "18. Alastair Fothergill, popular director for TV shows\n",
    "19. The most content type on Netflix is movies.\n",
    "20. Most Netflix content is made with a \"TV-MA\" rating.\n"
   ]
  },
  {
   "cell_type": "markdown",
   "id": "3b9e7208",
   "metadata": {},
   "source": [
    "##  7. Business Insights <a id = \"10\"></a>"
   ]
  },
  {
   "cell_type": "markdown",
   "id": "cafaa522",
   "metadata": {},
   "source": [
    "<font color = \"green\">\n",
    "1. Netflix's majority of the content comes from the USA.\n",
    "2. In the last couple of years, the exponential growth in terms of content has slowed down\n",
    "3. Majority of the TV show content is of 2 seasons, Netflix can look to see if they can increase. This could help increasing customer engageemnt.\n"
   ]
  },
  {
   "cell_type": "markdown",
   "id": "ed4e312d",
   "metadata": {},
   "source": [
    "## 8. Recommendations <a id = \"11\"></a>"
   ]
  },
  {
   "cell_type": "markdown",
   "id": "93cf86d5",
   "metadata": {},
   "source": [
    "<font color = \"green\">\n",
    "    \n",
    "1. Netflix's majority of the content comes from the USA. Thus Netflix look to see content from other localities. \n",
    "2. In the last couple of years, the exponential growth in terms of content has slowed down. Netflix should try seeing adding more content from different localities.  \n",
    "3. Majority of the TV show content is of 2 seasons, Netflix can look to see if they can increase. This could help increasing customer engageemnt.\n"
   ]
  },
  {
   "cell_type": "code",
   "execution_count": null,
   "id": "48ee16b1",
   "metadata": {},
   "outputs": [],
   "source": []
  },
  {
   "cell_type": "code",
   "execution_count": 201,
   "id": "e584bbda",
   "metadata": {},
   "outputs": [
    {
     "data": {
      "text/plain": [
       "[6, 15, 24]"
      ]
     },
     "execution_count": 201,
     "metadata": {},
     "output_type": "execute_result"
    }
   ],
   "source": [
    "my_list = [123,456,789]\n",
    "new_list = [sum(int(digit) for digit in str(num))for num in my_list]\n",
    "\n",
    "new_list"
   ]
  },
  {
   "cell_type": "code",
   "execution_count": 204,
   "id": "d80bebcf",
   "metadata": {},
   "outputs": [
    {
     "name": "stdout",
     "output_type": "stream",
     "text": [
      "\n"
     ]
    }
   ],
   "source": [
    "s = \"leetcode\"\n",
    "\n",
    "vowels = [\"a\", \"e\", \"i\", \"o\", \"u\", \"A\", \"E\", \"I\", \"O\", \"U\"]\n",
    "\n",
    "l = 0\n",
    "r = len(s)-1\n",
    "while l < r:\n",
    "    while (l<r) and (s[l] not in vowels):\n",
    "        l +=1\n",
    "        print(l)\n",
    "    while (r > l) and (s[r] not in vowels):\n",
    "        r -= 1\n",
    "        print(r)\n",
    "    s[l], s[r] = s[r], s[l]\n",
    "\n",
    "    l += 1\n",
    "    r -= 1\n",
    "print(\"\".join(s))"
   ]
  },
  {
   "cell_type": "code",
   "execution_count": 205,
   "id": "3a604eee",
   "metadata": {},
   "outputs": [
    {
     "data": {
      "text/plain": [
       "0"
      ]
     },
     "execution_count": 205,
     "metadata": {},
     "output_type": "execute_result"
    }
   ],
   "source": [
    "l"
   ]
  },
  {
   "cell_type": "code",
   "execution_count": 206,
   "id": "951a6919",
   "metadata": {},
   "outputs": [
    {
     "data": {
      "text/plain": [
       "-1"
      ]
     },
     "execution_count": 206,
     "metadata": {},
     "output_type": "execute_result"
    }
   ],
   "source": [
    "r"
   ]
  },
  {
   "cell_type": "code",
   "execution_count": 207,
   "id": "a8849eb1",
   "metadata": {},
   "outputs": [
    {
     "data": {
      "text/plain": [
       "['l', 'e', 'e', 't', 'c', 'o', 'd', 'e']"
      ]
     },
     "execution_count": 207,
     "metadata": {},
     "output_type": "execute_result"
    }
   ],
   "source": [
    "s = \"leetcode\"\n",
    "list(s)"
   ]
  },
  {
   "cell_type": "code",
   "execution_count": null,
   "id": "7b03b645",
   "metadata": {},
   "outputs": [],
   "source": []
  }
 ],
 "metadata": {
  "kernelspec": {
   "display_name": "Python 3 (ipykernel)",
   "language": "python",
   "name": "python3"
  },
  "language_info": {
   "codemirror_mode": {
    "name": "ipython",
    "version": 3
   },
   "file_extension": ".py",
   "mimetype": "text/x-python",
   "name": "python",
   "nbconvert_exporter": "python",
   "pygments_lexer": "ipython3",
   "version": "3.9.13"
  }
 },
 "nbformat": 4,
 "nbformat_minor": 5
}
