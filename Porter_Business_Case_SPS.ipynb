{
  "metadata": {
    "kernelspec": {
      "language": "python",
      "display_name": "Python 3",
      "name": "python3"
    },
    "language_info": {
      "pygments_lexer": "ipython3",
      "nbconvert_exporter": "python",
      "version": "3.6.4",
      "file_extension": ".py",
      "codemirror_mode": {
        "name": "ipython",
        "version": 3
      },
      "name": "python",
      "mimetype": "text/x-python"
    },
    "colab": {
      "provenance": [],
      "include_colab_link": true
    }
  },
  "nbformat_minor": 0,
  "nbformat": 4,
  "cells": [
    {
      "cell_type": "markdown",
      "metadata": {
        "id": "view-in-github",
        "colab_type": "text"
      },
      "source": [
        "<a href=\"https://colab.research.google.com/github/spsgim/Scaler_Projects/blob/main/Porter_Business_Case_SPS.ipynb\" target=\"_parent\"><img src=\"https://colab.research.google.com/assets/colab-badge.svg\" alt=\"Open In Colab\"/></a>"
      ]
    },
    {
      "cell_type": "markdown",
      "source": [
        "##**Introduction**"
      ],
      "metadata": {
        "id": "bWgV1bZxu02z"
      }
    },
    {
      "cell_type": "markdown",
      "source": [
        "Porter is India's Largest Marketplace for Intra-City Logistics. Leader in the country's $40 billion intra-city logistics market, Porter strives to improve the lives of 1,50,000+ driver-partners by providing them with consistent earning & independence. Currently, the company has serviced 5+ million customers\n",
        "\n",
        "Porter works with a wide range of restaurants for delivering their items directly to the people.\n"
      ],
      "metadata": {
        "id": "rYfsmZGSu5eU"
      }
    },
    {
      "cell_type": "markdown",
      "source": [
        "##**Problem Statement**"
      ],
      "metadata": {
        "id": "5GFJRlv_vMYa"
      }
    },
    {
      "cell_type": "markdown",
      "source": [
        "\n",
        "Porter has a number of delivery partners available for delivering the food, from various restaurants and wants to get an **estimated delivery time** that it can provide the customers on the basis of what they are ordering, from where and also the delivery partners.\n"
      ],
      "metadata": {
        "id": "LXODprm0vUox"
      }
    },
    {
      "cell_type": "markdown",
      "source": [
        "##**Data Dictionary**"
      ],
      "metadata": {
        "id": "RwuJDd-4vpo0"
      }
    },
    {
      "cell_type": "markdown",
      "source": [
        "Each row in this file corresponds to one unique delivery. Each column corresponds to a feature as explained below.\n",
        "\n",
        "**market_id** : integer id for the market where the restaurant lies\n",
        "\n",
        "**created_at** : the timestamp at which the order was placed\n",
        "\n",
        "**actual_delivery_time** : the timestamp when the order was delivered\n",
        "\n",
        "**store_primary_category** : category for the restaurant\n",
        "\n",
        "**order_protocol** : integer code value for order protocol(how the order was placed ie: through porter, call to restaurant, pre booked, third part etc)\n",
        "total_items subtotal : final price of the order\n",
        "\n",
        "**num_distinct_items** : the number of distinct items in the order\n",
        "\n",
        "**min_item_price** : price of the cheapest item in the order\n",
        "\n",
        "**max_item_price** : price of the costliest item in order\n",
        "\n",
        "**total_onshift_partners** : number of delivery partners on duty at the time order was placed\n",
        "\n",
        "**total_busy_partners** : number of delivery partners attending to other tasks\n",
        "\n",
        "**total_outstanding_orders** : total number of orders to be fulfilled at the moment"
      ],
      "metadata": {
        "id": "qKdPfmS4vtd8"
      }
    },
    {
      "cell_type": "markdown",
      "source": [
        "##**1. Import the data and understand the structure of the data**"
      ],
      "metadata": {
        "id": "U1ln2xX3wFtz"
      }
    },
    {
      "cell_type": "code",
      "source": [
        "##Import Libraries\n",
        "\n",
        "import numpy as np\n",
        "import pandas as pd\n",
        "\n",
        "import matplotlib.pyplot as plt\n",
        "import seaborn as sns\n",
        "\n",
        "import warnings as w\n",
        "w.filterwarnings('ignore')\n",
        "\n",
        "#data preprocessing\n",
        "from sklearn.preprocessing import StandardScaler\n",
        "from sklearn.model_selection import train_test_split\n",
        "\n",
        "#random forest model training\n",
        "from sklearn.metrics import r2_score\n",
        "from sklearn.metrics import mean_squared_error\n",
        "from sklearn.metrics import mean_absolute_error\n",
        "from sklearn.ensemble import RandomForestRegressor"
      ],
      "metadata": {
        "id": "h2kAfZvNvOZG",
        "execution": {
          "iopub.status.busy": "2023-10-10T10:40:31.237762Z",
          "iopub.execute_input": "2023-10-10T10:40:31.238531Z",
          "iopub.status.idle": "2023-10-10T10:40:31.246461Z",
          "shell.execute_reply.started": "2023-10-10T10:40:31.238484Z",
          "shell.execute_reply": "2023-10-10T10:40:31.245197Z"
        },
        "trusted": true
      },
      "execution_count": null,
      "outputs": []
    },
    {
      "cell_type": "code",
      "source": [
        "## Downloading DataSet\n",
        "!gdown 1GZSyMAvu7s3htitW76dqm6z4tVpDlSEo"
      ],
      "metadata": {
        "id": "BA3S83v_8QlW",
        "outputId": "35f7a372-2354-46e8-a5db-3a62d34225d5",
        "colab": {
          "base_uri": "https://localhost:8080/"
        }
      },
      "execution_count": null,
      "outputs": [
        {
          "output_type": "stream",
          "name": "stdout",
          "text": [
            "Downloading...\n",
            "From: https://drive.google.com/uc?id=1GZSyMAvu7s3htitW76dqm6z4tVpDlSEo\n",
            "To: /content/dataset.csv\n",
            "100% 23.8M/23.8M [00:00<00:00, 26.9MB/s]\n"
          ]
        }
      ]
    },
    {
      "cell_type": "code",
      "source": [
        "##Load data\n",
        "df = pd.read_csv('dataset.csv')\n",
        "df.head(5)"
      ],
      "metadata": {
        "id": "meBHdcL7w4br",
        "outputId": "c29f73b7-6402-4032-f3a9-f7df1a23e058",
        "execution": {
          "iopub.status.busy": "2023-10-10T10:40:31.248959Z",
          "iopub.execute_input": "2023-10-10T10:40:31.249421Z",
          "iopub.status.idle": "2023-10-10T10:40:32.007545Z",
          "shell.execute_reply.started": "2023-10-10T10:40:31.24938Z",
          "shell.execute_reply": "2023-10-10T10:40:32.006257Z"
        },
        "trusted": true,
        "colab": {
          "base_uri": "https://localhost:8080/",
          "height": 313
        }
      },
      "execution_count": null,
      "outputs": [
        {
          "output_type": "execute_result",
          "data": {
            "text/plain": [
              "   market_id           created_at actual_delivery_time  \\\n",
              "0        1.0  2015-02-06 22:24:17  2015-02-06 23:27:16   \n",
              "1        2.0  2015-02-10 21:49:25  2015-02-10 22:56:29   \n",
              "2        3.0  2015-01-22 20:39:28  2015-01-22 21:09:09   \n",
              "3        3.0  2015-02-03 21:21:45  2015-02-03 22:13:00   \n",
              "4        3.0  2015-02-15 02:40:36  2015-02-15 03:20:26   \n",
              "\n",
              "                           store_id store_primary_category  order_protocol  \\\n",
              "0  df263d996281d984952c07998dc54358               american             1.0   \n",
              "1  f0ade77b43923b38237db569b016ba25                mexican             2.0   \n",
              "2  f0ade77b43923b38237db569b016ba25                    NaN             1.0   \n",
              "3  f0ade77b43923b38237db569b016ba25                    NaN             1.0   \n",
              "4  f0ade77b43923b38237db569b016ba25                    NaN             1.0   \n",
              "\n",
              "   total_items  subtotal  num_distinct_items  min_item_price  max_item_price  \\\n",
              "0            4      3441                   4             557            1239   \n",
              "1            1      1900                   1            1400            1400   \n",
              "2            1      1900                   1            1900            1900   \n",
              "3            6      6900                   5             600            1800   \n",
              "4            3      3900                   3            1100            1600   \n",
              "\n",
              "   total_onshift_partners  total_busy_partners  total_outstanding_orders  \n",
              "0                    33.0                 14.0                      21.0  \n",
              "1                     1.0                  2.0                       2.0  \n",
              "2                     1.0                  0.0                       0.0  \n",
              "3                     1.0                  1.0                       2.0  \n",
              "4                     6.0                  6.0                       9.0  "
            ],
            "text/html": [
              "\n",
              "  <div id=\"df-50d405ac-de7c-479c-9019-e01cbca13962\" class=\"colab-df-container\">\n",
              "    <div>\n",
              "<style scoped>\n",
              "    .dataframe tbody tr th:only-of-type {\n",
              "        vertical-align: middle;\n",
              "    }\n",
              "\n",
              "    .dataframe tbody tr th {\n",
              "        vertical-align: top;\n",
              "    }\n",
              "\n",
              "    .dataframe thead th {\n",
              "        text-align: right;\n",
              "    }\n",
              "</style>\n",
              "<table border=\"1\" class=\"dataframe\">\n",
              "  <thead>\n",
              "    <tr style=\"text-align: right;\">\n",
              "      <th></th>\n",
              "      <th>market_id</th>\n",
              "      <th>created_at</th>\n",
              "      <th>actual_delivery_time</th>\n",
              "      <th>store_id</th>\n",
              "      <th>store_primary_category</th>\n",
              "      <th>order_protocol</th>\n",
              "      <th>total_items</th>\n",
              "      <th>subtotal</th>\n",
              "      <th>num_distinct_items</th>\n",
              "      <th>min_item_price</th>\n",
              "      <th>max_item_price</th>\n",
              "      <th>total_onshift_partners</th>\n",
              "      <th>total_busy_partners</th>\n",
              "      <th>total_outstanding_orders</th>\n",
              "    </tr>\n",
              "  </thead>\n",
              "  <tbody>\n",
              "    <tr>\n",
              "      <th>0</th>\n",
              "      <td>1.0</td>\n",
              "      <td>2015-02-06 22:24:17</td>\n",
              "      <td>2015-02-06 23:27:16</td>\n",
              "      <td>df263d996281d984952c07998dc54358</td>\n",
              "      <td>american</td>\n",
              "      <td>1.0</td>\n",
              "      <td>4</td>\n",
              "      <td>3441</td>\n",
              "      <td>4</td>\n",
              "      <td>557</td>\n",
              "      <td>1239</td>\n",
              "      <td>33.0</td>\n",
              "      <td>14.0</td>\n",
              "      <td>21.0</td>\n",
              "    </tr>\n",
              "    <tr>\n",
              "      <th>1</th>\n",
              "      <td>2.0</td>\n",
              "      <td>2015-02-10 21:49:25</td>\n",
              "      <td>2015-02-10 22:56:29</td>\n",
              "      <td>f0ade77b43923b38237db569b016ba25</td>\n",
              "      <td>mexican</td>\n",
              "      <td>2.0</td>\n",
              "      <td>1</td>\n",
              "      <td>1900</td>\n",
              "      <td>1</td>\n",
              "      <td>1400</td>\n",
              "      <td>1400</td>\n",
              "      <td>1.0</td>\n",
              "      <td>2.0</td>\n",
              "      <td>2.0</td>\n",
              "    </tr>\n",
              "    <tr>\n",
              "      <th>2</th>\n",
              "      <td>3.0</td>\n",
              "      <td>2015-01-22 20:39:28</td>\n",
              "      <td>2015-01-22 21:09:09</td>\n",
              "      <td>f0ade77b43923b38237db569b016ba25</td>\n",
              "      <td>NaN</td>\n",
              "      <td>1.0</td>\n",
              "      <td>1</td>\n",
              "      <td>1900</td>\n",
              "      <td>1</td>\n",
              "      <td>1900</td>\n",
              "      <td>1900</td>\n",
              "      <td>1.0</td>\n",
              "      <td>0.0</td>\n",
              "      <td>0.0</td>\n",
              "    </tr>\n",
              "    <tr>\n",
              "      <th>3</th>\n",
              "      <td>3.0</td>\n",
              "      <td>2015-02-03 21:21:45</td>\n",
              "      <td>2015-02-03 22:13:00</td>\n",
              "      <td>f0ade77b43923b38237db569b016ba25</td>\n",
              "      <td>NaN</td>\n",
              "      <td>1.0</td>\n",
              "      <td>6</td>\n",
              "      <td>6900</td>\n",
              "      <td>5</td>\n",
              "      <td>600</td>\n",
              "      <td>1800</td>\n",
              "      <td>1.0</td>\n",
              "      <td>1.0</td>\n",
              "      <td>2.0</td>\n",
              "    </tr>\n",
              "    <tr>\n",
              "      <th>4</th>\n",
              "      <td>3.0</td>\n",
              "      <td>2015-02-15 02:40:36</td>\n",
              "      <td>2015-02-15 03:20:26</td>\n",
              "      <td>f0ade77b43923b38237db569b016ba25</td>\n",
              "      <td>NaN</td>\n",
              "      <td>1.0</td>\n",
              "      <td>3</td>\n",
              "      <td>3900</td>\n",
              "      <td>3</td>\n",
              "      <td>1100</td>\n",
              "      <td>1600</td>\n",
              "      <td>6.0</td>\n",
              "      <td>6.0</td>\n",
              "      <td>9.0</td>\n",
              "    </tr>\n",
              "  </tbody>\n",
              "</table>\n",
              "</div>\n",
              "    <div class=\"colab-df-buttons\">\n",
              "\n",
              "  <div class=\"colab-df-container\">\n",
              "    <button class=\"colab-df-convert\" onclick=\"convertToInteractive('df-50d405ac-de7c-479c-9019-e01cbca13962')\"\n",
              "            title=\"Convert this dataframe to an interactive table.\"\n",
              "            style=\"display:none;\">\n",
              "\n",
              "  <svg xmlns=\"http://www.w3.org/2000/svg\" height=\"24px\" viewBox=\"0 -960 960 960\">\n",
              "    <path d=\"M120-120v-720h720v720H120Zm60-500h600v-160H180v160Zm220 220h160v-160H400v160Zm0 220h160v-160H400v160ZM180-400h160v-160H180v160Zm440 0h160v-160H620v160ZM180-180h160v-160H180v160Zm440 0h160v-160H620v160Z\"/>\n",
              "  </svg>\n",
              "    </button>\n",
              "\n",
              "  <style>\n",
              "    .colab-df-container {\n",
              "      display:flex;\n",
              "      gap: 12px;\n",
              "    }\n",
              "\n",
              "    .colab-df-convert {\n",
              "      background-color: #E8F0FE;\n",
              "      border: none;\n",
              "      border-radius: 50%;\n",
              "      cursor: pointer;\n",
              "      display: none;\n",
              "      fill: #1967D2;\n",
              "      height: 32px;\n",
              "      padding: 0 0 0 0;\n",
              "      width: 32px;\n",
              "    }\n",
              "\n",
              "    .colab-df-convert:hover {\n",
              "      background-color: #E2EBFA;\n",
              "      box-shadow: 0px 1px 2px rgba(60, 64, 67, 0.3), 0px 1px 3px 1px rgba(60, 64, 67, 0.15);\n",
              "      fill: #174EA6;\n",
              "    }\n",
              "\n",
              "    .colab-df-buttons div {\n",
              "      margin-bottom: 4px;\n",
              "    }\n",
              "\n",
              "    [theme=dark] .colab-df-convert {\n",
              "      background-color: #3B4455;\n",
              "      fill: #D2E3FC;\n",
              "    }\n",
              "\n",
              "    [theme=dark] .colab-df-convert:hover {\n",
              "      background-color: #434B5C;\n",
              "      box-shadow: 0px 1px 3px 1px rgba(0, 0, 0, 0.15);\n",
              "      filter: drop-shadow(0px 1px 2px rgba(0, 0, 0, 0.3));\n",
              "      fill: #FFFFFF;\n",
              "    }\n",
              "  </style>\n",
              "\n",
              "    <script>\n",
              "      const buttonEl =\n",
              "        document.querySelector('#df-50d405ac-de7c-479c-9019-e01cbca13962 button.colab-df-convert');\n",
              "      buttonEl.style.display =\n",
              "        google.colab.kernel.accessAllowed ? 'block' : 'none';\n",
              "\n",
              "      async function convertToInteractive(key) {\n",
              "        const element = document.querySelector('#df-50d405ac-de7c-479c-9019-e01cbca13962');\n",
              "        const dataTable =\n",
              "          await google.colab.kernel.invokeFunction('convertToInteractive',\n",
              "                                                    [key], {});\n",
              "        if (!dataTable) return;\n",
              "\n",
              "        const docLinkHtml = 'Like what you see? Visit the ' +\n",
              "          '<a target=\"_blank\" href=https://colab.research.google.com/notebooks/data_table.ipynb>data table notebook</a>'\n",
              "          + ' to learn more about interactive tables.';\n",
              "        element.innerHTML = '';\n",
              "        dataTable['output_type'] = 'display_data';\n",
              "        await google.colab.output.renderOutput(dataTable, element);\n",
              "        const docLink = document.createElement('div');\n",
              "        docLink.innerHTML = docLinkHtml;\n",
              "        element.appendChild(docLink);\n",
              "      }\n",
              "    </script>\n",
              "  </div>\n",
              "\n",
              "\n",
              "<div id=\"df-53f14590-6df4-4e98-b473-b5875236e107\">\n",
              "  <button class=\"colab-df-quickchart\" onclick=\"quickchart('df-53f14590-6df4-4e98-b473-b5875236e107')\"\n",
              "            title=\"Suggest charts\"\n",
              "            style=\"display:none;\">\n",
              "\n",
              "<svg xmlns=\"http://www.w3.org/2000/svg\" height=\"24px\"viewBox=\"0 0 24 24\"\n",
              "     width=\"24px\">\n",
              "    <g>\n",
              "        <path d=\"M19 3H5c-1.1 0-2 .9-2 2v14c0 1.1.9 2 2 2h14c1.1 0 2-.9 2-2V5c0-1.1-.9-2-2-2zM9 17H7v-7h2v7zm4 0h-2V7h2v10zm4 0h-2v-4h2v4z\"/>\n",
              "    </g>\n",
              "</svg>\n",
              "  </button>\n",
              "\n",
              "<style>\n",
              "  .colab-df-quickchart {\n",
              "      --bg-color: #E8F0FE;\n",
              "      --fill-color: #1967D2;\n",
              "      --hover-bg-color: #E2EBFA;\n",
              "      --hover-fill-color: #174EA6;\n",
              "      --disabled-fill-color: #AAA;\n",
              "      --disabled-bg-color: #DDD;\n",
              "  }\n",
              "\n",
              "  [theme=dark] .colab-df-quickchart {\n",
              "      --bg-color: #3B4455;\n",
              "      --fill-color: #D2E3FC;\n",
              "      --hover-bg-color: #434B5C;\n",
              "      --hover-fill-color: #FFFFFF;\n",
              "      --disabled-bg-color: #3B4455;\n",
              "      --disabled-fill-color: #666;\n",
              "  }\n",
              "\n",
              "  .colab-df-quickchart {\n",
              "    background-color: var(--bg-color);\n",
              "    border: none;\n",
              "    border-radius: 50%;\n",
              "    cursor: pointer;\n",
              "    display: none;\n",
              "    fill: var(--fill-color);\n",
              "    height: 32px;\n",
              "    padding: 0;\n",
              "    width: 32px;\n",
              "  }\n",
              "\n",
              "  .colab-df-quickchart:hover {\n",
              "    background-color: var(--hover-bg-color);\n",
              "    box-shadow: 0 1px 2px rgba(60, 64, 67, 0.3), 0 1px 3px 1px rgba(60, 64, 67, 0.15);\n",
              "    fill: var(--button-hover-fill-color);\n",
              "  }\n",
              "\n",
              "  .colab-df-quickchart-complete:disabled,\n",
              "  .colab-df-quickchart-complete:disabled:hover {\n",
              "    background-color: var(--disabled-bg-color);\n",
              "    fill: var(--disabled-fill-color);\n",
              "    box-shadow: none;\n",
              "  }\n",
              "\n",
              "  .colab-df-spinner {\n",
              "    border: 2px solid var(--fill-color);\n",
              "    border-color: transparent;\n",
              "    border-bottom-color: var(--fill-color);\n",
              "    animation:\n",
              "      spin 1s steps(1) infinite;\n",
              "  }\n",
              "\n",
              "  @keyframes spin {\n",
              "    0% {\n",
              "      border-color: transparent;\n",
              "      border-bottom-color: var(--fill-color);\n",
              "      border-left-color: var(--fill-color);\n",
              "    }\n",
              "    20% {\n",
              "      border-color: transparent;\n",
              "      border-left-color: var(--fill-color);\n",
              "      border-top-color: var(--fill-color);\n",
              "    }\n",
              "    30% {\n",
              "      border-color: transparent;\n",
              "      border-left-color: var(--fill-color);\n",
              "      border-top-color: var(--fill-color);\n",
              "      border-right-color: var(--fill-color);\n",
              "    }\n",
              "    40% {\n",
              "      border-color: transparent;\n",
              "      border-right-color: var(--fill-color);\n",
              "      border-top-color: var(--fill-color);\n",
              "    }\n",
              "    60% {\n",
              "      border-color: transparent;\n",
              "      border-right-color: var(--fill-color);\n",
              "    }\n",
              "    80% {\n",
              "      border-color: transparent;\n",
              "      border-right-color: var(--fill-color);\n",
              "      border-bottom-color: var(--fill-color);\n",
              "    }\n",
              "    90% {\n",
              "      border-color: transparent;\n",
              "      border-bottom-color: var(--fill-color);\n",
              "    }\n",
              "  }\n",
              "</style>\n",
              "\n",
              "  <script>\n",
              "    async function quickchart(key) {\n",
              "      const quickchartButtonEl =\n",
              "        document.querySelector('#' + key + ' button');\n",
              "      quickchartButtonEl.disabled = true;  // To prevent multiple clicks.\n",
              "      quickchartButtonEl.classList.add('colab-df-spinner');\n",
              "      try {\n",
              "        const charts = await google.colab.kernel.invokeFunction(\n",
              "            'suggestCharts', [key], {});\n",
              "      } catch (error) {\n",
              "        console.error('Error during call to suggestCharts:', error);\n",
              "      }\n",
              "      quickchartButtonEl.classList.remove('colab-df-spinner');\n",
              "      quickchartButtonEl.classList.add('colab-df-quickchart-complete');\n",
              "    }\n",
              "    (() => {\n",
              "      let quickchartButtonEl =\n",
              "        document.querySelector('#df-53f14590-6df4-4e98-b473-b5875236e107 button');\n",
              "      quickchartButtonEl.style.display =\n",
              "        google.colab.kernel.accessAllowed ? 'block' : 'none';\n",
              "    })();\n",
              "  </script>\n",
              "</div>\n",
              "\n",
              "    </div>\n",
              "  </div>\n"
            ],
            "application/vnd.google.colaboratory.intrinsic+json": {
              "type": "dataframe",
              "variable_name": "df"
            }
          },
          "metadata": {},
          "execution_count": 3
        }
      ]
    },
    {
      "cell_type": "code",
      "source": [
        "#Check the shape of data\n",
        "df.shape"
      ],
      "metadata": {
        "id": "AXMQN3Ppz7an",
        "outputId": "a29d1a14-e971-4c89-d664-f8493cae39b4",
        "execution": {
          "iopub.status.busy": "2023-10-10T10:40:32.009152Z",
          "iopub.execute_input": "2023-10-10T10:40:32.010108Z",
          "iopub.status.idle": "2023-10-10T10:40:32.018761Z",
          "shell.execute_reply.started": "2023-10-10T10:40:32.01005Z",
          "shell.execute_reply": "2023-10-10T10:40:32.017585Z"
        },
        "trusted": true,
        "colab": {
          "base_uri": "https://localhost:8080/"
        }
      },
      "execution_count": null,
      "outputs": [
        {
          "output_type": "execute_result",
          "data": {
            "text/plain": [
              "(197428, 14)"
            ]
          },
          "metadata": {},
          "execution_count": 4
        }
      ]
    },
    {
      "cell_type": "code",
      "source": [
        "##To List Column Names\n",
        "df.columns"
      ],
      "metadata": {
        "id": "LOwoXP7E0GYX",
        "outputId": "0b84067e-fea9-434f-89bb-9232beb62080",
        "execution": {
          "iopub.status.busy": "2023-10-10T10:40:32.022199Z",
          "iopub.execute_input": "2023-10-10T10:40:32.022748Z",
          "iopub.status.idle": "2023-10-10T10:40:32.036906Z",
          "shell.execute_reply.started": "2023-10-10T10:40:32.022702Z",
          "shell.execute_reply": "2023-10-10T10:40:32.035719Z"
        },
        "trusted": true,
        "colab": {
          "base_uri": "https://localhost:8080/"
        }
      },
      "execution_count": null,
      "outputs": [
        {
          "output_type": "execute_result",
          "data": {
            "text/plain": [
              "Index(['market_id', 'created_at', 'actual_delivery_time', 'store_id',\n",
              "       'store_primary_category', 'order_protocol', 'total_items', 'subtotal',\n",
              "       'num_distinct_items', 'min_item_price', 'max_item_price',\n",
              "       'total_onshift_partners', 'total_busy_partners',\n",
              "       'total_outstanding_orders'],\n",
              "      dtype='object')"
            ]
          },
          "metadata": {},
          "execution_count": 5
        }
      ]
    },
    {
      "cell_type": "code",
      "source": [
        "df.info()"
      ],
      "metadata": {
        "id": "98fd13j0kVFV",
        "outputId": "6aeefefc-68a5-4294-d9a0-957826e62f9b",
        "execution": {
          "iopub.status.busy": "2023-10-10T10:40:32.038566Z",
          "iopub.execute_input": "2023-10-10T10:40:32.039006Z",
          "iopub.status.idle": "2023-10-10T10:40:32.119823Z",
          "shell.execute_reply.started": "2023-10-10T10:40:32.038974Z",
          "shell.execute_reply": "2023-10-10T10:40:32.118963Z"
        },
        "trusted": true,
        "colab": {
          "base_uri": "https://localhost:8080/"
        }
      },
      "execution_count": null,
      "outputs": [
        {
          "output_type": "stream",
          "name": "stdout",
          "text": [
            "<class 'pandas.core.frame.DataFrame'>\n",
            "RangeIndex: 197428 entries, 0 to 197427\n",
            "Data columns (total 14 columns):\n",
            " #   Column                    Non-Null Count   Dtype  \n",
            "---  ------                    --------------   -----  \n",
            " 0   market_id                 196441 non-null  float64\n",
            " 1   created_at                197428 non-null  object \n",
            " 2   actual_delivery_time      197421 non-null  object \n",
            " 3   store_id                  197428 non-null  object \n",
            " 4   store_primary_category    192668 non-null  object \n",
            " 5   order_protocol            196433 non-null  float64\n",
            " 6   total_items               197428 non-null  int64  \n",
            " 7   subtotal                  197428 non-null  int64  \n",
            " 8   num_distinct_items        197428 non-null  int64  \n",
            " 9   min_item_price            197428 non-null  int64  \n",
            " 10  max_item_price            197428 non-null  int64  \n",
            " 11  total_onshift_partners    181166 non-null  float64\n",
            " 12  total_busy_partners       181166 non-null  float64\n",
            " 13  total_outstanding_orders  181166 non-null  float64\n",
            "dtypes: float64(5), int64(5), object(4)\n",
            "memory usage: 21.1+ MB\n"
          ]
        }
      ]
    },
    {
      "cell_type": "code",
      "source": [
        "df.describe()"
      ],
      "metadata": {
        "id": "1-LGTFegeGbY",
        "outputId": "9a75a8d9-b2ad-4d34-d47a-54bac79b88c7",
        "execution": {
          "iopub.status.busy": "2023-10-10T10:40:32.120828Z",
          "iopub.execute_input": "2023-10-10T10:40:32.12121Z",
          "iopub.status.idle": "2023-10-10T10:40:32.26016Z",
          "shell.execute_reply.started": "2023-10-10T10:40:32.12118Z",
          "shell.execute_reply": "2023-10-10T10:40:32.259175Z"
        },
        "trusted": true,
        "colab": {
          "base_uri": "https://localhost:8080/",
          "height": 320
        }
      },
      "execution_count": null,
      "outputs": [
        {
          "output_type": "execute_result",
          "data": {
            "text/plain": [
              "           market_id  order_protocol    total_items       subtotal  \\\n",
              "count  196441.000000   196433.000000  197428.000000  197428.000000   \n",
              "mean        2.978706        2.882352       3.196391    2682.331402   \n",
              "std         1.524867        1.503771       2.666546    1823.093688   \n",
              "min         1.000000        1.000000       1.000000       0.000000   \n",
              "25%         2.000000        1.000000       2.000000    1400.000000   \n",
              "50%         3.000000        3.000000       3.000000    2200.000000   \n",
              "75%         4.000000        4.000000       4.000000    3395.000000   \n",
              "max         6.000000        7.000000     411.000000   27100.000000   \n",
              "\n",
              "       num_distinct_items  min_item_price  max_item_price  \\\n",
              "count       197428.000000   197428.000000   197428.000000   \n",
              "mean             2.670791      686.218470     1159.588630   \n",
              "std              1.630255      522.038648      558.411377   \n",
              "min              1.000000      -86.000000        0.000000   \n",
              "25%              1.000000      299.000000      800.000000   \n",
              "50%              2.000000      595.000000     1095.000000   \n",
              "75%              3.000000      949.000000     1395.000000   \n",
              "max             20.000000    14700.000000    14700.000000   \n",
              "\n",
              "       total_onshift_partners  total_busy_partners  total_outstanding_orders  \n",
              "count           181166.000000        181166.000000             181166.000000  \n",
              "mean                44.808093            41.739747                 58.050065  \n",
              "std                 34.526783            32.145733                 52.661830  \n",
              "min                 -4.000000            -5.000000                 -6.000000  \n",
              "25%                 17.000000            15.000000                 17.000000  \n",
              "50%                 37.000000            34.000000                 41.000000  \n",
              "75%                 65.000000            62.000000                 85.000000  \n",
              "max                171.000000           154.000000                285.000000  "
            ],
            "text/html": [
              "\n",
              "  <div id=\"df-8cfb0f32-50a0-4548-aa95-74ae7003ec57\" class=\"colab-df-container\">\n",
              "    <div>\n",
              "<style scoped>\n",
              "    .dataframe tbody tr th:only-of-type {\n",
              "        vertical-align: middle;\n",
              "    }\n",
              "\n",
              "    .dataframe tbody tr th {\n",
              "        vertical-align: top;\n",
              "    }\n",
              "\n",
              "    .dataframe thead th {\n",
              "        text-align: right;\n",
              "    }\n",
              "</style>\n",
              "<table border=\"1\" class=\"dataframe\">\n",
              "  <thead>\n",
              "    <tr style=\"text-align: right;\">\n",
              "      <th></th>\n",
              "      <th>market_id</th>\n",
              "      <th>order_protocol</th>\n",
              "      <th>total_items</th>\n",
              "      <th>subtotal</th>\n",
              "      <th>num_distinct_items</th>\n",
              "      <th>min_item_price</th>\n",
              "      <th>max_item_price</th>\n",
              "      <th>total_onshift_partners</th>\n",
              "      <th>total_busy_partners</th>\n",
              "      <th>total_outstanding_orders</th>\n",
              "    </tr>\n",
              "  </thead>\n",
              "  <tbody>\n",
              "    <tr>\n",
              "      <th>count</th>\n",
              "      <td>196441.000000</td>\n",
              "      <td>196433.000000</td>\n",
              "      <td>197428.000000</td>\n",
              "      <td>197428.000000</td>\n",
              "      <td>197428.000000</td>\n",
              "      <td>197428.000000</td>\n",
              "      <td>197428.000000</td>\n",
              "      <td>181166.000000</td>\n",
              "      <td>181166.000000</td>\n",
              "      <td>181166.000000</td>\n",
              "    </tr>\n",
              "    <tr>\n",
              "      <th>mean</th>\n",
              "      <td>2.978706</td>\n",
              "      <td>2.882352</td>\n",
              "      <td>3.196391</td>\n",
              "      <td>2682.331402</td>\n",
              "      <td>2.670791</td>\n",
              "      <td>686.218470</td>\n",
              "      <td>1159.588630</td>\n",
              "      <td>44.808093</td>\n",
              "      <td>41.739747</td>\n",
              "      <td>58.050065</td>\n",
              "    </tr>\n",
              "    <tr>\n",
              "      <th>std</th>\n",
              "      <td>1.524867</td>\n",
              "      <td>1.503771</td>\n",
              "      <td>2.666546</td>\n",
              "      <td>1823.093688</td>\n",
              "      <td>1.630255</td>\n",
              "      <td>522.038648</td>\n",
              "      <td>558.411377</td>\n",
              "      <td>34.526783</td>\n",
              "      <td>32.145733</td>\n",
              "      <td>52.661830</td>\n",
              "    </tr>\n",
              "    <tr>\n",
              "      <th>min</th>\n",
              "      <td>1.000000</td>\n",
              "      <td>1.000000</td>\n",
              "      <td>1.000000</td>\n",
              "      <td>0.000000</td>\n",
              "      <td>1.000000</td>\n",
              "      <td>-86.000000</td>\n",
              "      <td>0.000000</td>\n",
              "      <td>-4.000000</td>\n",
              "      <td>-5.000000</td>\n",
              "      <td>-6.000000</td>\n",
              "    </tr>\n",
              "    <tr>\n",
              "      <th>25%</th>\n",
              "      <td>2.000000</td>\n",
              "      <td>1.000000</td>\n",
              "      <td>2.000000</td>\n",
              "      <td>1400.000000</td>\n",
              "      <td>1.000000</td>\n",
              "      <td>299.000000</td>\n",
              "      <td>800.000000</td>\n",
              "      <td>17.000000</td>\n",
              "      <td>15.000000</td>\n",
              "      <td>17.000000</td>\n",
              "    </tr>\n",
              "    <tr>\n",
              "      <th>50%</th>\n",
              "      <td>3.000000</td>\n",
              "      <td>3.000000</td>\n",
              "      <td>3.000000</td>\n",
              "      <td>2200.000000</td>\n",
              "      <td>2.000000</td>\n",
              "      <td>595.000000</td>\n",
              "      <td>1095.000000</td>\n",
              "      <td>37.000000</td>\n",
              "      <td>34.000000</td>\n",
              "      <td>41.000000</td>\n",
              "    </tr>\n",
              "    <tr>\n",
              "      <th>75%</th>\n",
              "      <td>4.000000</td>\n",
              "      <td>4.000000</td>\n",
              "      <td>4.000000</td>\n",
              "      <td>3395.000000</td>\n",
              "      <td>3.000000</td>\n",
              "      <td>949.000000</td>\n",
              "      <td>1395.000000</td>\n",
              "      <td>65.000000</td>\n",
              "      <td>62.000000</td>\n",
              "      <td>85.000000</td>\n",
              "    </tr>\n",
              "    <tr>\n",
              "      <th>max</th>\n",
              "      <td>6.000000</td>\n",
              "      <td>7.000000</td>\n",
              "      <td>411.000000</td>\n",
              "      <td>27100.000000</td>\n",
              "      <td>20.000000</td>\n",
              "      <td>14700.000000</td>\n",
              "      <td>14700.000000</td>\n",
              "      <td>171.000000</td>\n",
              "      <td>154.000000</td>\n",
              "      <td>285.000000</td>\n",
              "    </tr>\n",
              "  </tbody>\n",
              "</table>\n",
              "</div>\n",
              "    <div class=\"colab-df-buttons\">\n",
              "\n",
              "  <div class=\"colab-df-container\">\n",
              "    <button class=\"colab-df-convert\" onclick=\"convertToInteractive('df-8cfb0f32-50a0-4548-aa95-74ae7003ec57')\"\n",
              "            title=\"Convert this dataframe to an interactive table.\"\n",
              "            style=\"display:none;\">\n",
              "\n",
              "  <svg xmlns=\"http://www.w3.org/2000/svg\" height=\"24px\" viewBox=\"0 -960 960 960\">\n",
              "    <path d=\"M120-120v-720h720v720H120Zm60-500h600v-160H180v160Zm220 220h160v-160H400v160Zm0 220h160v-160H400v160ZM180-400h160v-160H180v160Zm440 0h160v-160H620v160ZM180-180h160v-160H180v160Zm440 0h160v-160H620v160Z\"/>\n",
              "  </svg>\n",
              "    </button>\n",
              "\n",
              "  <style>\n",
              "    .colab-df-container {\n",
              "      display:flex;\n",
              "      gap: 12px;\n",
              "    }\n",
              "\n",
              "    .colab-df-convert {\n",
              "      background-color: #E8F0FE;\n",
              "      border: none;\n",
              "      border-radius: 50%;\n",
              "      cursor: pointer;\n",
              "      display: none;\n",
              "      fill: #1967D2;\n",
              "      height: 32px;\n",
              "      padding: 0 0 0 0;\n",
              "      width: 32px;\n",
              "    }\n",
              "\n",
              "    .colab-df-convert:hover {\n",
              "      background-color: #E2EBFA;\n",
              "      box-shadow: 0px 1px 2px rgba(60, 64, 67, 0.3), 0px 1px 3px 1px rgba(60, 64, 67, 0.15);\n",
              "      fill: #174EA6;\n",
              "    }\n",
              "\n",
              "    .colab-df-buttons div {\n",
              "      margin-bottom: 4px;\n",
              "    }\n",
              "\n",
              "    [theme=dark] .colab-df-convert {\n",
              "      background-color: #3B4455;\n",
              "      fill: #D2E3FC;\n",
              "    }\n",
              "\n",
              "    [theme=dark] .colab-df-convert:hover {\n",
              "      background-color: #434B5C;\n",
              "      box-shadow: 0px 1px 3px 1px rgba(0, 0, 0, 0.15);\n",
              "      filter: drop-shadow(0px 1px 2px rgba(0, 0, 0, 0.3));\n",
              "      fill: #FFFFFF;\n",
              "    }\n",
              "  </style>\n",
              "\n",
              "    <script>\n",
              "      const buttonEl =\n",
              "        document.querySelector('#df-8cfb0f32-50a0-4548-aa95-74ae7003ec57 button.colab-df-convert');\n",
              "      buttonEl.style.display =\n",
              "        google.colab.kernel.accessAllowed ? 'block' : 'none';\n",
              "\n",
              "      async function convertToInteractive(key) {\n",
              "        const element = document.querySelector('#df-8cfb0f32-50a0-4548-aa95-74ae7003ec57');\n",
              "        const dataTable =\n",
              "          await google.colab.kernel.invokeFunction('convertToInteractive',\n",
              "                                                    [key], {});\n",
              "        if (!dataTable) return;\n",
              "\n",
              "        const docLinkHtml = 'Like what you see? Visit the ' +\n",
              "          '<a target=\"_blank\" href=https://colab.research.google.com/notebooks/data_table.ipynb>data table notebook</a>'\n",
              "          + ' to learn more about interactive tables.';\n",
              "        element.innerHTML = '';\n",
              "        dataTable['output_type'] = 'display_data';\n",
              "        await google.colab.output.renderOutput(dataTable, element);\n",
              "        const docLink = document.createElement('div');\n",
              "        docLink.innerHTML = docLinkHtml;\n",
              "        element.appendChild(docLink);\n",
              "      }\n",
              "    </script>\n",
              "  </div>\n",
              "\n",
              "\n",
              "<div id=\"df-cce9c1d3-eb2a-47bc-a454-b6d5219ca0e3\">\n",
              "  <button class=\"colab-df-quickchart\" onclick=\"quickchart('df-cce9c1d3-eb2a-47bc-a454-b6d5219ca0e3')\"\n",
              "            title=\"Suggest charts\"\n",
              "            style=\"display:none;\">\n",
              "\n",
              "<svg xmlns=\"http://www.w3.org/2000/svg\" height=\"24px\"viewBox=\"0 0 24 24\"\n",
              "     width=\"24px\">\n",
              "    <g>\n",
              "        <path d=\"M19 3H5c-1.1 0-2 .9-2 2v14c0 1.1.9 2 2 2h14c1.1 0 2-.9 2-2V5c0-1.1-.9-2-2-2zM9 17H7v-7h2v7zm4 0h-2V7h2v10zm4 0h-2v-4h2v4z\"/>\n",
              "    </g>\n",
              "</svg>\n",
              "  </button>\n",
              "\n",
              "<style>\n",
              "  .colab-df-quickchart {\n",
              "      --bg-color: #E8F0FE;\n",
              "      --fill-color: #1967D2;\n",
              "      --hover-bg-color: #E2EBFA;\n",
              "      --hover-fill-color: #174EA6;\n",
              "      --disabled-fill-color: #AAA;\n",
              "      --disabled-bg-color: #DDD;\n",
              "  }\n",
              "\n",
              "  [theme=dark] .colab-df-quickchart {\n",
              "      --bg-color: #3B4455;\n",
              "      --fill-color: #D2E3FC;\n",
              "      --hover-bg-color: #434B5C;\n",
              "      --hover-fill-color: #FFFFFF;\n",
              "      --disabled-bg-color: #3B4455;\n",
              "      --disabled-fill-color: #666;\n",
              "  }\n",
              "\n",
              "  .colab-df-quickchart {\n",
              "    background-color: var(--bg-color);\n",
              "    border: none;\n",
              "    border-radius: 50%;\n",
              "    cursor: pointer;\n",
              "    display: none;\n",
              "    fill: var(--fill-color);\n",
              "    height: 32px;\n",
              "    padding: 0;\n",
              "    width: 32px;\n",
              "  }\n",
              "\n",
              "  .colab-df-quickchart:hover {\n",
              "    background-color: var(--hover-bg-color);\n",
              "    box-shadow: 0 1px 2px rgba(60, 64, 67, 0.3), 0 1px 3px 1px rgba(60, 64, 67, 0.15);\n",
              "    fill: var(--button-hover-fill-color);\n",
              "  }\n",
              "\n",
              "  .colab-df-quickchart-complete:disabled,\n",
              "  .colab-df-quickchart-complete:disabled:hover {\n",
              "    background-color: var(--disabled-bg-color);\n",
              "    fill: var(--disabled-fill-color);\n",
              "    box-shadow: none;\n",
              "  }\n",
              "\n",
              "  .colab-df-spinner {\n",
              "    border: 2px solid var(--fill-color);\n",
              "    border-color: transparent;\n",
              "    border-bottom-color: var(--fill-color);\n",
              "    animation:\n",
              "      spin 1s steps(1) infinite;\n",
              "  }\n",
              "\n",
              "  @keyframes spin {\n",
              "    0% {\n",
              "      border-color: transparent;\n",
              "      border-bottom-color: var(--fill-color);\n",
              "      border-left-color: var(--fill-color);\n",
              "    }\n",
              "    20% {\n",
              "      border-color: transparent;\n",
              "      border-left-color: var(--fill-color);\n",
              "      border-top-color: var(--fill-color);\n",
              "    }\n",
              "    30% {\n",
              "      border-color: transparent;\n",
              "      border-left-color: var(--fill-color);\n",
              "      border-top-color: var(--fill-color);\n",
              "      border-right-color: var(--fill-color);\n",
              "    }\n",
              "    40% {\n",
              "      border-color: transparent;\n",
              "      border-right-color: var(--fill-color);\n",
              "      border-top-color: var(--fill-color);\n",
              "    }\n",
              "    60% {\n",
              "      border-color: transparent;\n",
              "      border-right-color: var(--fill-color);\n",
              "    }\n",
              "    80% {\n",
              "      border-color: transparent;\n",
              "      border-right-color: var(--fill-color);\n",
              "      border-bottom-color: var(--fill-color);\n",
              "    }\n",
              "    90% {\n",
              "      border-color: transparent;\n",
              "      border-bottom-color: var(--fill-color);\n",
              "    }\n",
              "  }\n",
              "</style>\n",
              "\n",
              "  <script>\n",
              "    async function quickchart(key) {\n",
              "      const quickchartButtonEl =\n",
              "        document.querySelector('#' + key + ' button');\n",
              "      quickchartButtonEl.disabled = true;  // To prevent multiple clicks.\n",
              "      quickchartButtonEl.classList.add('colab-df-spinner');\n",
              "      try {\n",
              "        const charts = await google.colab.kernel.invokeFunction(\n",
              "            'suggestCharts', [key], {});\n",
              "      } catch (error) {\n",
              "        console.error('Error during call to suggestCharts:', error);\n",
              "      }\n",
              "      quickchartButtonEl.classList.remove('colab-df-spinner');\n",
              "      quickchartButtonEl.classList.add('colab-df-quickchart-complete');\n",
              "    }\n",
              "    (() => {\n",
              "      let quickchartButtonEl =\n",
              "        document.querySelector('#df-cce9c1d3-eb2a-47bc-a454-b6d5219ca0e3 button');\n",
              "      quickchartButtonEl.style.display =\n",
              "        google.colab.kernel.accessAllowed ? 'block' : 'none';\n",
              "    })();\n",
              "  </script>\n",
              "</div>\n",
              "\n",
              "    </div>\n",
              "  </div>\n"
            ],
            "application/vnd.google.colaboratory.intrinsic+json": {
              "type": "dataframe",
              "summary": "{\n  \"name\": \"df\",\n  \"rows\": 8,\n  \"fields\": [\n    {\n      \"column\": \"market_id\",\n      \"properties\": {\n        \"dtype\": \"number\",\n        \"std\": 69451.34603235079,\n        \"min\": 1.0,\n        \"max\": 196441.0,\n        \"num_unique_values\": 8,\n        \"samples\": [\n          2.978706074597462,\n          3.0,\n          196441.0\n        ],\n        \"semantic_type\": \"\",\n        \"description\": \"\"\n      }\n    },\n    {\n      \"column\": \"order_protocol\",\n      \"properties\": {\n        \"dtype\": \"number\",\n        \"std\": 69448.5235476843,\n        \"min\": 1.0,\n        \"max\": 196433.0,\n        \"num_unique_values\": 7,\n        \"samples\": [\n          196433.0,\n          2.8823517433425137,\n          4.0\n        ],\n        \"semantic_type\": \"\",\n        \"description\": \"\"\n      }\n    },\n    {\n      \"column\": \"total_items\",\n      \"properties\": {\n        \"dtype\": \"number\",\n        \"std\": 69779.92527927404,\n        \"min\": 1.0,\n        \"max\": 197428.0,\n        \"num_unique_values\": 8,\n        \"samples\": [\n          3.196390582896043,\n          3.0,\n          197428.0\n        ],\n        \"semantic_type\": \"\",\n        \"description\": \"\"\n      }\n    },\n    {\n      \"column\": \"subtotal\",\n      \"properties\": {\n        \"dtype\": \"number\",\n        \"std\": 68428.68300026414,\n        \"min\": 0.0,\n        \"max\": 197428.0,\n        \"num_unique_values\": 8,\n        \"samples\": [\n          2682.331401827502,\n          2200.0,\n          197428.0\n        ],\n        \"semantic_type\": \"\",\n        \"description\": \"\"\n      }\n    },\n    {\n      \"column\": \"num_distinct_items\",\n      \"properties\": {\n        \"dtype\": \"number\",\n        \"std\": 69799.75814792675,\n        \"min\": 1.0,\n        \"max\": 197428.0,\n        \"num_unique_values\": 7,\n        \"samples\": [\n          197428.0,\n          2.6707913771096297,\n          3.0\n        ],\n        \"semantic_type\": \"\",\n        \"description\": \"\"\n      }\n    },\n    {\n      \"column\": \"min_item_price\",\n      \"properties\": {\n        \"dtype\": \"number\",\n        \"std\": 69088.82623113973,\n        \"min\": -86.0,\n        \"max\": 197428.0,\n        \"num_unique_values\": 8,\n        \"samples\": [\n          686.2184695180015,\n          595.0,\n          197428.0\n        ],\n        \"semantic_type\": \"\",\n        \"description\": \"\"\n      }\n    },\n    {\n      \"column\": \"max_item_price\",\n      \"properties\": {\n        \"dtype\": \"number\",\n        \"std\": 68978.09320015657,\n        \"min\": 0.0,\n        \"max\": 197428.0,\n        \"num_unique_values\": 8,\n        \"samples\": [\n          1159.5886297789573,\n          1095.0,\n          197428.0\n        ],\n        \"semantic_type\": \"\",\n        \"description\": \"\"\n      }\n    },\n    {\n      \"column\": \"total_onshift_partners\",\n      \"properties\": {\n        \"dtype\": \"number\",\n        \"std\": 64033.42286103816,\n        \"min\": -4.0,\n        \"max\": 181166.0,\n        \"num_unique_values\": 8,\n        \"samples\": [\n          44.808093130057514,\n          37.0,\n          181166.0\n        ],\n        \"semantic_type\": \"\",\n        \"description\": \"\"\n      }\n    },\n    {\n      \"column\": \"total_busy_partners\",\n      \"properties\": {\n        \"dtype\": \"number\",\n        \"std\": 64035.00743891357,\n        \"min\": -5.0,\n        \"max\": 181166.0,\n        \"num_unique_values\": 8,\n        \"samples\": [\n          41.739746972389966,\n          34.0,\n          181166.0\n        ],\n        \"semantic_type\": \"\",\n        \"description\": \"\"\n      }\n    },\n    {\n      \"column\": \"total_outstanding_orders\",\n      \"properties\": {\n        \"dtype\": \"number\",\n        \"std\": 64025.01008762904,\n        \"min\": -6.0,\n        \"max\": 181166.0,\n        \"num_unique_values\": 8,\n        \"samples\": [\n          58.0500645816544,\n          41.0,\n          181166.0\n        ],\n        \"semantic_type\": \"\",\n        \"description\": \"\"\n      }\n    }\n  ]\n}"
            }
          },
          "metadata": {},
          "execution_count": 7
        }
      ]
    },
    {
      "cell_type": "code",
      "source": [
        "#check unque value count of features\n",
        "df.nunique()"
      ],
      "metadata": {
        "id": "IL5Mn2vnesFO",
        "outputId": "da0ff0da-616f-49db-f2f5-3be8d1d3f078",
        "execution": {
          "iopub.status.busy": "2023-10-10T10:40:32.261715Z",
          "iopub.execute_input": "2023-10-10T10:40:32.262179Z",
          "iopub.status.idle": "2023-10-10T10:40:32.478795Z",
          "shell.execute_reply.started": "2023-10-10T10:40:32.26213Z",
          "shell.execute_reply": "2023-10-10T10:40:32.477667Z"
        },
        "trusted": true,
        "colab": {
          "base_uri": "https://localhost:8080/",
          "height": 523
        }
      },
      "execution_count": null,
      "outputs": [
        {
          "output_type": "execute_result",
          "data": {
            "text/plain": [
              "market_id                        6\n",
              "created_at                  180985\n",
              "actual_delivery_time        178110\n",
              "store_id                      6743\n",
              "store_primary_category          74\n",
              "order_protocol                   7\n",
              "total_items                     57\n",
              "subtotal                      8368\n",
              "num_distinct_items              20\n",
              "min_item_price                2312\n",
              "max_item_price                2652\n",
              "total_onshift_partners         172\n",
              "total_busy_partners            159\n",
              "total_outstanding_orders       281\n",
              "dtype: int64"
            ],
            "text/html": [
              "<div>\n",
              "<style scoped>\n",
              "    .dataframe tbody tr th:only-of-type {\n",
              "        vertical-align: middle;\n",
              "    }\n",
              "\n",
              "    .dataframe tbody tr th {\n",
              "        vertical-align: top;\n",
              "    }\n",
              "\n",
              "    .dataframe thead th {\n",
              "        text-align: right;\n",
              "    }\n",
              "</style>\n",
              "<table border=\"1\" class=\"dataframe\">\n",
              "  <thead>\n",
              "    <tr style=\"text-align: right;\">\n",
              "      <th></th>\n",
              "      <th>0</th>\n",
              "    </tr>\n",
              "  </thead>\n",
              "  <tbody>\n",
              "    <tr>\n",
              "      <th>market_id</th>\n",
              "      <td>6</td>\n",
              "    </tr>\n",
              "    <tr>\n",
              "      <th>created_at</th>\n",
              "      <td>180985</td>\n",
              "    </tr>\n",
              "    <tr>\n",
              "      <th>actual_delivery_time</th>\n",
              "      <td>178110</td>\n",
              "    </tr>\n",
              "    <tr>\n",
              "      <th>store_id</th>\n",
              "      <td>6743</td>\n",
              "    </tr>\n",
              "    <tr>\n",
              "      <th>store_primary_category</th>\n",
              "      <td>74</td>\n",
              "    </tr>\n",
              "    <tr>\n",
              "      <th>order_protocol</th>\n",
              "      <td>7</td>\n",
              "    </tr>\n",
              "    <tr>\n",
              "      <th>total_items</th>\n",
              "      <td>57</td>\n",
              "    </tr>\n",
              "    <tr>\n",
              "      <th>subtotal</th>\n",
              "      <td>8368</td>\n",
              "    </tr>\n",
              "    <tr>\n",
              "      <th>num_distinct_items</th>\n",
              "      <td>20</td>\n",
              "    </tr>\n",
              "    <tr>\n",
              "      <th>min_item_price</th>\n",
              "      <td>2312</td>\n",
              "    </tr>\n",
              "    <tr>\n",
              "      <th>max_item_price</th>\n",
              "      <td>2652</td>\n",
              "    </tr>\n",
              "    <tr>\n",
              "      <th>total_onshift_partners</th>\n",
              "      <td>172</td>\n",
              "    </tr>\n",
              "    <tr>\n",
              "      <th>total_busy_partners</th>\n",
              "      <td>159</td>\n",
              "    </tr>\n",
              "    <tr>\n",
              "      <th>total_outstanding_orders</th>\n",
              "      <td>281</td>\n",
              "    </tr>\n",
              "  </tbody>\n",
              "</table>\n",
              "</div><br><label><b>dtype:</b> int64</label>"
            ]
          },
          "metadata": {},
          "execution_count": 8
        }
      ]
    },
    {
      "cell_type": "code",
      "source": [
        "df.isnull().sum()"
      ],
      "metadata": {
        "id": "TpGKVV16Jetb",
        "outputId": "83a4bf02-c1a0-40b3-8a0a-741d2d4a4963",
        "execution": {
          "iopub.status.busy": "2023-10-10T10:40:32.48036Z",
          "iopub.execute_input": "2023-10-10T10:40:32.480815Z",
          "iopub.status.idle": "2023-10-10T10:40:32.533095Z",
          "shell.execute_reply.started": "2023-10-10T10:40:32.480773Z",
          "shell.execute_reply": "2023-10-10T10:40:32.532022Z"
        },
        "trusted": true,
        "colab": {
          "base_uri": "https://localhost:8080/",
          "height": 523
        }
      },
      "execution_count": null,
      "outputs": [
        {
          "output_type": "execute_result",
          "data": {
            "text/plain": [
              "market_id                     987\n",
              "created_at                      0\n",
              "actual_delivery_time            7\n",
              "store_id                        0\n",
              "store_primary_category       4760\n",
              "order_protocol                995\n",
              "total_items                     0\n",
              "subtotal                        0\n",
              "num_distinct_items              0\n",
              "min_item_price                  0\n",
              "max_item_price                  0\n",
              "total_onshift_partners      16262\n",
              "total_busy_partners         16262\n",
              "total_outstanding_orders    16262\n",
              "dtype: int64"
            ],
            "text/html": [
              "<div>\n",
              "<style scoped>\n",
              "    .dataframe tbody tr th:only-of-type {\n",
              "        vertical-align: middle;\n",
              "    }\n",
              "\n",
              "    .dataframe tbody tr th {\n",
              "        vertical-align: top;\n",
              "    }\n",
              "\n",
              "    .dataframe thead th {\n",
              "        text-align: right;\n",
              "    }\n",
              "</style>\n",
              "<table border=\"1\" class=\"dataframe\">\n",
              "  <thead>\n",
              "    <tr style=\"text-align: right;\">\n",
              "      <th></th>\n",
              "      <th>0</th>\n",
              "    </tr>\n",
              "  </thead>\n",
              "  <tbody>\n",
              "    <tr>\n",
              "      <th>market_id</th>\n",
              "      <td>987</td>\n",
              "    </tr>\n",
              "    <tr>\n",
              "      <th>created_at</th>\n",
              "      <td>0</td>\n",
              "    </tr>\n",
              "    <tr>\n",
              "      <th>actual_delivery_time</th>\n",
              "      <td>7</td>\n",
              "    </tr>\n",
              "    <tr>\n",
              "      <th>store_id</th>\n",
              "      <td>0</td>\n",
              "    </tr>\n",
              "    <tr>\n",
              "      <th>store_primary_category</th>\n",
              "      <td>4760</td>\n",
              "    </tr>\n",
              "    <tr>\n",
              "      <th>order_protocol</th>\n",
              "      <td>995</td>\n",
              "    </tr>\n",
              "    <tr>\n",
              "      <th>total_items</th>\n",
              "      <td>0</td>\n",
              "    </tr>\n",
              "    <tr>\n",
              "      <th>subtotal</th>\n",
              "      <td>0</td>\n",
              "    </tr>\n",
              "    <tr>\n",
              "      <th>num_distinct_items</th>\n",
              "      <td>0</td>\n",
              "    </tr>\n",
              "    <tr>\n",
              "      <th>min_item_price</th>\n",
              "      <td>0</td>\n",
              "    </tr>\n",
              "    <tr>\n",
              "      <th>max_item_price</th>\n",
              "      <td>0</td>\n",
              "    </tr>\n",
              "    <tr>\n",
              "      <th>total_onshift_partners</th>\n",
              "      <td>16262</td>\n",
              "    </tr>\n",
              "    <tr>\n",
              "      <th>total_busy_partners</th>\n",
              "      <td>16262</td>\n",
              "    </tr>\n",
              "    <tr>\n",
              "      <th>total_outstanding_orders</th>\n",
              "      <td>16262</td>\n",
              "    </tr>\n",
              "  </tbody>\n",
              "</table>\n",
              "</div><br><label><b>dtype:</b> int64</label>"
            ]
          },
          "metadata": {},
          "execution_count": 9
        }
      ]
    },
    {
      "cell_type": "markdown",
      "source": [
        "##**2. Data preprocessing**"
      ],
      "metadata": {
        "id": "XqurgnEHA6ef"
      }
    },
    {
      "cell_type": "markdown",
      "source": [
        "**1. Feature engineering:** Creating the target column time taken in each delivery from order timestamp (created_at) and delivery timestamp (actual_delivery_time)"
      ],
      "metadata": {
        "id": "U4xfccfJGb7K"
      }
    },
    {
      "cell_type": "code",
      "source": [
        "#convert column \"created_at\" and \"actual_delivery_time\" to pandas datetime\n",
        "df[\"actual_delivery_time\"] = pd.to_datetime(df[\"actual_delivery_time\"])\n",
        "df[\"created_at\"]=pd.to_datetime(df[\"created_at\"])"
      ],
      "metadata": {
        "id": "iFQRfUe8GaiI",
        "execution": {
          "iopub.status.busy": "2023-10-10T10:40:32.534396Z",
          "iopub.execute_input": "2023-10-10T10:40:32.534738Z",
          "iopub.status.idle": "2023-10-10T10:40:32.675426Z",
          "shell.execute_reply.started": "2023-10-10T10:40:32.534711Z",
          "shell.execute_reply": "2023-10-10T10:40:32.674385Z"
        },
        "trusted": true
      },
      "execution_count": null,
      "outputs": []
    },
    {
      "cell_type": "code",
      "source": [
        "#Create new feature \"delivery_time\" by substracting \"created_at\" from \"actual_delivery_time\"\n",
        "df[\"delivery_time\"] = df[\"actual_delivery_time\"] - df[\"created_at\"]"
      ],
      "metadata": {
        "id": "cdLuii3PjR_h",
        "execution": {
          "iopub.status.busy": "2023-10-10T10:40:32.678789Z",
          "iopub.execute_input": "2023-10-10T10:40:32.679172Z",
          "iopub.status.idle": "2023-10-10T10:40:32.689322Z",
          "shell.execute_reply.started": "2023-10-10T10:40:32.679141Z",
          "shell.execute_reply": "2023-10-10T10:40:32.688152Z"
        },
        "trusted": true
      },
      "execution_count": null,
      "outputs": []
    },
    {
      "cell_type": "markdown",
      "source": [
        "**2. Getting hour of day from the order time and also the day of the week**"
      ],
      "metadata": {
        "id": "6pijb4icLVtA"
      }
    },
    {
      "cell_type": "code",
      "source": [
        "df[\"hour\"] = df[\"created_at\"].dt.hour\n",
        "df[\"day\"] = df[\"created_at\"].dt.dayofweek\n"
      ],
      "metadata": {
        "id": "Mv5kyzdXLjhR",
        "execution": {
          "iopub.status.busy": "2023-10-10T10:40:32.690383Z",
          "iopub.execute_input": "2023-10-10T10:40:32.690805Z",
          "iopub.status.idle": "2023-10-10T10:40:32.746469Z",
          "shell.execute_reply.started": "2023-10-10T10:40:32.690756Z",
          "shell.execute_reply": "2023-10-10T10:40:32.745303Z"
        },
        "trusted": true
      },
      "execution_count": null,
      "outputs": []
    },
    {
      "cell_type": "markdown",
      "source": [
        "**3. Understanding pandas datetime data type and what function it provides by default**"
      ],
      "metadata": {
        "id": "3dwWGUVDMfeA"
      }
    },
    {
      "cell_type": "code",
      "source": [
        "#Timedelta is the pandas equivalent of python’s datetime.timedelta and is interchangeable with it in most cases.\n",
        "#1. Convert the df[\"actual_delivery_time\"] series to pandas timedelta 2. Convert it to seconds 3. Divide by 60 to get the delivery time in minutes\n",
        "df[\"delivery_time\"] = pd.to_timedelta(df['delivery_time']).dt.total_seconds() / 60\n",
        "df.head()"
      ],
      "metadata": {
        "id": "h8Z3-jD7ki6u",
        "outputId": "ca9fd281-3864-4ac7-ff8b-be58094bdf37",
        "execution": {
          "iopub.status.busy": "2023-10-10T10:40:32.748117Z",
          "iopub.execute_input": "2023-10-10T10:40:32.748454Z",
          "iopub.status.idle": "2023-10-10T10:40:32.775311Z",
          "shell.execute_reply.started": "2023-10-10T10:40:32.748426Z",
          "shell.execute_reply": "2023-10-10T10:40:32.774453Z"
        },
        "trusted": true,
        "colab": {
          "base_uri": "https://localhost:8080/",
          "height": 313
        }
      },
      "execution_count": null,
      "outputs": [
        {
          "output_type": "execute_result",
          "data": {
            "text/plain": [
              "   market_id          created_at actual_delivery_time  \\\n",
              "0        1.0 2015-02-06 22:24:17  2015-02-06 23:27:16   \n",
              "1        2.0 2015-02-10 21:49:25  2015-02-10 22:56:29   \n",
              "2        3.0 2015-01-22 20:39:28  2015-01-22 21:09:09   \n",
              "3        3.0 2015-02-03 21:21:45  2015-02-03 22:13:00   \n",
              "4        3.0 2015-02-15 02:40:36  2015-02-15 03:20:26   \n",
              "\n",
              "                           store_id store_primary_category  order_protocol  \\\n",
              "0  df263d996281d984952c07998dc54358               american             1.0   \n",
              "1  f0ade77b43923b38237db569b016ba25                mexican             2.0   \n",
              "2  f0ade77b43923b38237db569b016ba25                    NaN             1.0   \n",
              "3  f0ade77b43923b38237db569b016ba25                    NaN             1.0   \n",
              "4  f0ade77b43923b38237db569b016ba25                    NaN             1.0   \n",
              "\n",
              "   total_items  subtotal  num_distinct_items  min_item_price  max_item_price  \\\n",
              "0            4      3441                   4             557            1239   \n",
              "1            1      1900                   1            1400            1400   \n",
              "2            1      1900                   1            1900            1900   \n",
              "3            6      6900                   5             600            1800   \n",
              "4            3      3900                   3            1100            1600   \n",
              "\n",
              "   total_onshift_partners  total_busy_partners  total_outstanding_orders  \\\n",
              "0                    33.0                 14.0                      21.0   \n",
              "1                     1.0                  2.0                       2.0   \n",
              "2                     1.0                  0.0                       0.0   \n",
              "3                     1.0                  1.0                       2.0   \n",
              "4                     6.0                  6.0                       9.0   \n",
              "\n",
              "   delivery_time  hour  day  \n",
              "0      62.983333    22    4  \n",
              "1      67.066667    21    1  \n",
              "2      29.683333    20    3  \n",
              "3      51.250000    21    1  \n",
              "4      39.833333     2    6  "
            ],
            "text/html": [
              "\n",
              "  <div id=\"df-a92f47e1-d830-40ed-8c10-a5c116ce1140\" class=\"colab-df-container\">\n",
              "    <div>\n",
              "<style scoped>\n",
              "    .dataframe tbody tr th:only-of-type {\n",
              "        vertical-align: middle;\n",
              "    }\n",
              "\n",
              "    .dataframe tbody tr th {\n",
              "        vertical-align: top;\n",
              "    }\n",
              "\n",
              "    .dataframe thead th {\n",
              "        text-align: right;\n",
              "    }\n",
              "</style>\n",
              "<table border=\"1\" class=\"dataframe\">\n",
              "  <thead>\n",
              "    <tr style=\"text-align: right;\">\n",
              "      <th></th>\n",
              "      <th>market_id</th>\n",
              "      <th>created_at</th>\n",
              "      <th>actual_delivery_time</th>\n",
              "      <th>store_id</th>\n",
              "      <th>store_primary_category</th>\n",
              "      <th>order_protocol</th>\n",
              "      <th>total_items</th>\n",
              "      <th>subtotal</th>\n",
              "      <th>num_distinct_items</th>\n",
              "      <th>min_item_price</th>\n",
              "      <th>max_item_price</th>\n",
              "      <th>total_onshift_partners</th>\n",
              "      <th>total_busy_partners</th>\n",
              "      <th>total_outstanding_orders</th>\n",
              "      <th>delivery_time</th>\n",
              "      <th>hour</th>\n",
              "      <th>day</th>\n",
              "    </tr>\n",
              "  </thead>\n",
              "  <tbody>\n",
              "    <tr>\n",
              "      <th>0</th>\n",
              "      <td>1.0</td>\n",
              "      <td>2015-02-06 22:24:17</td>\n",
              "      <td>2015-02-06 23:27:16</td>\n",
              "      <td>df263d996281d984952c07998dc54358</td>\n",
              "      <td>american</td>\n",
              "      <td>1.0</td>\n",
              "      <td>4</td>\n",
              "      <td>3441</td>\n",
              "      <td>4</td>\n",
              "      <td>557</td>\n",
              "      <td>1239</td>\n",
              "      <td>33.0</td>\n",
              "      <td>14.0</td>\n",
              "      <td>21.0</td>\n",
              "      <td>62.983333</td>\n",
              "      <td>22</td>\n",
              "      <td>4</td>\n",
              "    </tr>\n",
              "    <tr>\n",
              "      <th>1</th>\n",
              "      <td>2.0</td>\n",
              "      <td>2015-02-10 21:49:25</td>\n",
              "      <td>2015-02-10 22:56:29</td>\n",
              "      <td>f0ade77b43923b38237db569b016ba25</td>\n",
              "      <td>mexican</td>\n",
              "      <td>2.0</td>\n",
              "      <td>1</td>\n",
              "      <td>1900</td>\n",
              "      <td>1</td>\n",
              "      <td>1400</td>\n",
              "      <td>1400</td>\n",
              "      <td>1.0</td>\n",
              "      <td>2.0</td>\n",
              "      <td>2.0</td>\n",
              "      <td>67.066667</td>\n",
              "      <td>21</td>\n",
              "      <td>1</td>\n",
              "    </tr>\n",
              "    <tr>\n",
              "      <th>2</th>\n",
              "      <td>3.0</td>\n",
              "      <td>2015-01-22 20:39:28</td>\n",
              "      <td>2015-01-22 21:09:09</td>\n",
              "      <td>f0ade77b43923b38237db569b016ba25</td>\n",
              "      <td>NaN</td>\n",
              "      <td>1.0</td>\n",
              "      <td>1</td>\n",
              "      <td>1900</td>\n",
              "      <td>1</td>\n",
              "      <td>1900</td>\n",
              "      <td>1900</td>\n",
              "      <td>1.0</td>\n",
              "      <td>0.0</td>\n",
              "      <td>0.0</td>\n",
              "      <td>29.683333</td>\n",
              "      <td>20</td>\n",
              "      <td>3</td>\n",
              "    </tr>\n",
              "    <tr>\n",
              "      <th>3</th>\n",
              "      <td>3.0</td>\n",
              "      <td>2015-02-03 21:21:45</td>\n",
              "      <td>2015-02-03 22:13:00</td>\n",
              "      <td>f0ade77b43923b38237db569b016ba25</td>\n",
              "      <td>NaN</td>\n",
              "      <td>1.0</td>\n",
              "      <td>6</td>\n",
              "      <td>6900</td>\n",
              "      <td>5</td>\n",
              "      <td>600</td>\n",
              "      <td>1800</td>\n",
              "      <td>1.0</td>\n",
              "      <td>1.0</td>\n",
              "      <td>2.0</td>\n",
              "      <td>51.250000</td>\n",
              "      <td>21</td>\n",
              "      <td>1</td>\n",
              "    </tr>\n",
              "    <tr>\n",
              "      <th>4</th>\n",
              "      <td>3.0</td>\n",
              "      <td>2015-02-15 02:40:36</td>\n",
              "      <td>2015-02-15 03:20:26</td>\n",
              "      <td>f0ade77b43923b38237db569b016ba25</td>\n",
              "      <td>NaN</td>\n",
              "      <td>1.0</td>\n",
              "      <td>3</td>\n",
              "      <td>3900</td>\n",
              "      <td>3</td>\n",
              "      <td>1100</td>\n",
              "      <td>1600</td>\n",
              "      <td>6.0</td>\n",
              "      <td>6.0</td>\n",
              "      <td>9.0</td>\n",
              "      <td>39.833333</td>\n",
              "      <td>2</td>\n",
              "      <td>6</td>\n",
              "    </tr>\n",
              "  </tbody>\n",
              "</table>\n",
              "</div>\n",
              "    <div class=\"colab-df-buttons\">\n",
              "\n",
              "  <div class=\"colab-df-container\">\n",
              "    <button class=\"colab-df-convert\" onclick=\"convertToInteractive('df-a92f47e1-d830-40ed-8c10-a5c116ce1140')\"\n",
              "            title=\"Convert this dataframe to an interactive table.\"\n",
              "            style=\"display:none;\">\n",
              "\n",
              "  <svg xmlns=\"http://www.w3.org/2000/svg\" height=\"24px\" viewBox=\"0 -960 960 960\">\n",
              "    <path d=\"M120-120v-720h720v720H120Zm60-500h600v-160H180v160Zm220 220h160v-160H400v160Zm0 220h160v-160H400v160ZM180-400h160v-160H180v160Zm440 0h160v-160H620v160ZM180-180h160v-160H180v160Zm440 0h160v-160H620v160Z\"/>\n",
              "  </svg>\n",
              "    </button>\n",
              "\n",
              "  <style>\n",
              "    .colab-df-container {\n",
              "      display:flex;\n",
              "      gap: 12px;\n",
              "    }\n",
              "\n",
              "    .colab-df-convert {\n",
              "      background-color: #E8F0FE;\n",
              "      border: none;\n",
              "      border-radius: 50%;\n",
              "      cursor: pointer;\n",
              "      display: none;\n",
              "      fill: #1967D2;\n",
              "      height: 32px;\n",
              "      padding: 0 0 0 0;\n",
              "      width: 32px;\n",
              "    }\n",
              "\n",
              "    .colab-df-convert:hover {\n",
              "      background-color: #E2EBFA;\n",
              "      box-shadow: 0px 1px 2px rgba(60, 64, 67, 0.3), 0px 1px 3px 1px rgba(60, 64, 67, 0.15);\n",
              "      fill: #174EA6;\n",
              "    }\n",
              "\n",
              "    .colab-df-buttons div {\n",
              "      margin-bottom: 4px;\n",
              "    }\n",
              "\n",
              "    [theme=dark] .colab-df-convert {\n",
              "      background-color: #3B4455;\n",
              "      fill: #D2E3FC;\n",
              "    }\n",
              "\n",
              "    [theme=dark] .colab-df-convert:hover {\n",
              "      background-color: #434B5C;\n",
              "      box-shadow: 0px 1px 3px 1px rgba(0, 0, 0, 0.15);\n",
              "      filter: drop-shadow(0px 1px 2px rgba(0, 0, 0, 0.3));\n",
              "      fill: #FFFFFF;\n",
              "    }\n",
              "  </style>\n",
              "\n",
              "    <script>\n",
              "      const buttonEl =\n",
              "        document.querySelector('#df-a92f47e1-d830-40ed-8c10-a5c116ce1140 button.colab-df-convert');\n",
              "      buttonEl.style.display =\n",
              "        google.colab.kernel.accessAllowed ? 'block' : 'none';\n",
              "\n",
              "      async function convertToInteractive(key) {\n",
              "        const element = document.querySelector('#df-a92f47e1-d830-40ed-8c10-a5c116ce1140');\n",
              "        const dataTable =\n",
              "          await google.colab.kernel.invokeFunction('convertToInteractive',\n",
              "                                                    [key], {});\n",
              "        if (!dataTable) return;\n",
              "\n",
              "        const docLinkHtml = 'Like what you see? Visit the ' +\n",
              "          '<a target=\"_blank\" href=https://colab.research.google.com/notebooks/data_table.ipynb>data table notebook</a>'\n",
              "          + ' to learn more about interactive tables.';\n",
              "        element.innerHTML = '';\n",
              "        dataTable['output_type'] = 'display_data';\n",
              "        await google.colab.output.renderOutput(dataTable, element);\n",
              "        const docLink = document.createElement('div');\n",
              "        docLink.innerHTML = docLinkHtml;\n",
              "        element.appendChild(docLink);\n",
              "      }\n",
              "    </script>\n",
              "  </div>\n",
              "\n",
              "\n",
              "<div id=\"df-2c0ca628-695f-4b0e-899e-990899330cf8\">\n",
              "  <button class=\"colab-df-quickchart\" onclick=\"quickchart('df-2c0ca628-695f-4b0e-899e-990899330cf8')\"\n",
              "            title=\"Suggest charts\"\n",
              "            style=\"display:none;\">\n",
              "\n",
              "<svg xmlns=\"http://www.w3.org/2000/svg\" height=\"24px\"viewBox=\"0 0 24 24\"\n",
              "     width=\"24px\">\n",
              "    <g>\n",
              "        <path d=\"M19 3H5c-1.1 0-2 .9-2 2v14c0 1.1.9 2 2 2h14c1.1 0 2-.9 2-2V5c0-1.1-.9-2-2-2zM9 17H7v-7h2v7zm4 0h-2V7h2v10zm4 0h-2v-4h2v4z\"/>\n",
              "    </g>\n",
              "</svg>\n",
              "  </button>\n",
              "\n",
              "<style>\n",
              "  .colab-df-quickchart {\n",
              "      --bg-color: #E8F0FE;\n",
              "      --fill-color: #1967D2;\n",
              "      --hover-bg-color: #E2EBFA;\n",
              "      --hover-fill-color: #174EA6;\n",
              "      --disabled-fill-color: #AAA;\n",
              "      --disabled-bg-color: #DDD;\n",
              "  }\n",
              "\n",
              "  [theme=dark] .colab-df-quickchart {\n",
              "      --bg-color: #3B4455;\n",
              "      --fill-color: #D2E3FC;\n",
              "      --hover-bg-color: #434B5C;\n",
              "      --hover-fill-color: #FFFFFF;\n",
              "      --disabled-bg-color: #3B4455;\n",
              "      --disabled-fill-color: #666;\n",
              "  }\n",
              "\n",
              "  .colab-df-quickchart {\n",
              "    background-color: var(--bg-color);\n",
              "    border: none;\n",
              "    border-radius: 50%;\n",
              "    cursor: pointer;\n",
              "    display: none;\n",
              "    fill: var(--fill-color);\n",
              "    height: 32px;\n",
              "    padding: 0;\n",
              "    width: 32px;\n",
              "  }\n",
              "\n",
              "  .colab-df-quickchart:hover {\n",
              "    background-color: var(--hover-bg-color);\n",
              "    box-shadow: 0 1px 2px rgba(60, 64, 67, 0.3), 0 1px 3px 1px rgba(60, 64, 67, 0.15);\n",
              "    fill: var(--button-hover-fill-color);\n",
              "  }\n",
              "\n",
              "  .colab-df-quickchart-complete:disabled,\n",
              "  .colab-df-quickchart-complete:disabled:hover {\n",
              "    background-color: var(--disabled-bg-color);\n",
              "    fill: var(--disabled-fill-color);\n",
              "    box-shadow: none;\n",
              "  }\n",
              "\n",
              "  .colab-df-spinner {\n",
              "    border: 2px solid var(--fill-color);\n",
              "    border-color: transparent;\n",
              "    border-bottom-color: var(--fill-color);\n",
              "    animation:\n",
              "      spin 1s steps(1) infinite;\n",
              "  }\n",
              "\n",
              "  @keyframes spin {\n",
              "    0% {\n",
              "      border-color: transparent;\n",
              "      border-bottom-color: var(--fill-color);\n",
              "      border-left-color: var(--fill-color);\n",
              "    }\n",
              "    20% {\n",
              "      border-color: transparent;\n",
              "      border-left-color: var(--fill-color);\n",
              "      border-top-color: var(--fill-color);\n",
              "    }\n",
              "    30% {\n",
              "      border-color: transparent;\n",
              "      border-left-color: var(--fill-color);\n",
              "      border-top-color: var(--fill-color);\n",
              "      border-right-color: var(--fill-color);\n",
              "    }\n",
              "    40% {\n",
              "      border-color: transparent;\n",
              "      border-right-color: var(--fill-color);\n",
              "      border-top-color: var(--fill-color);\n",
              "    }\n",
              "    60% {\n",
              "      border-color: transparent;\n",
              "      border-right-color: var(--fill-color);\n",
              "    }\n",
              "    80% {\n",
              "      border-color: transparent;\n",
              "      border-right-color: var(--fill-color);\n",
              "      border-bottom-color: var(--fill-color);\n",
              "    }\n",
              "    90% {\n",
              "      border-color: transparent;\n",
              "      border-bottom-color: var(--fill-color);\n",
              "    }\n",
              "  }\n",
              "</style>\n",
              "\n",
              "  <script>\n",
              "    async function quickchart(key) {\n",
              "      const quickchartButtonEl =\n",
              "        document.querySelector('#' + key + ' button');\n",
              "      quickchartButtonEl.disabled = true;  // To prevent multiple clicks.\n",
              "      quickchartButtonEl.classList.add('colab-df-spinner');\n",
              "      try {\n",
              "        const charts = await google.colab.kernel.invokeFunction(\n",
              "            'suggestCharts', [key], {});\n",
              "      } catch (error) {\n",
              "        console.error('Error during call to suggestCharts:', error);\n",
              "      }\n",
              "      quickchartButtonEl.classList.remove('colab-df-spinner');\n",
              "      quickchartButtonEl.classList.add('colab-df-quickchart-complete');\n",
              "    }\n",
              "    (() => {\n",
              "      let quickchartButtonEl =\n",
              "        document.querySelector('#df-2c0ca628-695f-4b0e-899e-990899330cf8 button');\n",
              "      quickchartButtonEl.style.display =\n",
              "        google.colab.kernel.accessAllowed ? 'block' : 'none';\n",
              "    })();\n",
              "  </script>\n",
              "</div>\n",
              "\n",
              "    </div>\n",
              "  </div>\n"
            ],
            "application/vnd.google.colaboratory.intrinsic+json": {
              "type": "dataframe",
              "variable_name": "df"
            }
          },
          "metadata": {},
          "execution_count": 13
        }
      ]
    },
    {
      "cell_type": "markdown",
      "source": [
        "##**3. Handling null values**"
      ],
      "metadata": {
        "id": "Ml0nsEdYPkCE"
      }
    },
    {
      "cell_type": "code",
      "source": [
        "df.info()"
      ],
      "metadata": {
        "id": "30W5mtuO0H5F",
        "outputId": "3f12e669-e0e8-4790-bca1-12de26bd3f0f",
        "execution": {
          "iopub.status.busy": "2023-10-10T10:40:32.776478Z",
          "iopub.execute_input": "2023-10-10T10:40:32.777387Z",
          "iopub.status.idle": "2023-10-10T10:40:32.817309Z",
          "shell.execute_reply.started": "2023-10-10T10:40:32.777353Z",
          "shell.execute_reply": "2023-10-10T10:40:32.816026Z"
        },
        "trusted": true,
        "colab": {
          "base_uri": "https://localhost:8080/"
        }
      },
      "execution_count": null,
      "outputs": [
        {
          "output_type": "stream",
          "name": "stdout",
          "text": [
            "<class 'pandas.core.frame.DataFrame'>\n",
            "RangeIndex: 197428 entries, 0 to 197427\n",
            "Data columns (total 17 columns):\n",
            " #   Column                    Non-Null Count   Dtype         \n",
            "---  ------                    --------------   -----         \n",
            " 0   market_id                 196441 non-null  float64       \n",
            " 1   created_at                197428 non-null  datetime64[ns]\n",
            " 2   actual_delivery_time      197421 non-null  datetime64[ns]\n",
            " 3   store_id                  197428 non-null  object        \n",
            " 4   store_primary_category    192668 non-null  object        \n",
            " 5   order_protocol            196433 non-null  float64       \n",
            " 6   total_items               197428 non-null  int64         \n",
            " 7   subtotal                  197428 non-null  int64         \n",
            " 8   num_distinct_items        197428 non-null  int64         \n",
            " 9   min_item_price            197428 non-null  int64         \n",
            " 10  max_item_price            197428 non-null  int64         \n",
            " 11  total_onshift_partners    181166 non-null  float64       \n",
            " 12  total_busy_partners       181166 non-null  float64       \n",
            " 13  total_outstanding_orders  181166 non-null  float64       \n",
            " 14  delivery_time             197421 non-null  float64       \n",
            " 15  hour                      197428 non-null  int32         \n",
            " 16  day                       197428 non-null  int32         \n",
            "dtypes: datetime64[ns](2), float64(6), int32(2), int64(5), object(2)\n",
            "memory usage: 24.1+ MB\n"
          ]
        }
      ]
    },
    {
      "cell_type": "markdown",
      "source": [
        "**Inference** : There are null/ missing values in dataset"
      ],
      "metadata": {
        "id": "RdMC0fBR8E-s"
      }
    },
    {
      "cell_type": "code",
      "source": [
        "##Checking Duplicated values in dataset\n",
        "df.duplicated().sum()"
      ],
      "metadata": {
        "id": "h0NGRYaj8cTk",
        "outputId": "a91899ae-daf8-4a7a-d28e-8ad5ae44a9ce",
        "execution": {
          "iopub.status.busy": "2023-10-10T10:40:32.818822Z",
          "iopub.execute_input": "2023-10-10T10:40:32.819284Z",
          "iopub.status.idle": "2023-10-10T10:40:33.00972Z",
          "shell.execute_reply.started": "2023-10-10T10:40:32.81924Z",
          "shell.execute_reply": "2023-10-10T10:40:33.00857Z"
        },
        "trusted": true,
        "colab": {
          "base_uri": "https://localhost:8080/"
        }
      },
      "execution_count": null,
      "outputs": [
        {
          "output_type": "execute_result",
          "data": {
            "text/plain": [
              "0"
            ]
          },
          "metadata": {},
          "execution_count": 15
        }
      ]
    },
    {
      "cell_type": "markdown",
      "source": [
        "**Inference** : No duplicate records found"
      ],
      "metadata": {
        "id": "K78QvIMj80-8"
      }
    },
    {
      "cell_type": "code",
      "source": [
        "#Dropping the columns which are not needed for model\n",
        "df.drop(columns=[\"created_at\",\"actual_delivery_time\",'store_id'], inplace=True)"
      ],
      "metadata": {
        "id": "0ELFB05cRPYc",
        "execution": {
          "iopub.status.busy": "2023-10-10T10:40:33.010867Z",
          "iopub.execute_input": "2023-10-10T10:40:33.011198Z",
          "iopub.status.idle": "2023-10-10T10:40:33.029573Z",
          "shell.execute_reply.started": "2023-10-10T10:40:33.01117Z",
          "shell.execute_reply": "2023-10-10T10:40:33.027953Z"
        },
        "trusted": true
      },
      "execution_count": null,
      "outputs": []
    },
    {
      "cell_type": "code",
      "source": [
        "##Find uniques values for each feature\n",
        "df.nunique()"
      ],
      "metadata": {
        "id": "SV2cE1p59B3J",
        "outputId": "220fe039-cd32-48b6-bc1d-9db6cbc29380",
        "execution": {
          "iopub.status.busy": "2023-10-10T10:40:33.031374Z",
          "iopub.execute_input": "2023-10-10T10:40:33.031916Z",
          "iopub.status.idle": "2023-10-10T10:40:33.082168Z",
          "shell.execute_reply.started": "2023-10-10T10:40:33.031866Z",
          "shell.execute_reply": "2023-10-10T10:40:33.081088Z"
        },
        "trusted": true,
        "colab": {
          "base_uri": "https://localhost:8080/",
          "height": 523
        }
      },
      "execution_count": null,
      "outputs": [
        {
          "output_type": "execute_result",
          "data": {
            "text/plain": [
              "market_id                      6\n",
              "store_primary_category        74\n",
              "order_protocol                 7\n",
              "total_items                   57\n",
              "subtotal                    8368\n",
              "num_distinct_items            20\n",
              "min_item_price              2312\n",
              "max_item_price              2652\n",
              "total_onshift_partners       172\n",
              "total_busy_partners          159\n",
              "total_outstanding_orders     281\n",
              "delivery_time               7134\n",
              "hour                          19\n",
              "day                            7\n",
              "dtype: int64"
            ],
            "text/html": [
              "<div>\n",
              "<style scoped>\n",
              "    .dataframe tbody tr th:only-of-type {\n",
              "        vertical-align: middle;\n",
              "    }\n",
              "\n",
              "    .dataframe tbody tr th {\n",
              "        vertical-align: top;\n",
              "    }\n",
              "\n",
              "    .dataframe thead th {\n",
              "        text-align: right;\n",
              "    }\n",
              "</style>\n",
              "<table border=\"1\" class=\"dataframe\">\n",
              "  <thead>\n",
              "    <tr style=\"text-align: right;\">\n",
              "      <th></th>\n",
              "      <th>0</th>\n",
              "    </tr>\n",
              "  </thead>\n",
              "  <tbody>\n",
              "    <tr>\n",
              "      <th>market_id</th>\n",
              "      <td>6</td>\n",
              "    </tr>\n",
              "    <tr>\n",
              "      <th>store_primary_category</th>\n",
              "      <td>74</td>\n",
              "    </tr>\n",
              "    <tr>\n",
              "      <th>order_protocol</th>\n",
              "      <td>7</td>\n",
              "    </tr>\n",
              "    <tr>\n",
              "      <th>total_items</th>\n",
              "      <td>57</td>\n",
              "    </tr>\n",
              "    <tr>\n",
              "      <th>subtotal</th>\n",
              "      <td>8368</td>\n",
              "    </tr>\n",
              "    <tr>\n",
              "      <th>num_distinct_items</th>\n",
              "      <td>20</td>\n",
              "    </tr>\n",
              "    <tr>\n",
              "      <th>min_item_price</th>\n",
              "      <td>2312</td>\n",
              "    </tr>\n",
              "    <tr>\n",
              "      <th>max_item_price</th>\n",
              "      <td>2652</td>\n",
              "    </tr>\n",
              "    <tr>\n",
              "      <th>total_onshift_partners</th>\n",
              "      <td>172</td>\n",
              "    </tr>\n",
              "    <tr>\n",
              "      <th>total_busy_partners</th>\n",
              "      <td>159</td>\n",
              "    </tr>\n",
              "    <tr>\n",
              "      <th>total_outstanding_orders</th>\n",
              "      <td>281</td>\n",
              "    </tr>\n",
              "    <tr>\n",
              "      <th>delivery_time</th>\n",
              "      <td>7134</td>\n",
              "    </tr>\n",
              "    <tr>\n",
              "      <th>hour</th>\n",
              "      <td>19</td>\n",
              "    </tr>\n",
              "    <tr>\n",
              "      <th>day</th>\n",
              "      <td>7</td>\n",
              "    </tr>\n",
              "  </tbody>\n",
              "</table>\n",
              "</div><br><label><b>dtype:</b> int64</label>"
            ]
          },
          "metadata": {},
          "execution_count": 17
        }
      ]
    },
    {
      "cell_type": "code",
      "source": [
        "cat_cols = [\"market_id\", \"order_protocol\",\"store_primary_category\",\"hour\",\"day\"]\n",
        "for i in cat_cols:\n",
        "  print(f\"{i} : {df[i].unique()}\")"
      ],
      "metadata": {
        "id": "SsH7-ekP99bJ",
        "outputId": "92a72a25-fe3c-4ae7-f9ed-ace8b282c5c7",
        "execution": {
          "iopub.status.busy": "2023-10-10T10:40:33.083798Z",
          "iopub.execute_input": "2023-10-10T10:40:33.084278Z",
          "iopub.status.idle": "2023-10-10T10:40:33.113032Z",
          "shell.execute_reply.started": "2023-10-10T10:40:33.084235Z",
          "shell.execute_reply": "2023-10-10T10:40:33.111638Z"
        },
        "trusted": true,
        "colab": {
          "base_uri": "https://localhost:8080/"
        }
      },
      "execution_count": null,
      "outputs": [
        {
          "output_type": "stream",
          "name": "stdout",
          "text": [
            "market_id : [ 1.  2.  3.  4. nan  5.  6.]\n",
            "order_protocol : [ 1.  2.  3.  4. nan  5.  6.  7.]\n",
            "store_primary_category : ['american' 'mexican' nan 'indian' 'italian' 'sandwich' 'thai' 'cafe'\n",
            " 'salad' 'pizza' 'chinese' 'singaporean' 'burger' 'breakfast'\n",
            " 'mediterranean' 'japanese' 'greek' 'catering' 'filipino'\n",
            " 'convenience-store' 'other' 'korean' 'vegan' 'asian' 'barbecue' 'fast'\n",
            " 'dessert' 'smoothie' 'seafood' 'vietnamese' 'cajun' 'steak'\n",
            " 'middle-eastern' 'soup' 'vegetarian' 'persian' 'nepalese' 'sushi'\n",
            " 'latin-american' 'hawaiian' 'chocolate' 'burmese' 'british' 'pasta'\n",
            " 'alcohol' 'dim-sum' 'peruvian' 'turkish' 'malaysian' 'ethiopian' 'afghan'\n",
            " 'bubble-tea' 'german' 'french' 'caribbean' 'gluten-free' 'comfort-food'\n",
            " 'gastropub' 'pakistani' 'moroccan' 'spanish' 'southern' 'tapas' 'russian'\n",
            " 'brazilian' 'european' 'cheese' 'african' 'argentine' 'kosher' 'irish'\n",
            " 'lebanese' 'belgian' 'indonesian' 'alcohol-plus-food']\n",
            "hour : [22 21 20  2  3  0  1 19  4 23  5 18  6 17 16 15 14  7  8]\n",
            "day : [4 1 3 6 2 5 0]\n"
          ]
        }
      ]
    },
    {
      "cell_type": "markdown",
      "source": [
        "**Inferences** : store_primary_category and order_protocol are categorical columns"
      ],
      "metadata": {
        "id": "8wJ6xYkq9nhc"
      }
    },
    {
      "cell_type": "code",
      "source": [
        "#Check null values\n",
        "df.isnull().sum()"
      ],
      "metadata": {
        "id": "MpGtbwDI1t3d",
        "outputId": "61223d32-39eb-408f-c017-bdcc4c2d18ba",
        "execution": {
          "iopub.status.busy": "2023-10-10T10:40:33.114579Z",
          "iopub.execute_input": "2023-10-10T10:40:33.114984Z",
          "iopub.status.idle": "2023-10-10T10:40:33.137264Z",
          "shell.execute_reply.started": "2023-10-10T10:40:33.114952Z",
          "shell.execute_reply": "2023-10-10T10:40:33.135965Z"
        },
        "trusted": true,
        "colab": {
          "base_uri": "https://localhost:8080/",
          "height": 523
        }
      },
      "execution_count": null,
      "outputs": [
        {
          "output_type": "execute_result",
          "data": {
            "text/plain": [
              "market_id                     987\n",
              "store_primary_category       4760\n",
              "order_protocol                995\n",
              "total_items                     0\n",
              "subtotal                        0\n",
              "num_distinct_items              0\n",
              "min_item_price                  0\n",
              "max_item_price                  0\n",
              "total_onshift_partners      16262\n",
              "total_busy_partners         16262\n",
              "total_outstanding_orders    16262\n",
              "delivery_time                   7\n",
              "hour                            0\n",
              "day                             0\n",
              "dtype: int64"
            ],
            "text/html": [
              "<div>\n",
              "<style scoped>\n",
              "    .dataframe tbody tr th:only-of-type {\n",
              "        vertical-align: middle;\n",
              "    }\n",
              "\n",
              "    .dataframe tbody tr th {\n",
              "        vertical-align: top;\n",
              "    }\n",
              "\n",
              "    .dataframe thead th {\n",
              "        text-align: right;\n",
              "    }\n",
              "</style>\n",
              "<table border=\"1\" class=\"dataframe\">\n",
              "  <thead>\n",
              "    <tr style=\"text-align: right;\">\n",
              "      <th></th>\n",
              "      <th>0</th>\n",
              "    </tr>\n",
              "  </thead>\n",
              "  <tbody>\n",
              "    <tr>\n",
              "      <th>market_id</th>\n",
              "      <td>987</td>\n",
              "    </tr>\n",
              "    <tr>\n",
              "      <th>store_primary_category</th>\n",
              "      <td>4760</td>\n",
              "    </tr>\n",
              "    <tr>\n",
              "      <th>order_protocol</th>\n",
              "      <td>995</td>\n",
              "    </tr>\n",
              "    <tr>\n",
              "      <th>total_items</th>\n",
              "      <td>0</td>\n",
              "    </tr>\n",
              "    <tr>\n",
              "      <th>subtotal</th>\n",
              "      <td>0</td>\n",
              "    </tr>\n",
              "    <tr>\n",
              "      <th>num_distinct_items</th>\n",
              "      <td>0</td>\n",
              "    </tr>\n",
              "    <tr>\n",
              "      <th>min_item_price</th>\n",
              "      <td>0</td>\n",
              "    </tr>\n",
              "    <tr>\n",
              "      <th>max_item_price</th>\n",
              "      <td>0</td>\n",
              "    </tr>\n",
              "    <tr>\n",
              "      <th>total_onshift_partners</th>\n",
              "      <td>16262</td>\n",
              "    </tr>\n",
              "    <tr>\n",
              "      <th>total_busy_partners</th>\n",
              "      <td>16262</td>\n",
              "    </tr>\n",
              "    <tr>\n",
              "      <th>total_outstanding_orders</th>\n",
              "      <td>16262</td>\n",
              "    </tr>\n",
              "    <tr>\n",
              "      <th>delivery_time</th>\n",
              "      <td>7</td>\n",
              "    </tr>\n",
              "    <tr>\n",
              "      <th>hour</th>\n",
              "      <td>0</td>\n",
              "    </tr>\n",
              "    <tr>\n",
              "      <th>day</th>\n",
              "      <td>0</td>\n",
              "    </tr>\n",
              "  </tbody>\n",
              "</table>\n",
              "</div><br><label><b>dtype:</b> int64</label>"
            ]
          },
          "metadata": {},
          "execution_count": 19
        }
      ]
    },
    {
      "cell_type": "code",
      "source": [
        "print(\"Percentage of null values in the dataset\")\n",
        "df.isnull().sum()/df.shape[0] * 100"
      ],
      "metadata": {
        "id": "ziU2iVA3bGu-",
        "outputId": "c3132817-6958-4f97-cbb5-cdbcb87c9ab4",
        "execution": {
          "iopub.status.busy": "2023-10-10T10:40:33.138385Z",
          "iopub.execute_input": "2023-10-10T10:40:33.138741Z",
          "iopub.status.idle": "2023-10-10T10:40:33.163049Z",
          "shell.execute_reply.started": "2023-10-10T10:40:33.13871Z",
          "shell.execute_reply": "2023-10-10T10:40:33.161883Z"
        },
        "trusted": true,
        "colab": {
          "base_uri": "https://localhost:8080/",
          "height": 541
        }
      },
      "execution_count": null,
      "outputs": [
        {
          "output_type": "stream",
          "name": "stdout",
          "text": [
            "Percentage of null values in the dataset\n"
          ]
        },
        {
          "output_type": "execute_result",
          "data": {
            "text/plain": [
              "market_id                   0.499929\n",
              "store_primary_category      2.411006\n",
              "order_protocol              0.503981\n",
              "total_items                 0.000000\n",
              "subtotal                    0.000000\n",
              "num_distinct_items          0.000000\n",
              "min_item_price              0.000000\n",
              "max_item_price              0.000000\n",
              "total_onshift_partners      8.236927\n",
              "total_busy_partners         8.236927\n",
              "total_outstanding_orders    8.236927\n",
              "delivery_time               0.003546\n",
              "hour                        0.000000\n",
              "day                         0.000000\n",
              "dtype: float64"
            ],
            "text/html": [
              "<div>\n",
              "<style scoped>\n",
              "    .dataframe tbody tr th:only-of-type {\n",
              "        vertical-align: middle;\n",
              "    }\n",
              "\n",
              "    .dataframe tbody tr th {\n",
              "        vertical-align: top;\n",
              "    }\n",
              "\n",
              "    .dataframe thead th {\n",
              "        text-align: right;\n",
              "    }\n",
              "</style>\n",
              "<table border=\"1\" class=\"dataframe\">\n",
              "  <thead>\n",
              "    <tr style=\"text-align: right;\">\n",
              "      <th></th>\n",
              "      <th>0</th>\n",
              "    </tr>\n",
              "  </thead>\n",
              "  <tbody>\n",
              "    <tr>\n",
              "      <th>market_id</th>\n",
              "      <td>0.499929</td>\n",
              "    </tr>\n",
              "    <tr>\n",
              "      <th>store_primary_category</th>\n",
              "      <td>2.411006</td>\n",
              "    </tr>\n",
              "    <tr>\n",
              "      <th>order_protocol</th>\n",
              "      <td>0.503981</td>\n",
              "    </tr>\n",
              "    <tr>\n",
              "      <th>total_items</th>\n",
              "      <td>0.000000</td>\n",
              "    </tr>\n",
              "    <tr>\n",
              "      <th>subtotal</th>\n",
              "      <td>0.000000</td>\n",
              "    </tr>\n",
              "    <tr>\n",
              "      <th>num_distinct_items</th>\n",
              "      <td>0.000000</td>\n",
              "    </tr>\n",
              "    <tr>\n",
              "      <th>min_item_price</th>\n",
              "      <td>0.000000</td>\n",
              "    </tr>\n",
              "    <tr>\n",
              "      <th>max_item_price</th>\n",
              "      <td>0.000000</td>\n",
              "    </tr>\n",
              "    <tr>\n",
              "      <th>total_onshift_partners</th>\n",
              "      <td>8.236927</td>\n",
              "    </tr>\n",
              "    <tr>\n",
              "      <th>total_busy_partners</th>\n",
              "      <td>8.236927</td>\n",
              "    </tr>\n",
              "    <tr>\n",
              "      <th>total_outstanding_orders</th>\n",
              "      <td>8.236927</td>\n",
              "    </tr>\n",
              "    <tr>\n",
              "      <th>delivery_time</th>\n",
              "      <td>0.003546</td>\n",
              "    </tr>\n",
              "    <tr>\n",
              "      <th>hour</th>\n",
              "      <td>0.000000</td>\n",
              "    </tr>\n",
              "    <tr>\n",
              "      <th>day</th>\n",
              "      <td>0.000000</td>\n",
              "    </tr>\n",
              "  </tbody>\n",
              "</table>\n",
              "</div><br><label><b>dtype:</b> float64</label>"
            ]
          },
          "metadata": {},
          "execution_count": 20
        }
      ]
    },
    {
      "cell_type": "code",
      "source": [
        "#dropping the 7 row in \"delivery_time\"\n",
        "df.dropna(subset=[\"delivery_time\"],inplace =True)"
      ],
      "metadata": {
        "id": "XUp6XoZHf8Qu",
        "execution": {
          "iopub.status.busy": "2023-10-10T10:40:33.164512Z",
          "iopub.execute_input": "2023-10-10T10:40:33.16513Z",
          "iopub.status.idle": "2023-10-10T10:40:33.195681Z",
          "shell.execute_reply.started": "2023-10-10T10:40:33.165083Z",
          "shell.execute_reply": "2023-10-10T10:40:33.194429Z"
        },
        "trusted": true
      },
      "execution_count": null,
      "outputs": []
    },
    {
      "cell_type": "code",
      "source": [
        "#imputing mode of column in categorical columns\n",
        "for i in cat_cols:\n",
        "  a = df[i].mode()\n",
        "  #print(a[0])\n",
        "  df[i].fillna(a[0],inplace = True)"
      ],
      "metadata": {
        "id": "S1-SI-tSc2kF",
        "execution": {
          "iopub.status.busy": "2023-10-10T10:40:33.197002Z",
          "iopub.execute_input": "2023-10-10T10:40:33.197347Z",
          "iopub.status.idle": "2023-10-10T10:40:33.246327Z",
          "shell.execute_reply.started": "2023-10-10T10:40:33.19732Z",
          "shell.execute_reply": "2023-10-10T10:40:33.245119Z"
        },
        "trusted": true
      },
      "execution_count": null,
      "outputs": []
    },
    {
      "cell_type": "code",
      "source": [
        "#Check null values\n",
        "df.isnull().sum()"
      ],
      "metadata": {
        "id": "C4Bx_Xrtem5B",
        "outputId": "82afeb6d-995d-4d5e-f607-689ed9f46b73",
        "execution": {
          "iopub.status.busy": "2023-10-10T10:40:33.247886Z",
          "iopub.execute_input": "2023-10-10T10:40:33.248339Z",
          "iopub.status.idle": "2023-10-10T10:40:33.27275Z",
          "shell.execute_reply.started": "2023-10-10T10:40:33.248298Z",
          "shell.execute_reply": "2023-10-10T10:40:33.271474Z"
        },
        "trusted": true,
        "colab": {
          "base_uri": "https://localhost:8080/",
          "height": 523
        }
      },
      "execution_count": null,
      "outputs": [
        {
          "output_type": "execute_result",
          "data": {
            "text/plain": [
              "market_id                       0\n",
              "store_primary_category          0\n",
              "order_protocol                  0\n",
              "total_items                     0\n",
              "subtotal                        0\n",
              "num_distinct_items              0\n",
              "min_item_price                  0\n",
              "max_item_price                  0\n",
              "total_onshift_partners      16262\n",
              "total_busy_partners         16262\n",
              "total_outstanding_orders    16262\n",
              "delivery_time                   0\n",
              "hour                            0\n",
              "day                             0\n",
              "dtype: int64"
            ],
            "text/html": [
              "<div>\n",
              "<style scoped>\n",
              "    .dataframe tbody tr th:only-of-type {\n",
              "        vertical-align: middle;\n",
              "    }\n",
              "\n",
              "    .dataframe tbody tr th {\n",
              "        vertical-align: top;\n",
              "    }\n",
              "\n",
              "    .dataframe thead th {\n",
              "        text-align: right;\n",
              "    }\n",
              "</style>\n",
              "<table border=\"1\" class=\"dataframe\">\n",
              "  <thead>\n",
              "    <tr style=\"text-align: right;\">\n",
              "      <th></th>\n",
              "      <th>0</th>\n",
              "    </tr>\n",
              "  </thead>\n",
              "  <tbody>\n",
              "    <tr>\n",
              "      <th>market_id</th>\n",
              "      <td>0</td>\n",
              "    </tr>\n",
              "    <tr>\n",
              "      <th>store_primary_category</th>\n",
              "      <td>0</td>\n",
              "    </tr>\n",
              "    <tr>\n",
              "      <th>order_protocol</th>\n",
              "      <td>0</td>\n",
              "    </tr>\n",
              "    <tr>\n",
              "      <th>total_items</th>\n",
              "      <td>0</td>\n",
              "    </tr>\n",
              "    <tr>\n",
              "      <th>subtotal</th>\n",
              "      <td>0</td>\n",
              "    </tr>\n",
              "    <tr>\n",
              "      <th>num_distinct_items</th>\n",
              "      <td>0</td>\n",
              "    </tr>\n",
              "    <tr>\n",
              "      <th>min_item_price</th>\n",
              "      <td>0</td>\n",
              "    </tr>\n",
              "    <tr>\n",
              "      <th>max_item_price</th>\n",
              "      <td>0</td>\n",
              "    </tr>\n",
              "    <tr>\n",
              "      <th>total_onshift_partners</th>\n",
              "      <td>16262</td>\n",
              "    </tr>\n",
              "    <tr>\n",
              "      <th>total_busy_partners</th>\n",
              "      <td>16262</td>\n",
              "    </tr>\n",
              "    <tr>\n",
              "      <th>total_outstanding_orders</th>\n",
              "      <td>16262</td>\n",
              "    </tr>\n",
              "    <tr>\n",
              "      <th>delivery_time</th>\n",
              "      <td>0</td>\n",
              "    </tr>\n",
              "    <tr>\n",
              "      <th>hour</th>\n",
              "      <td>0</td>\n",
              "    </tr>\n",
              "    <tr>\n",
              "      <th>day</th>\n",
              "      <td>0</td>\n",
              "    </tr>\n",
              "  </tbody>\n",
              "</table>\n",
              "</div><br><label><b>dtype:</b> int64</label>"
            ]
          },
          "metadata": {},
          "execution_count": 23
        }
      ]
    },
    {
      "cell_type": "code",
      "source": [
        "df.info()"
      ],
      "metadata": {
        "id": "2iWDlt4f-OCT",
        "outputId": "21373d47-e99c-422a-9e52-40c6581e73b4",
        "execution": {
          "iopub.status.busy": "2023-10-10T10:40:33.274319Z",
          "iopub.execute_input": "2023-10-10T10:40:33.274735Z",
          "iopub.status.idle": "2023-10-10T10:40:33.302284Z",
          "shell.execute_reply.started": "2023-10-10T10:40:33.274708Z",
          "shell.execute_reply": "2023-10-10T10:40:33.300936Z"
        },
        "trusted": true,
        "colab": {
          "base_uri": "https://localhost:8080/"
        }
      },
      "execution_count": null,
      "outputs": [
        {
          "output_type": "stream",
          "name": "stdout",
          "text": [
            "<class 'pandas.core.frame.DataFrame'>\n",
            "Index: 197421 entries, 0 to 197427\n",
            "Data columns (total 14 columns):\n",
            " #   Column                    Non-Null Count   Dtype  \n",
            "---  ------                    --------------   -----  \n",
            " 0   market_id                 197421 non-null  float64\n",
            " 1   store_primary_category    197421 non-null  object \n",
            " 2   order_protocol            197421 non-null  float64\n",
            " 3   total_items               197421 non-null  int64  \n",
            " 4   subtotal                  197421 non-null  int64  \n",
            " 5   num_distinct_items        197421 non-null  int64  \n",
            " 6   min_item_price            197421 non-null  int64  \n",
            " 7   max_item_price            197421 non-null  int64  \n",
            " 8   total_onshift_partners    181159 non-null  float64\n",
            " 9   total_busy_partners       181159 non-null  float64\n",
            " 10  total_outstanding_orders  181159 non-null  float64\n",
            " 11  delivery_time             197421 non-null  float64\n",
            " 12  hour                      197421 non-null  int32  \n",
            " 13  day                       197421 non-null  int32  \n",
            "dtypes: float64(6), int32(2), int64(5), object(1)\n",
            "memory usage: 21.1+ MB\n"
          ]
        }
      ]
    },
    {
      "cell_type": "markdown",
      "source": [
        "##**4. Encoding categorical columns**"
      ],
      "metadata": {
        "id": "PtEdm_IIp1vm"
      }
    },
    {
      "cell_type": "code",
      "source": [
        "df.info()"
      ],
      "metadata": {
        "id": "VCIJp4fTrTnj",
        "outputId": "803f35de-c1a6-455a-b490-d137dd42c74d",
        "execution": {
          "iopub.status.busy": "2023-10-10T10:40:33.303725Z",
          "iopub.execute_input": "2023-10-10T10:40:33.304092Z",
          "iopub.status.idle": "2023-10-10T10:40:33.33147Z",
          "shell.execute_reply.started": "2023-10-10T10:40:33.304058Z",
          "shell.execute_reply": "2023-10-10T10:40:33.330435Z"
        },
        "trusted": true,
        "colab": {
          "base_uri": "https://localhost:8080/"
        }
      },
      "execution_count": null,
      "outputs": [
        {
          "output_type": "stream",
          "name": "stdout",
          "text": [
            "<class 'pandas.core.frame.DataFrame'>\n",
            "Index: 197421 entries, 0 to 197427\n",
            "Data columns (total 14 columns):\n",
            " #   Column                    Non-Null Count   Dtype  \n",
            "---  ------                    --------------   -----  \n",
            " 0   market_id                 197421 non-null  float64\n",
            " 1   store_primary_category    197421 non-null  object \n",
            " 2   order_protocol            197421 non-null  float64\n",
            " 3   total_items               197421 non-null  int64  \n",
            " 4   subtotal                  197421 non-null  int64  \n",
            " 5   num_distinct_items        197421 non-null  int64  \n",
            " 6   min_item_price            197421 non-null  int64  \n",
            " 7   max_item_price            197421 non-null  int64  \n",
            " 8   total_onshift_partners    181159 non-null  float64\n",
            " 9   total_busy_partners       181159 non-null  float64\n",
            " 10  total_outstanding_orders  181159 non-null  float64\n",
            " 11  delivery_time             197421 non-null  float64\n",
            " 12  hour                      197421 non-null  int32  \n",
            " 13  day                       197421 non-null  int32  \n",
            "dtypes: float64(6), int32(2), int64(5), object(1)\n",
            "memory usage: 21.1+ MB\n"
          ]
        }
      ]
    },
    {
      "cell_type": "markdown",
      "source": [
        "We observe that the column \"**store_primary_category**\" is categorical column which need to encoded for model. Since the length = 73, we will use target encoding and avoid using one hot encoding as this will increase the dimentionality\n"
      ],
      "metadata": {
        "id": "UMYZQkE-p7i5"
      }
    },
    {
      "cell_type": "code",
      "source": [
        "# Calculate the mean of the 'Target' variable for each category\n",
        "category_means = df.groupby('store_primary_category')['delivery_time'].mean().to_dict()\n",
        "\n",
        "# Map the means back to the 'Category' column to perform target encoding\n",
        "df['store_primary_category'] = df['store_primary_category'].map(category_means)"
      ],
      "metadata": {
        "id": "hkx52yfbI4UZ",
        "execution": {
          "iopub.status.busy": "2023-10-10T10:40:33.332762Z",
          "iopub.execute_input": "2023-10-10T10:40:33.333182Z",
          "iopub.status.idle": "2023-10-10T10:40:33.373306Z",
          "shell.execute_reply.started": "2023-10-10T10:40:33.333153Z",
          "shell.execute_reply": "2023-10-10T10:40:33.372105Z"
        },
        "trusted": true
      },
      "execution_count": null,
      "outputs": []
    },
    {
      "cell_type": "code",
      "source": [
        "# Group by 'market_id' and impute missing 'total_onshift_partners', 'total_busy_partners', and 'total_outstanding_orders' with the median of the group\n",
        "df['total_onshift_partners'] = df.groupby('market_id')['total_onshift_partners'].transform(lambda x: x.fillna(x.median()))\n",
        "df['total_busy_partners'] = df.groupby('market_id')['total_busy_partners'].transform(lambda x: x.fillna(x.median()))\n",
        "df['total_outstanding_orders'] = df.groupby('market_id')['total_outstanding_orders'].transform(lambda x: x.fillna(x.median()))"
      ],
      "metadata": {
        "id": "Qj_FwTG7F_9u",
        "execution": {
          "iopub.status.busy": "2023-10-10T10:40:33.374815Z",
          "iopub.execute_input": "2023-10-10T10:40:33.375599Z",
          "iopub.status.idle": "2023-10-10T10:40:33.503768Z",
          "shell.execute_reply.started": "2023-10-10T10:40:33.37556Z",
          "shell.execute_reply": "2023-10-10T10:40:33.502703Z"
        },
        "trusted": true
      },
      "execution_count": null,
      "outputs": []
    },
    {
      "cell_type": "code",
      "source": [
        "df.isna().sum()"
      ],
      "metadata": {
        "id": "i06XonQ4GO1z",
        "outputId": "38585213-86c5-4c00-d336-f39e3c603159",
        "execution": {
          "iopub.status.busy": "2023-10-10T10:40:33.505542Z",
          "iopub.execute_input": "2023-10-10T10:40:33.506038Z",
          "iopub.status.idle": "2023-10-10T10:40:33.521145Z",
          "shell.execute_reply.started": "2023-10-10T10:40:33.505996Z",
          "shell.execute_reply": "2023-10-10T10:40:33.51993Z"
        },
        "trusted": true,
        "colab": {
          "base_uri": "https://localhost:8080/",
          "height": 523
        }
      },
      "execution_count": null,
      "outputs": [
        {
          "output_type": "execute_result",
          "data": {
            "text/plain": [
              "market_id                   0\n",
              "store_primary_category      0\n",
              "order_protocol              0\n",
              "total_items                 0\n",
              "subtotal                    0\n",
              "num_distinct_items          0\n",
              "min_item_price              0\n",
              "max_item_price              0\n",
              "total_onshift_partners      0\n",
              "total_busy_partners         0\n",
              "total_outstanding_orders    0\n",
              "delivery_time               0\n",
              "hour                        0\n",
              "day                         0\n",
              "dtype: int64"
            ],
            "text/html": [
              "<div>\n",
              "<style scoped>\n",
              "    .dataframe tbody tr th:only-of-type {\n",
              "        vertical-align: middle;\n",
              "    }\n",
              "\n",
              "    .dataframe tbody tr th {\n",
              "        vertical-align: top;\n",
              "    }\n",
              "\n",
              "    .dataframe thead th {\n",
              "        text-align: right;\n",
              "    }\n",
              "</style>\n",
              "<table border=\"1\" class=\"dataframe\">\n",
              "  <thead>\n",
              "    <tr style=\"text-align: right;\">\n",
              "      <th></th>\n",
              "      <th>0</th>\n",
              "    </tr>\n",
              "  </thead>\n",
              "  <tbody>\n",
              "    <tr>\n",
              "      <th>market_id</th>\n",
              "      <td>0</td>\n",
              "    </tr>\n",
              "    <tr>\n",
              "      <th>store_primary_category</th>\n",
              "      <td>0</td>\n",
              "    </tr>\n",
              "    <tr>\n",
              "      <th>order_protocol</th>\n",
              "      <td>0</td>\n",
              "    </tr>\n",
              "    <tr>\n",
              "      <th>total_items</th>\n",
              "      <td>0</td>\n",
              "    </tr>\n",
              "    <tr>\n",
              "      <th>subtotal</th>\n",
              "      <td>0</td>\n",
              "    </tr>\n",
              "    <tr>\n",
              "      <th>num_distinct_items</th>\n",
              "      <td>0</td>\n",
              "    </tr>\n",
              "    <tr>\n",
              "      <th>min_item_price</th>\n",
              "      <td>0</td>\n",
              "    </tr>\n",
              "    <tr>\n",
              "      <th>max_item_price</th>\n",
              "      <td>0</td>\n",
              "    </tr>\n",
              "    <tr>\n",
              "      <th>total_onshift_partners</th>\n",
              "      <td>0</td>\n",
              "    </tr>\n",
              "    <tr>\n",
              "      <th>total_busy_partners</th>\n",
              "      <td>0</td>\n",
              "    </tr>\n",
              "    <tr>\n",
              "      <th>total_outstanding_orders</th>\n",
              "      <td>0</td>\n",
              "    </tr>\n",
              "    <tr>\n",
              "      <th>delivery_time</th>\n",
              "      <td>0</td>\n",
              "    </tr>\n",
              "    <tr>\n",
              "      <th>hour</th>\n",
              "      <td>0</td>\n",
              "    </tr>\n",
              "    <tr>\n",
              "      <th>day</th>\n",
              "      <td>0</td>\n",
              "    </tr>\n",
              "  </tbody>\n",
              "</table>\n",
              "</div><br><label><b>dtype:</b> int64</label>"
            ]
          },
          "metadata": {},
          "execution_count": 28
        }
      ]
    },
    {
      "cell_type": "markdown",
      "source": [
        "##**5. Data visualization and cleaning**"
      ],
      "metadata": {
        "id": "KNNjaDoaQSKZ"
      }
    },
    {
      "cell_type": "code",
      "source": [
        "sns.heatmap(df.corr())"
      ],
      "metadata": {
        "id": "BxoYmRuOQpLY",
        "outputId": "3dd3a020-a57a-47d7-ab19-478cd58a5745",
        "execution": {
          "iopub.status.busy": "2023-10-10T10:40:33.527701Z",
          "iopub.execute_input": "2023-10-10T10:40:33.528189Z",
          "iopub.status.idle": "2023-10-10T10:40:34.216292Z",
          "shell.execute_reply.started": "2023-10-10T10:40:33.528159Z",
          "shell.execute_reply": "2023-10-10T10:40:34.215096Z"
        },
        "trusted": true,
        "colab": {
          "base_uri": "https://localhost:8080/",
          "height": 613
        }
      },
      "execution_count": null,
      "outputs": [
        {
          "output_type": "execute_result",
          "data": {
            "text/plain": [
              "<Axes: >"
            ]
          },
          "metadata": {},
          "execution_count": 29
        },
        {
          "output_type": "display_data",
          "data": {
            "text/plain": [
              "<Figure size 640x480 with 2 Axes>"
            ],
            "image/png": "[encoded data removed]"
          },
          "metadata": {}
        }
      ]
    },
    {
      "cell_type": "markdown",
      "source": [
        "**Inference :** We observe that delivery_time does not show correlation with other feature indicating the presence of non linear relationship"
      ],
      "metadata": {
        "id": "8yj8mcb1S-VZ"
      }
    },
    {
      "cell_type": "code",
      "source": [
        "sns.countplot(x=df.day)\n",
        "plt.show()"
      ],
      "metadata": {
        "id": "li_ykMbhUBa2",
        "outputId": "784fd5b4-9c60-44ac-9d73-2390f28286f7",
        "execution": {
          "iopub.status.busy": "2023-10-10T10:40:34.217832Z",
          "iopub.execute_input": "2023-10-10T10:40:34.218455Z",
          "iopub.status.idle": "2023-10-10T10:40:34.471506Z",
          "shell.execute_reply.started": "2023-10-10T10:40:34.218422Z",
          "shell.execute_reply": "2023-10-10T10:40:34.47026Z"
        },
        "trusted": true,
        "colab": {
          "base_uri": "https://localhost:8080/",
          "height": 449
        }
      },
      "execution_count": null,
      "outputs": [
        {
          "output_type": "display_data",
          "data": {
            "text/plain": [
              "<Figure size 640x480 with 1 Axes>"
            ],
            "image/png": "[encoded data removed]"
          },
          "metadata": {}
        }
      ]
    },
    {
      "cell_type": "markdown",
      "source": [
        "**Inference :** The number of orders created are more during weekends."
      ],
      "metadata": {
        "id": "kYoRxs1ki52N"
      }
    },
    {
      "cell_type": "code",
      "source": [
        "sns.countplot(x=df.hour)\n",
        "plt.show()"
      ],
      "metadata": {
        "id": "7GS7CvqZWmem",
        "outputId": "9e40f015-ef6b-4cd5-d2a2-f381a4269954",
        "execution": {
          "iopub.status.busy": "2023-10-10T10:40:34.473036Z",
          "iopub.execute_input": "2023-10-10T10:40:34.473435Z",
          "iopub.status.idle": "2023-10-10T10:40:34.799098Z",
          "shell.execute_reply.started": "2023-10-10T10:40:34.473403Z",
          "shell.execute_reply": "2023-10-10T10:40:34.79785Z"
        },
        "trusted": true,
        "colab": {
          "base_uri": "https://localhost:8080/",
          "height": 449
        }
      },
      "execution_count": null,
      "outputs": [
        {
          "output_type": "display_data",
          "data": {
            "text/plain": [
              "<Figure size 640x480 with 1 Axes>"
            ],
            "image/png": "[encoded data removed]"
          },
          "metadata": {}
        }
      ]
    },
    {
      "cell_type": "markdown",
      "source": [
        "**Inference :** Number of delivery of orders increases as the week progresses. There is no delivery done between Between 6 AM and 2PM."
      ],
      "metadata": {
        "id": "Vjitfe8uWyBe"
      }
    },
    {
      "cell_type": "code",
      "source": [
        "sns.countplot(x=df.market_id)\n",
        "plt.show()"
      ],
      "metadata": {
        "id": "Fj2Du2dJYmF1",
        "outputId": "2d7eeb95-667b-438b-f04e-35fe37f5b1f7",
        "execution": {
          "iopub.status.busy": "2023-10-10T10:40:34.800434Z",
          "iopub.execute_input": "2023-10-10T10:40:34.800767Z",
          "iopub.status.idle": "2023-10-10T10:40:35.039107Z",
          "shell.execute_reply.started": "2023-10-10T10:40:34.80074Z",
          "shell.execute_reply": "2023-10-10T10:40:35.037883Z"
        },
        "trusted": true,
        "colab": {
          "base_uri": "https://localhost:8080/",
          "height": 450
        }
      },
      "execution_count": null,
      "outputs": [
        {
          "output_type": "display_data",
          "data": {
            "text/plain": [
              "<Figure size 640x480 with 1 Axes>"
            ],
            "image/png": "[encoded data removed]"
          },
          "metadata": {}
        }
      ]
    },
    {
      "cell_type": "markdown",
      "source": [
        "**Inference :** The Number of order related to Market Id = 2.0 are highest while Market_id = 5.0 lowest"
      ],
      "metadata": {
        "id": "hTl-p2qAaXPd"
      }
    },
    {
      "cell_type": "code",
      "source": [
        "df[\"delivery_time\"].sort_values()"
      ],
      "metadata": {
        "id": "0uE5TBTsa9qq",
        "outputId": "8d6143bf-0684-4093-e9b0-ec8e70d8126e",
        "execution": {
          "iopub.status.busy": "2023-10-10T10:40:35.040674Z",
          "iopub.execute_input": "2023-10-10T10:40:35.041618Z",
          "iopub.status.idle": "2023-10-10T10:40:35.078909Z",
          "shell.execute_reply.started": "2023-10-10T10:40:35.041574Z",
          "shell.execute_reply": "2023-10-10T10:40:35.077782Z"
        },
        "trusted": true,
        "colab": {
          "base_uri": "https://localhost:8080/",
          "height": 458
        }
      },
      "execution_count": null,
      "outputs": [
        {
          "output_type": "execute_result",
          "data": {
            "text/plain": [
              "63294          1.683333\n",
              "862            3.716667\n",
              "30562          4.950000\n",
              "42507          5.350000\n",
              "117928         5.416667\n",
              "              ...      \n",
              "190860       907.450000\n",
              "83055        950.533333\n",
              "27189       5541.366667\n",
              "185550      6231.316667\n",
              "2690      141947.650000\n",
              "Name: delivery_time, Length: 197421, dtype: float64"
            ],
            "text/html": [
              "<div>\n",
              "<style scoped>\n",
              "    .dataframe tbody tr th:only-of-type {\n",
              "        vertical-align: middle;\n",
              "    }\n",
              "\n",
              "    .dataframe tbody tr th {\n",
              "        vertical-align: top;\n",
              "    }\n",
              "\n",
              "    .dataframe thead th {\n",
              "        text-align: right;\n",
              "    }\n",
              "</style>\n",
              "<table border=\"1\" class=\"dataframe\">\n",
              "  <thead>\n",
              "    <tr style=\"text-align: right;\">\n",
              "      <th></th>\n",
              "      <th>delivery_time</th>\n",
              "    </tr>\n",
              "  </thead>\n",
              "  <tbody>\n",
              "    <tr>\n",
              "      <th>63294</th>\n",
              "      <td>1.683333</td>\n",
              "    </tr>\n",
              "    <tr>\n",
              "      <th>862</th>\n",
              "      <td>3.716667</td>\n",
              "    </tr>\n",
              "    <tr>\n",
              "      <th>30562</th>\n",
              "      <td>4.950000</td>\n",
              "    </tr>\n",
              "    <tr>\n",
              "      <th>42507</th>\n",
              "      <td>5.350000</td>\n",
              "    </tr>\n",
              "    <tr>\n",
              "      <th>117928</th>\n",
              "      <td>5.416667</td>\n",
              "    </tr>\n",
              "    <tr>\n",
              "      <th>...</th>\n",
              "      <td>...</td>\n",
              "    </tr>\n",
              "    <tr>\n",
              "      <th>190860</th>\n",
              "      <td>907.450000</td>\n",
              "    </tr>\n",
              "    <tr>\n",
              "      <th>83055</th>\n",
              "      <td>950.533333</td>\n",
              "    </tr>\n",
              "    <tr>\n",
              "      <th>27189</th>\n",
              "      <td>5541.366667</td>\n",
              "    </tr>\n",
              "    <tr>\n",
              "      <th>185550</th>\n",
              "      <td>6231.316667</td>\n",
              "    </tr>\n",
              "    <tr>\n",
              "      <th>2690</th>\n",
              "      <td>141947.650000</td>\n",
              "    </tr>\n",
              "  </tbody>\n",
              "</table>\n",
              "<p>197421 rows × 1 columns</p>\n",
              "</div><br><label><b>dtype:</b> float64</label>"
            ]
          },
          "metadata": {},
          "execution_count": 33
        }
      ]
    },
    {
      "cell_type": "markdown",
      "source": [
        "##**6. Check if the data contains outliers**\n",
        "\n",
        "\n",
        "\n",
        "\n",
        "\n",
        "\n",
        "\n",
        "\n"
      ],
      "metadata": {
        "id": "55obOJgGAEk0"
      }
    },
    {
      "cell_type": "code",
      "source": [
        "#Bivariant Analysis\n",
        "#rows, cols = 1, 2\n",
        "fig, axs = plt.subplots(1,2, figsize = (12,7))\n",
        "sns.boxplot(x=df[\"delivery_time\"], data = df,ax=axs[0])\n",
        "sns.scatterplot(x='delivery_time',y='subtotal',data=df,ax=axs[1])"
      ],
      "metadata": {
        "id": "t0ZICtuUYKmK",
        "outputId": "055d5d1f-b1e7-4366-db1d-a42655235813",
        "execution": {
          "iopub.status.busy": "2023-10-10T10:40:35.080399Z",
          "iopub.execute_input": "2023-10-10T10:40:35.08081Z",
          "iopub.status.idle": "2023-10-10T10:40:36.373192Z",
          "shell.execute_reply.started": "2023-10-10T10:40:35.080778Z",
          "shell.execute_reply": "2023-10-10T10:40:36.37191Z"
        },
        "trusted": true,
        "colab": {
          "base_uri": "https://localhost:8080/",
          "height": 637
        }
      },
      "execution_count": null,
      "outputs": [
        {
          "output_type": "execute_result",
          "data": {
            "text/plain": [
              "<Axes: xlabel='delivery_time', ylabel='subtotal'>"
            ]
          },
          "metadata": {},
          "execution_count": 34
        },
        {
          "output_type": "display_data",
          "data": {
            "text/plain": [
              "<Figure size 1200x700 with 2 Axes>"
            ],
            "image/png": "[encoded data removed]"
          },
          "metadata": {}
        }
      ]
    },
    {
      "cell_type": "markdown",
      "source": [
        "**Observation**:There are outliers present in the dataset."
      ],
      "metadata": {
        "id": "LJndFaCP74rO"
      }
    },
    {
      "cell_type": "code",
      "source": [
        "## Removing outliers by interquartile method\n",
        "Q3 = df['delivery_time'].quantile(0.75)\n",
        "Q1 = df['delivery_time'].quantile(0.25)\n",
        "IQR = Q3-Q1\n",
        "df = df[(df['delivery_time'] > Q1 - 1.5*IQR) & (df['delivery_time'] < Q3 + 1.5*IQR)]"
      ],
      "metadata": {
        "id": "iRIvcrfyAE_n",
        "execution": {
          "iopub.status.busy": "2023-10-10T10:40:36.374598Z",
          "iopub.execute_input": "2023-10-10T10:40:36.375027Z",
          "iopub.status.idle": "2023-10-10T10:40:36.41848Z",
          "shell.execute_reply.started": "2023-10-10T10:40:36.374995Z",
          "shell.execute_reply": "2023-10-10T10:40:36.417515Z"
        },
        "trusted": true
      },
      "execution_count": null,
      "outputs": []
    },
    {
      "cell_type": "code",
      "source": [
        "df.info()"
      ],
      "metadata": {
        "id": "jwtX5hzkAys4",
        "outputId": "4dc83173-fd7d-4673-ff22-c8a4eb0c039a",
        "execution": {
          "iopub.status.busy": "2023-10-10T10:40:36.419652Z",
          "iopub.execute_input": "2023-10-10T10:40:36.420282Z",
          "iopub.status.idle": "2023-10-10T10:40:36.439418Z",
          "shell.execute_reply.started": "2023-10-10T10:40:36.420249Z",
          "shell.execute_reply": "2023-10-10T10:40:36.438257Z"
        },
        "trusted": true,
        "colab": {
          "base_uri": "https://localhost:8080/"
        }
      },
      "execution_count": null,
      "outputs": [
        {
          "output_type": "stream",
          "name": "stdout",
          "text": [
            "<class 'pandas.core.frame.DataFrame'>\n",
            "Index: 191143 entries, 0 to 197427\n",
            "Data columns (total 14 columns):\n",
            " #   Column                    Non-Null Count   Dtype  \n",
            "---  ------                    --------------   -----  \n",
            " 0   market_id                 191143 non-null  float64\n",
            " 1   store_primary_category    191143 non-null  float64\n",
            " 2   order_protocol            191143 non-null  float64\n",
            " 3   total_items               191143 non-null  int64  \n",
            " 4   subtotal                  191143 non-null  int64  \n",
            " 5   num_distinct_items        191143 non-null  int64  \n",
            " 6   min_item_price            191143 non-null  int64  \n",
            " 7   max_item_price            191143 non-null  int64  \n",
            " 8   total_onshift_partners    191143 non-null  float64\n",
            " 9   total_busy_partners       191143 non-null  float64\n",
            " 10  total_outstanding_orders  191143 non-null  float64\n",
            " 11  delivery_time             191143 non-null  float64\n",
            " 12  hour                      191143 non-null  int32  \n",
            " 13  day                       191143 non-null  int32  \n",
            "dtypes: float64(7), int32(2), int64(5)\n",
            "memory usage: 20.4 MB\n"
          ]
        }
      ]
    },
    {
      "cell_type": "code",
      "source": [
        "#Plotting the data again to see if anything has improved\n",
        "\n",
        "fig, axs = plt.subplots(1,2, figsize = (12,7))\n",
        "sns.boxplot(x=df[\"delivery_time\"], data = df,ax=axs[0])\n",
        "sns.scatterplot(x='delivery_time',y='subtotal',data=df,ax=axs[1])"
      ],
      "metadata": {
        "id": "q5QaporLBIBJ",
        "outputId": "e7eef6e5-2aeb-4959-81ba-1e2c25539283",
        "execution": {
          "iopub.status.busy": "2023-10-10T10:40:36.441087Z",
          "iopub.execute_input": "2023-10-10T10:40:36.441541Z",
          "iopub.status.idle": "2023-10-10T10:40:37.664315Z",
          "shell.execute_reply.started": "2023-10-10T10:40:36.441498Z",
          "shell.execute_reply": "2023-10-10T10:40:37.663161Z"
        },
        "trusted": true,
        "colab": {
          "base_uri": "https://localhost:8080/",
          "height": 637
        }
      },
      "execution_count": null,
      "outputs": [
        {
          "output_type": "execute_result",
          "data": {
            "text/plain": [
              "<Axes: xlabel='delivery_time', ylabel='subtotal'>"
            ]
          },
          "metadata": {},
          "execution_count": 37
        },
        {
          "output_type": "display_data",
          "data": {
            "text/plain": [
              "<Figure size 1200x700 with 2 Axes>"
            ],
            "image/png": "[encoded data removed]"
          },
          "metadata": {}
        }
      ]
    },
    {
      "cell_type": "markdown",
      "source": [
        "We can see that after removing outliers our data is looking better"
      ],
      "metadata": {
        "id": "HcdaMKy5C0Bu"
      }
    },
    {
      "cell_type": "markdown",
      "source": [
        "##**7. Split the data in train and test**"
      ],
      "metadata": {
        "id": "VAEvK7-TC7Tg"
      }
    },
    {
      "cell_type": "code",
      "source": [
        "# Define your features (X) and target variable (y)\n",
        "X = df.drop(columns = [\"delivery_time\"], axis = 1)\n",
        "y = df[\"delivery_time\"]\n"
      ],
      "metadata": {
        "id": "5HNDQOS_DEFe",
        "execution": {
          "iopub.status.busy": "2023-10-10T10:40:37.665793Z",
          "iopub.execute_input": "2023-10-10T10:40:37.666193Z",
          "iopub.status.idle": "2023-10-10T10:40:37.680952Z",
          "shell.execute_reply.started": "2023-10-10T10:40:37.666162Z",
          "shell.execute_reply": "2023-10-10T10:40:37.67944Z"
        },
        "trusted": true
      },
      "execution_count": null,
      "outputs": []
    },
    {
      "cell_type": "code",
      "source": [
        "X.head()"
      ],
      "metadata": {
        "id": "onBc1gOlFmgd",
        "outputId": "507cda85-1842-49da-cc20-2a7f9a00825b",
        "execution": {
          "iopub.status.busy": "2023-10-10T10:40:37.682581Z",
          "iopub.execute_input": "2023-10-10T10:40:37.68321Z",
          "iopub.status.idle": "2023-10-10T10:40:37.705361Z",
          "shell.execute_reply.started": "2023-10-10T10:40:37.683167Z",
          "shell.execute_reply": "2023-10-10T10:40:37.704297Z"
        },
        "trusted": true,
        "colab": {
          "base_uri": "https://localhost:8080/",
          "height": 226
        }
      },
      "execution_count": null,
      "outputs": [
        {
          "output_type": "execute_result",
          "data": {
            "text/plain": [
              "   market_id  store_primary_category  order_protocol  total_items  subtotal  \\\n",
              "0        1.0               47.948328             1.0            4      3441   \n",
              "1        2.0               44.546868             2.0            1      1900   \n",
              "2        3.0               47.948328             1.0            1      1900   \n",
              "3        3.0               47.948328             1.0            6      6900   \n",
              "4        3.0               47.948328             1.0            3      3900   \n",
              "\n",
              "   num_distinct_items  min_item_price  max_item_price  total_onshift_partners  \\\n",
              "0                   4             557            1239                    33.0   \n",
              "1                   1            1400            1400                     1.0   \n",
              "2                   1            1900            1900                     1.0   \n",
              "3                   5             600            1800                     1.0   \n",
              "4                   3            1100            1600                     6.0   \n",
              "\n",
              "   total_busy_partners  total_outstanding_orders  hour  day  \n",
              "0                 14.0                      21.0    22    4  \n",
              "1                  2.0                       2.0    21    1  \n",
              "2                  0.0                       0.0    20    3  \n",
              "3                  1.0                       2.0    21    1  \n",
              "4                  6.0                       9.0     2    6  "
            ],
            "text/html": [
              "\n",
              "  <div id=\"df-0eace64f-092a-4bb7-86c6-1d1752f0c49c\" class=\"colab-df-container\">\n",
              "    <div>\n",
              "<style scoped>\n",
              "    .dataframe tbody tr th:only-of-type {\n",
              "        vertical-align: middle;\n",
              "    }\n",
              "\n",
              "    .dataframe tbody tr th {\n",
              "        vertical-align: top;\n",
              "    }\n",
              "\n",
              "    .dataframe thead th {\n",
              "        text-align: right;\n",
              "    }\n",
              "</style>\n",
              "<table border=\"1\" class=\"dataframe\">\n",
              "  <thead>\n",
              "    <tr style=\"text-align: right;\">\n",
              "      <th></th>\n",
              "      <th>market_id</th>\n",
              "      <th>store_primary_category</th>\n",
              "      <th>order_protocol</th>\n",
              "      <th>total_items</th>\n",
              "      <th>subtotal</th>\n",
              "      <th>num_distinct_items</th>\n",
              "      <th>min_item_price</th>\n",
              "      <th>max_item_price</th>\n",
              "      <th>total_onshift_partners</th>\n",
              "      <th>total_busy_partners</th>\n",
              "      <th>total_outstanding_orders</th>\n",
              "      <th>hour</th>\n",
              "      <th>day</th>\n",
              "    </tr>\n",
              "  </thead>\n",
              "  <tbody>\n",
              "    <tr>\n",
              "      <th>0</th>\n",
              "      <td>1.0</td>\n",
              "      <td>47.948328</td>\n",
              "      <td>1.0</td>\n",
              "      <td>4</td>\n",
              "      <td>3441</td>\n",
              "      <td>4</td>\n",
              "      <td>557</td>\n",
              "      <td>1239</td>\n",
              "      <td>33.0</td>\n",
              "      <td>14.0</td>\n",
              "      <td>21.0</td>\n",
              "      <td>22</td>\n",
              "      <td>4</td>\n",
              "    </tr>\n",
              "    <tr>\n",
              "      <th>1</th>\n",
              "      <td>2.0</td>\n",
              "      <td>44.546868</td>\n",
              "      <td>2.0</td>\n",
              "      <td>1</td>\n",
              "      <td>1900</td>\n",
              "      <td>1</td>\n",
              "      <td>1400</td>\n",
              "      <td>1400</td>\n",
              "      <td>1.0</td>\n",
              "      <td>2.0</td>\n",
              "      <td>2.0</td>\n",
              "      <td>21</td>\n",
              "      <td>1</td>\n",
              "    </tr>\n",
              "    <tr>\n",
              "      <th>2</th>\n",
              "      <td>3.0</td>\n",
              "      <td>47.948328</td>\n",
              "      <td>1.0</td>\n",
              "      <td>1</td>\n",
              "      <td>1900</td>\n",
              "      <td>1</td>\n",
              "      <td>1900</td>\n",
              "      <td>1900</td>\n",
              "      <td>1.0</td>\n",
              "      <td>0.0</td>\n",
              "      <td>0.0</td>\n",
              "      <td>20</td>\n",
              "      <td>3</td>\n",
              "    </tr>\n",
              "    <tr>\n",
              "      <th>3</th>\n",
              "      <td>3.0</td>\n",
              "      <td>47.948328</td>\n",
              "      <td>1.0</td>\n",
              "      <td>6</td>\n",
              "      <td>6900</td>\n",
              "      <td>5</td>\n",
              "      <td>600</td>\n",
              "      <td>1800</td>\n",
              "      <td>1.0</td>\n",
              "      <td>1.0</td>\n",
              "      <td>2.0</td>\n",
              "      <td>21</td>\n",
              "      <td>1</td>\n",
              "    </tr>\n",
              "    <tr>\n",
              "      <th>4</th>\n",
              "      <td>3.0</td>\n",
              "      <td>47.948328</td>\n",
              "      <td>1.0</td>\n",
              "      <td>3</td>\n",
              "      <td>3900</td>\n",
              "      <td>3</td>\n",
              "      <td>1100</td>\n",
              "      <td>1600</td>\n",
              "      <td>6.0</td>\n",
              "      <td>6.0</td>\n",
              "      <td>9.0</td>\n",
              "      <td>2</td>\n",
              "      <td>6</td>\n",
              "    </tr>\n",
              "  </tbody>\n",
              "</table>\n",
              "</div>\n",
              "    <div class=\"colab-df-buttons\">\n",
              "\n",
              "  <div class=\"colab-df-container\">\n",
              "    <button class=\"colab-df-convert\" onclick=\"convertToInteractive('df-0eace64f-092a-4bb7-86c6-1d1752f0c49c')\"\n",
              "            title=\"Convert this dataframe to an interactive table.\"\n",
              "            style=\"display:none;\">\n",
              "\n",
              "  <svg xmlns=\"http://www.w3.org/2000/svg\" height=\"24px\" viewBox=\"0 -960 960 960\">\n",
              "    <path d=\"M120-120v-720h720v720H120Zm60-500h600v-160H180v160Zm220 220h160v-160H400v160Zm0 220h160v-160H400v160ZM180-400h160v-160H180v160Zm440 0h160v-160H620v160ZM180-180h160v-160H180v160Zm440 0h160v-160H620v160Z\"/>\n",
              "  </svg>\n",
              "    </button>\n",
              "\n",
              "  <style>\n",
              "    .colab-df-container {\n",
              "      display:flex;\n",
              "      gap: 12px;\n",
              "    }\n",
              "\n",
              "    .colab-df-convert {\n",
              "      background-color: #E8F0FE;\n",
              "      border: none;\n",
              "      border-radius: 50%;\n",
              "      cursor: pointer;\n",
              "      display: none;\n",
              "      fill: #1967D2;\n",
              "      height: 32px;\n",
              "      padding: 0 0 0 0;\n",
              "      width: 32px;\n",
              "    }\n",
              "\n",
              "    .colab-df-convert:hover {\n",
              "      background-color: #E2EBFA;\n",
              "      box-shadow: 0px 1px 2px rgba(60, 64, 67, 0.3), 0px 1px 3px 1px rgba(60, 64, 67, 0.15);\n",
              "      fill: #174EA6;\n",
              "    }\n",
              "\n",
              "    .colab-df-buttons div {\n",
              "      margin-bottom: 4px;\n",
              "    }\n",
              "\n",
              "    [theme=dark] .colab-df-convert {\n",
              "      background-color: #3B4455;\n",
              "      fill: #D2E3FC;\n",
              "    }\n",
              "\n",
              "    [theme=dark] .colab-df-convert:hover {\n",
              "      background-color: #434B5C;\n",
              "      box-shadow: 0px 1px 3px 1px rgba(0, 0, 0, 0.15);\n",
              "      filter: drop-shadow(0px 1px 2px rgba(0, 0, 0, 0.3));\n",
              "      fill: #FFFFFF;\n",
              "    }\n",
              "  </style>\n",
              "\n",
              "    <script>\n",
              "      const buttonEl =\n",
              "        document.querySelector('#df-0eace64f-092a-4bb7-86c6-1d1752f0c49c button.colab-df-convert');\n",
              "      buttonEl.style.display =\n",
              "        google.colab.kernel.accessAllowed ? 'block' : 'none';\n",
              "\n",
              "      async function convertToInteractive(key) {\n",
              "        const element = document.querySelector('#df-0eace64f-092a-4bb7-86c6-1d1752f0c49c');\n",
              "        const dataTable =\n",
              "          await google.colab.kernel.invokeFunction('convertToInteractive',\n",
              "                                                    [key], {});\n",
              "        if (!dataTable) return;\n",
              "\n",
              "        const docLinkHtml = 'Like what you see? Visit the ' +\n",
              "          '<a target=\"_blank\" href=https://colab.research.google.com/notebooks/data_table.ipynb>data table notebook</a>'\n",
              "          + ' to learn more about interactive tables.';\n",
              "        element.innerHTML = '';\n",
              "        dataTable['output_type'] = 'display_data';\n",
              "        await google.colab.output.renderOutput(dataTable, element);\n",
              "        const docLink = document.createElement('div');\n",
              "        docLink.innerHTML = docLinkHtml;\n",
              "        element.appendChild(docLink);\n",
              "      }\n",
              "    </script>\n",
              "  </div>\n",
              "\n",
              "\n",
              "<div id=\"df-ca6c379b-f180-4324-b83b-4ad0db017dcd\">\n",
              "  <button class=\"colab-df-quickchart\" onclick=\"quickchart('df-ca6c379b-f180-4324-b83b-4ad0db017dcd')\"\n",
              "            title=\"Suggest charts\"\n",
              "            style=\"display:none;\">\n",
              "\n",
              "<svg xmlns=\"http://www.w3.org/2000/svg\" height=\"24px\"viewBox=\"0 0 24 24\"\n",
              "     width=\"24px\">\n",
              "    <g>\n",
              "        <path d=\"M19 3H5c-1.1 0-2 .9-2 2v14c0 1.1.9 2 2 2h14c1.1 0 2-.9 2-2V5c0-1.1-.9-2-2-2zM9 17H7v-7h2v7zm4 0h-2V7h2v10zm4 0h-2v-4h2v4z\"/>\n",
              "    </g>\n",
              "</svg>\n",
              "  </button>\n",
              "\n",
              "<style>\n",
              "  .colab-df-quickchart {\n",
              "      --bg-color: #E8F0FE;\n",
              "      --fill-color: #1967D2;\n",
              "      --hover-bg-color: #E2EBFA;\n",
              "      --hover-fill-color: #174EA6;\n",
              "      --disabled-fill-color: #AAA;\n",
              "      --disabled-bg-color: #DDD;\n",
              "  }\n",
              "\n",
              "  [theme=dark] .colab-df-quickchart {\n",
              "      --bg-color: #3B4455;\n",
              "      --fill-color: #D2E3FC;\n",
              "      --hover-bg-color: #434B5C;\n",
              "      --hover-fill-color: #FFFFFF;\n",
              "      --disabled-bg-color: #3B4455;\n",
              "      --disabled-fill-color: #666;\n",
              "  }\n",
              "\n",
              "  .colab-df-quickchart {\n",
              "    background-color: var(--bg-color);\n",
              "    border: none;\n",
              "    border-radius: 50%;\n",
              "    cursor: pointer;\n",
              "    display: none;\n",
              "    fill: var(--fill-color);\n",
              "    height: 32px;\n",
              "    padding: 0;\n",
              "    width: 32px;\n",
              "  }\n",
              "\n",
              "  .colab-df-quickchart:hover {\n",
              "    background-color: var(--hover-bg-color);\n",
              "    box-shadow: 0 1px 2px rgba(60, 64, 67, 0.3), 0 1px 3px 1px rgba(60, 64, 67, 0.15);\n",
              "    fill: var(--button-hover-fill-color);\n",
              "  }\n",
              "\n",
              "  .colab-df-quickchart-complete:disabled,\n",
              "  .colab-df-quickchart-complete:disabled:hover {\n",
              "    background-color: var(--disabled-bg-color);\n",
              "    fill: var(--disabled-fill-color);\n",
              "    box-shadow: none;\n",
              "  }\n",
              "\n",
              "  .colab-df-spinner {\n",
              "    border: 2px solid var(--fill-color);\n",
              "    border-color: transparent;\n",
              "    border-bottom-color: var(--fill-color);\n",
              "    animation:\n",
              "      spin 1s steps(1) infinite;\n",
              "  }\n",
              "\n",
              "  @keyframes spin {\n",
              "    0% {\n",
              "      border-color: transparent;\n",
              "      border-bottom-color: var(--fill-color);\n",
              "      border-left-color: var(--fill-color);\n",
              "    }\n",
              "    20% {\n",
              "      border-color: transparent;\n",
              "      border-left-color: var(--fill-color);\n",
              "      border-top-color: var(--fill-color);\n",
              "    }\n",
              "    30% {\n",
              "      border-color: transparent;\n",
              "      border-left-color: var(--fill-color);\n",
              "      border-top-color: var(--fill-color);\n",
              "      border-right-color: var(--fill-color);\n",
              "    }\n",
              "    40% {\n",
              "      border-color: transparent;\n",
              "      border-right-color: var(--fill-color);\n",
              "      border-top-color: var(--fill-color);\n",
              "    }\n",
              "    60% {\n",
              "      border-color: transparent;\n",
              "      border-right-color: var(--fill-color);\n",
              "    }\n",
              "    80% {\n",
              "      border-color: transparent;\n",
              "      border-right-color: var(--fill-color);\n",
              "      border-bottom-color: var(--fill-color);\n",
              "    }\n",
              "    90% {\n",
              "      border-color: transparent;\n",
              "      border-bottom-color: var(--fill-color);\n",
              "    }\n",
              "  }\n",
              "</style>\n",
              "\n",
              "  <script>\n",
              "    async function quickchart(key) {\n",
              "      const quickchartButtonEl =\n",
              "        document.querySelector('#' + key + ' button');\n",
              "      quickchartButtonEl.disabled = true;  // To prevent multiple clicks.\n",
              "      quickchartButtonEl.classList.add('colab-df-spinner');\n",
              "      try {\n",
              "        const charts = await google.colab.kernel.invokeFunction(\n",
              "            'suggestCharts', [key], {});\n",
              "      } catch (error) {\n",
              "        console.error('Error during call to suggestCharts:', error);\n",
              "      }\n",
              "      quickchartButtonEl.classList.remove('colab-df-spinner');\n",
              "      quickchartButtonEl.classList.add('colab-df-quickchart-complete');\n",
              "    }\n",
              "    (() => {\n",
              "      let quickchartButtonEl =\n",
              "        document.querySelector('#df-ca6c379b-f180-4324-b83b-4ad0db017dcd button');\n",
              "      quickchartButtonEl.style.display =\n",
              "        google.colab.kernel.accessAllowed ? 'block' : 'none';\n",
              "    })();\n",
              "  </script>\n",
              "</div>\n",
              "\n",
              "    </div>\n",
              "  </div>\n"
            ],
            "application/vnd.google.colaboratory.intrinsic+json": {
              "type": "dataframe",
              "variable_name": "X"
            }
          },
          "metadata": {},
          "execution_count": 39
        }
      ]
    },
    {
      "cell_type": "code",
      "source": [
        "# Split the data into a training set (80%) and a testing set (20%)\n",
        "X_train,X_test,y_train,y_test = train_test_split(X,y,test_size = 0.2,random_state=42)\n",
        "print(X_train.shape, y_train.shape)\n",
        "print(X_test.shape, y_test.shape)"
      ],
      "metadata": {
        "id": "SH_qY4WuFB0O",
        "outputId": "8d6575d4-516f-41e4-a645-2757990a369b",
        "execution": {
          "iopub.status.busy": "2023-10-10T10:40:37.706827Z",
          "iopub.execute_input": "2023-10-10T10:40:37.707297Z",
          "iopub.status.idle": "2023-10-10T10:40:37.798869Z",
          "shell.execute_reply.started": "2023-10-10T10:40:37.707264Z",
          "shell.execute_reply": "2023-10-10T10:40:37.797591Z"
        },
        "trusted": true,
        "colab": {
          "base_uri": "https://localhost:8080/"
        }
      },
      "execution_count": null,
      "outputs": [
        {
          "output_type": "stream",
          "name": "stdout",
          "text": [
            "(152914, 13) (152914,)\n",
            "(38229, 13) (38229,)\n"
          ]
        }
      ]
    },
    {
      "cell_type": "markdown",
      "source": [
        "##**8. Creating a baseline model using random forest**"
      ],
      "metadata": {
        "id": "64GhCLG9F4WR"
      }
    },
    {
      "cell_type": "code",
      "source": [
        "regressor=RandomForestRegressor()\n",
        "regressor.fit(X_train,y_train)"
      ],
      "metadata": {
        "id": "F1xyeqvMF1sD",
        "execution": {
          "iopub.status.busy": "2023-10-10T10:40:37.800746Z",
          "iopub.execute_input": "2023-10-10T10:40:37.801608Z",
          "iopub.status.idle": "2023-10-10T10:43:00.950214Z",
          "shell.execute_reply.started": "2023-10-10T10:40:37.801563Z",
          "shell.execute_reply": "2023-10-10T10:43:00.948923Z"
        },
        "trusted": true,
        "colab": {
          "base_uri": "https://localhost:8080/",
          "height": 75
        },
        "outputId": "3b25a676-7aef-44a4-b5cf-5a921d97f0a3"
      },
      "execution_count": null,
      "outputs": [
        {
          "output_type": "execute_result",
          "data": {
            "text/plain": [
              "RandomForestRegressor()"
            ],
            "text/html": [
              "<style>#sk-container-id-1 {color: black;}#sk-container-id-1 pre{padding: 0;}#sk-container-id-1 div.sk-toggleable {background-color: white;}#sk-container-id-1 label.sk-toggleable__label {cursor: pointer;display: block;width: 100%;margin-bottom: 0;padding: 0.3em;box-sizing: border-box;text-align: center;}#sk-container-id-1 label.sk-toggleable__label-arrow:before {content: \"▸\";float: left;margin-right: 0.25em;color: #696969;}#sk-container-id-1 label.sk-toggleable__label-arrow:hover:before {color: black;}#sk-container-id-1 div.sk-estimator:hover label.sk-toggleable__label-arrow:before {color: black;}#sk-container-id-1 div.sk-toggleable__content {max-height: 0;max-width: 0;overflow: hidden;text-align: left;background-color: #f0f8ff;}#sk-container-id-1 div.sk-toggleable__content pre {margin: 0.2em;color: black;border-radius: 0.25em;background-color: #f0f8ff;}#sk-container-id-1 input.sk-toggleable__control:checked~div.sk-toggleable__content {max-height: 200px;max-width: 100%;overflow: auto;}#sk-container-id-1 input.sk-toggleable__control:checked~label.sk-toggleable__label-arrow:before {content: \"▾\";}#sk-container-id-1 div.sk-estimator input.sk-toggleable__control:checked~label.sk-toggleable__label {background-color: #d4ebff;}#sk-container-id-1 div.sk-label input.sk-toggleable__control:checked~label.sk-toggleable__label {background-color: #d4ebff;}#sk-container-id-1 input.sk-hidden--visually {border: 0;clip: rect(1px 1px 1px 1px);clip: rect(1px, 1px, 1px, 1px);height: 1px;margin: -1px;overflow: hidden;padding: 0;position: absolute;width: 1px;}#sk-container-id-1 div.sk-estimator {font-family: monospace;background-color: #f0f8ff;border: 1px dotted black;border-radius: 0.25em;box-sizing: border-box;margin-bottom: 0.5em;}#sk-container-id-1 div.sk-estimator:hover {background-color: #d4ebff;}#sk-container-id-1 div.sk-parallel-item::after {content: \"\";width: 100%;border-bottom: 1px solid gray;flex-grow: 1;}#sk-container-id-1 div.sk-label:hover label.sk-toggleable__label {background-color: #d4ebff;}#sk-container-id-1 div.sk-serial::before {content: \"\";position: absolute;border-left: 1px solid gray;box-sizing: border-box;top: 0;bottom: 0;left: 50%;z-index: 0;}#sk-container-id-1 div.sk-serial {display: flex;flex-direction: column;align-items: center;background-color: white;padding-right: 0.2em;padding-left: 0.2em;position: relative;}#sk-container-id-1 div.sk-item {position: relative;z-index: 1;}#sk-container-id-1 div.sk-parallel {display: flex;align-items: stretch;justify-content: center;background-color: white;position: relative;}#sk-container-id-1 div.sk-item::before, #sk-container-id-1 div.sk-parallel-item::before {content: \"\";position: absolute;border-left: 1px solid gray;box-sizing: border-box;top: 0;bottom: 0;left: 50%;z-index: -1;}#sk-container-id-1 div.sk-parallel-item {display: flex;flex-direction: column;z-index: 1;position: relative;background-color: white;}#sk-container-id-1 div.sk-parallel-item:first-child::after {align-self: flex-end;width: 50%;}#sk-container-id-1 div.sk-parallel-item:last-child::after {align-self: flex-start;width: 50%;}#sk-container-id-1 div.sk-parallel-item:only-child::after {width: 0;}#sk-container-id-1 div.sk-dashed-wrapped {border: 1px dashed gray;margin: 0 0.4em 0.5em 0.4em;box-sizing: border-box;padding-bottom: 0.4em;background-color: white;}#sk-container-id-1 div.sk-label label {font-family: monospace;font-weight: bold;display: inline-block;line-height: 1.2em;}#sk-container-id-1 div.sk-label-container {text-align: center;}#sk-container-id-1 div.sk-container {/* jupyter's `normalize.less` sets `[hidden] { display: none; }` but bootstrap.min.css set `[hidden] { display: none !important; }` so we also need the `!important` here to be able to override the default hidden behavior on the sphinx rendered scikit-learn.org. See: https://github.com/scikit-learn/scikit-learn/issues/21755 */display: inline-block !important;position: relative;}#sk-container-id-1 div.sk-text-repr-fallback {display: none;}</style><div id=\"sk-container-id-1\" class=\"sk-top-container\"><div class=\"sk-text-repr-fallback\"><pre>RandomForestRegressor()</pre><b>In a Jupyter environment, please rerun this cell to show the HTML representation or trust the notebook. <br />On GitHub, the HTML representation is unable to render, please try loading this page with nbviewer.org.</b></div><div class=\"sk-container\" hidden><div class=\"sk-item\"><div class=\"sk-estimator sk-toggleable\"><input class=\"sk-toggleable__control sk-hidden--visually\" id=\"sk-estimator-id-1\" type=\"checkbox\" checked><label for=\"sk-estimator-id-1\" class=\"sk-toggleable__label sk-toggleable__label-arrow\">RandomForestRegressor</label><div class=\"sk-toggleable__content\"><pre>RandomForestRegressor()</pre></div></div></div></div></div>"
            ]
          },
          "metadata": {},
          "execution_count": 41
        }
      ]
    },
    {
      "cell_type": "markdown",
      "source": [
        "##**9. Checking its various metrics like MSE, RMSE, MAE**"
      ],
      "metadata": {
        "id": "7SFEjYZPxDpc"
      }
    },
    {
      "cell_type": "code",
      "source": [
        "y_hat=regressor.predict(X_test)\n",
        "mse=mean_squared_error(y_test,y_hat)\n",
        "rmse=mse**.5\n",
        "print(\"Mean Squared Error : \",mse)\n",
        "print(\"Root Mean Squared Error : \",rmse)\n",
        "mae=mean_absolute_error(y_test,y_hat)\n",
        "print(\"Mean Absolute Error : \",mae)\n",
        "r2_score_RF = r2_score(y_test,y_hat)\n",
        "print(\"r2_score : \",r2_score_RF)"
      ],
      "metadata": {
        "id": "afFdmsK7Gmd9",
        "execution": {
          "iopub.status.busy": "2023-10-10T10:43:00.952303Z",
          "iopub.execute_input": "2023-10-10T10:43:00.952691Z",
          "iopub.status.idle": "2023-10-10T10:43:03.965058Z",
          "shell.execute_reply.started": "2023-10-10T10:43:00.95266Z",
          "shell.execute_reply": "2023-10-10T10:43:03.963929Z"
        },
        "trusted": true,
        "colab": {
          "base_uri": "https://localhost:8080/"
        },
        "outputId": "2855d7b9-b03b-48e3-c0e0-8c435191d6e8"
      },
      "execution_count": null,
      "outputs": [
        {
          "output_type": "stream",
          "name": "stdout",
          "text": [
            "Mean Squared Error :  161.6647558698952\n",
            "Root Mean Squared Error :  12.714745607753827\n",
            "Mean Absolute Error :  10.07611095253439\n",
            "r2_score :  0.2575515240749121\n"
          ]
        }
      ]
    },
    {
      "cell_type": "code",
      "source": [
        "sorted_idx=regressor.feature_importances_.argsort()\n",
        "plt.barh(df.columns[sorted_idx],regressor.feature_importances_[sorted_idx])\n",
        "plt.xlabel(\"Random Forest Feature Importance\")\n",
        "plt.show()"
      ],
      "metadata": {
        "id": "Zysql0-INPfD",
        "execution": {
          "iopub.status.busy": "2023-10-10T10:43:03.966506Z",
          "iopub.execute_input": "2023-10-10T10:43:03.967087Z",
          "iopub.status.idle": "2023-10-10T10:43:04.962477Z",
          "shell.execute_reply.started": "2023-10-10T10:43:03.967056Z",
          "shell.execute_reply": "2023-10-10T10:43:04.960934Z"
        },
        "trusted": true,
        "colab": {
          "base_uri": "https://localhost:8080/",
          "height": 449
        },
        "outputId": "4da2b8f9-3f79-4dd5-a435-b0412d608f00"
      },
      "execution_count": null,
      "outputs": [
        {
          "output_type": "display_data",
          "data": {
            "text/plain": [
              "<Figure size 640x480 with 1 Axes>"
            ],
            "image/png": "[encoded data removed]"
          },
          "metadata": {}
        }
      ]
    },
    {
      "cell_type": "markdown",
      "source": [
        "##**10. Scaling the data for neural networks.**"
      ],
      "metadata": {
        "id": "C-A6ZpZuqoLr"
      }
    },
    {
      "cell_type": "markdown",
      "source": [
        "**Feature scaling** involves adjusting all variables or features so that they are on the same scale. This is done to prevent one feature from overpowering others, which could result in it being ignored by the Machine Learning Model. Two main techniques of feature scaling are Normalization and Standardization. We will be using MinMaxScaler\n",
        "\n"
      ],
      "metadata": {
        "id": "ct3C6u96HUVJ"
      }
    },
    {
      "cell_type": "code",
      "source": [
        "# Split the data into training and test sets\n",
        "#X_train, X_test, y_train, y_test = train_test_split(X, y, test_size=0.2, random_state=42)"
      ],
      "metadata": {
        "id": "kKFmIbckstv8",
        "execution": {
          "iopub.status.busy": "2023-10-10T10:43:04.964231Z",
          "iopub.execute_input": "2023-10-10T10:43:04.964604Z",
          "iopub.status.idle": "2023-10-10T10:43:04.969724Z",
          "shell.execute_reply.started": "2023-10-10T10:43:04.964573Z",
          "shell.execute_reply": "2023-10-10T10:43:04.968593Z"
        },
        "trusted": true
      },
      "execution_count": null,
      "outputs": []
    },
    {
      "cell_type": "code",
      "source": [
        "# Scale the data\n",
        "from sklearn import preprocessing\n",
        "scaler=preprocessing.MinMaxScaler()\n",
        "x_scaled=scaler.fit_transform(X)\n",
        "X_train,X_test,y_train,y_test=train_test_split(x_scaled,y,test_size=0.2,random_state=42)"
      ],
      "metadata": {
        "id": "_s_M7RnkHdqW",
        "execution": {
          "iopub.status.busy": "2023-10-10T10:43:04.971517Z",
          "iopub.execute_input": "2023-10-10T10:43:04.972258Z",
          "iopub.status.idle": "2023-10-10T10:43:05.10052Z",
          "shell.execute_reply.started": "2023-10-10T10:43:04.972214Z",
          "shell.execute_reply": "2023-10-10T10:43:05.099437Z"
        },
        "trusted": true
      },
      "execution_count": null,
      "outputs": []
    },
    {
      "cell_type": "markdown",
      "source": [
        "##**11. Creating a simple neural network**"
      ],
      "metadata": {
        "id": "M1UTldwu7PMQ"
      }
    },
    {
      "cell_type": "code",
      "source": [
        "from tensorflow.keras import Sequential\n",
        "from tensorflow.keras.layers import Dense\n",
        "from tensorflow.keras.optimizers import Adam\n",
        "## Create a simple neural network model\n",
        "model = Sequential([\n",
        "    Dense(64, activation='relu', kernel_initializer='normal', input_shape=(X_train.shape[1],)),\n",
        "    Dense(516, activation='relu'),\n",
        "    Dense(1024,activation='relu'),\n",
        "    Dense(256,activation='relu'),\n",
        "    Dense(1,activation='linear') # Since it's a regression task, use 1 output neuron\n",
        "])"
      ],
      "metadata": {
        "id": "83eIYDiCZ-XY",
        "execution": {
          "iopub.status.busy": "2023-10-10T10:43:05.102167Z",
          "iopub.execute_input": "2023-10-10T10:43:05.102913Z",
          "iopub.status.idle": "2023-10-10T10:43:16.713628Z",
          "shell.execute_reply.started": "2023-10-10T10:43:05.10287Z",
          "shell.execute_reply": "2023-10-10T10:43:16.712299Z"
        },
        "trusted": true
      },
      "execution_count": null,
      "outputs": []
    },
    {
      "cell_type": "markdown",
      "source": [
        "##**12. Training the neural network for required amount of epochs**"
      ],
      "metadata": {
        "id": "nbXPs4zH6tS3"
      }
    },
    {
      "cell_type": "code",
      "source": [
        "##Compile the model with appropriate loss function, optimizer, and metrics\n",
        "\n",
        "adam=Adam(learning_rate=0.01)\n",
        "model.compile(loss='mse',optimizer=adam,metrics=['mse','mae'])\n",
        "\n",
        "##Training the neural network for required amount of epochs\n",
        "history=model.fit(X_train,y_train,epochs=30,batch_size=512,verbose=1,validation_split=0.2)"
      ],
      "metadata": {
        "id": "Kaf766EzaEcN",
        "execution": {
          "iopub.status.busy": "2023-10-10T10:43:16.715293Z",
          "iopub.execute_input": "2023-10-10T10:43:16.715786Z",
          "iopub.status.idle": "2023-10-10T10:47:46.531878Z",
          "shell.execute_reply.started": "2023-10-10T10:43:16.715738Z",
          "shell.execute_reply": "2023-10-10T10:47:46.530796Z"
        },
        "trusted": true,
        "colab": {
          "base_uri": "https://localhost:8080/"
        },
        "outputId": "e7d67701-00bc-4abf-86f2-ad1880c228ad"
      },
      "execution_count": null,
      "outputs": [
        {
          "output_type": "stream",
          "name": "stdout",
          "text": [
            "Epoch 1/30\n",
            "\u001b[1m239/239\u001b[0m \u001b[32m━━━━━━━━━━━━━━━━━━━━\u001b[0m\u001b[37m\u001b[0m \u001b[1m22s\u001b[0m 83ms/step - loss: 1056.6550 - mae: 23.2629 - mse: 1056.6550 - val_loss: 180.8199 - val_mae: 10.6587 - val_mse: 180.8199\n",
            "Epoch 2/30\n",
            "\u001b[1m239/239\u001b[0m \u001b[32m━━━━━━━━━━━━━━━━━━━━\u001b[0m\u001b[37m\u001b[0m \u001b[1m18s\u001b[0m 74ms/step - loss: 180.9793 - mae: 10.7018 - mse: 180.9793 - val_loss: 179.3925 - val_mae: 10.8299 - val_mse: 179.3925\n",
            "Epoch 3/30\n",
            "\u001b[1m239/239\u001b[0m \u001b[32m━━━━━━━━━━━━━━━━━━━━\u001b[0m\u001b[37m\u001b[0m \u001b[1m21s\u001b[0m 75ms/step - loss: 179.2734 - mae: 10.6506 - mse: 179.2734 - val_loss: 176.8808 - val_mae: 10.4451 - val_mse: 176.8808\n",
            "Epoch 4/30\n",
            "\u001b[1m239/239\u001b[0m \u001b[32m━━━━━━━━━━━━━━━━━━━━\u001b[0m\u001b[37m\u001b[0m \u001b[1m21s\u001b[0m 78ms/step - loss: 175.6955 - mae: 10.5224 - mse: 175.6955 - val_loss: 172.8187 - val_mae: 10.4988 - val_mse: 172.8187\n",
            "Epoch 5/30\n",
            "\u001b[1m239/239\u001b[0m \u001b[32m━━━━━━━━━━━━━━━━━━━━\u001b[0m\u001b[37m\u001b[0m \u001b[1m20s\u001b[0m 74ms/step - loss: 175.2808 - mae: 10.5171 - mse: 175.2808 - val_loss: 173.6677 - val_mae: 10.6232 - val_mse: 173.6677\n",
            "Epoch 6/30\n",
            "\u001b[1m239/239\u001b[0m \u001b[32m━━━━━━━━━━━━━━━━━━━━\u001b[0m\u001b[37m\u001b[0m \u001b[1m22s\u001b[0m 82ms/step - loss: 175.8454 - mae: 10.5248 - mse: 175.8454 - val_loss: 172.9615 - val_mae: 10.3270 - val_mse: 172.9615\n",
            "Epoch 7/30\n",
            "\u001b[1m239/239\u001b[0m \u001b[32m━━━━━━━━━━━━━━━━━━━━\u001b[0m\u001b[37m\u001b[0m \u001b[1m18s\u001b[0m 74ms/step - loss: 176.1388 - mae: 10.5276 - mse: 176.1388 - val_loss: 174.1521 - val_mae: 10.3982 - val_mse: 174.1521\n",
            "Epoch 8/30\n",
            "\u001b[1m239/239\u001b[0m \u001b[32m━━━━━━━━━━━━━━━━━━━━\u001b[0m\u001b[37m\u001b[0m \u001b[1m21s\u001b[0m 76ms/step - loss: 174.2083 - mae: 10.4764 - mse: 174.2083 - val_loss: 173.3427 - val_mae: 10.5883 - val_mse: 173.3427\n",
            "Epoch 9/30\n",
            "\u001b[1m239/239\u001b[0m \u001b[32m━━━━━━━━━━━━━━━━━━━━\u001b[0m\u001b[37m\u001b[0m \u001b[1m21s\u001b[0m 77ms/step - loss: 173.7741 - mae: 10.4602 - mse: 173.7741 - val_loss: 171.5880 - val_mae: 10.3142 - val_mse: 171.5880\n",
            "Epoch 10/30\n",
            "\u001b[1m239/239\u001b[0m \u001b[32m━━━━━━━━━━━━━━━━━━━━\u001b[0m\u001b[37m\u001b[0m \u001b[1m18s\u001b[0m 74ms/step - loss: 174.9337 - mae: 10.4942 - mse: 174.9337 - val_loss: 173.4273 - val_mae: 10.3105 - val_mse: 173.4273\n",
            "Epoch 11/30\n",
            "\u001b[1m239/239\u001b[0m \u001b[32m━━━━━━━━━━━━━━━━━━━━\u001b[0m\u001b[37m\u001b[0m \u001b[1m22s\u001b[0m 80ms/step - loss: 173.0956 - mae: 10.4204 - mse: 173.0956 - val_loss: 170.6589 - val_mae: 10.3939 - val_mse: 170.6589\n",
            "Epoch 12/30\n",
            "\u001b[1m239/239\u001b[0m \u001b[32m━━━━━━━━━━━━━━━━━━━━\u001b[0m\u001b[37m\u001b[0m \u001b[1m20s\u001b[0m 84ms/step - loss: 172.4157 - mae: 10.4154 - mse: 172.4157 - val_loss: 173.3326 - val_mae: 10.6268 - val_mse: 173.3326\n",
            "Epoch 13/30\n",
            "\u001b[1m239/239\u001b[0m \u001b[32m━━━━━━━━━━━━━━━━━━━━\u001b[0m\u001b[37m\u001b[0m \u001b[1m20s\u001b[0m 82ms/step - loss: 172.8305 - mae: 10.4487 - mse: 172.8305 - val_loss: 170.5764 - val_mae: 10.3209 - val_mse: 170.5764\n",
            "Epoch 14/30\n",
            "\u001b[1m239/239\u001b[0m \u001b[32m━━━━━━━━━━━━━━━━━━━━\u001b[0m\u001b[37m\u001b[0m \u001b[1m19s\u001b[0m 74ms/step - loss: 171.2140 - mae: 10.3743 - mse: 171.2140 - val_loss: 175.4588 - val_mae: 10.3384 - val_mse: 175.4588\n",
            "Epoch 15/30\n",
            "\u001b[1m239/239\u001b[0m \u001b[32m━━━━━━━━━━━━━━━━━━━━\u001b[0m\u001b[37m\u001b[0m \u001b[1m19s\u001b[0m 80ms/step - loss: 173.3969 - mae: 10.4261 - mse: 173.3969 - val_loss: 169.9730 - val_mae: 10.3799 - val_mse: 169.9730\n",
            "Epoch 16/30\n",
            "\u001b[1m239/239\u001b[0m \u001b[32m━━━━━━━━━━━━━━━━━━━━\u001b[0m\u001b[37m\u001b[0m \u001b[1m19s\u001b[0m 75ms/step - loss: 171.7011 - mae: 10.3970 - mse: 171.7011 - val_loss: 173.9609 - val_mae: 10.3016 - val_mse: 173.9609\n",
            "Epoch 17/30\n",
            "\u001b[1m239/239\u001b[0m \u001b[32m━━━━━━━━━━━━━━━━━━━━\u001b[0m\u001b[37m\u001b[0m \u001b[1m18s\u001b[0m 74ms/step - loss: 172.2868 - mae: 10.4225 - mse: 172.2868 - val_loss: 171.2268 - val_mae: 10.4829 - val_mse: 171.2268\n",
            "Epoch 18/30\n",
            "\u001b[1m239/239\u001b[0m \u001b[32m━━━━━━━━━━━━━━━━━━━━\u001b[0m\u001b[37m\u001b[0m \u001b[1m21s\u001b[0m 78ms/step - loss: 173.8709 - mae: 10.4742 - mse: 173.8709 - val_loss: 174.4287 - val_mae: 10.3041 - val_mse: 174.4287\n",
            "Epoch 19/30\n",
            "\u001b[1m239/239\u001b[0m \u001b[32m━━━━━━━━━━━━━━━━━━━━\u001b[0m\u001b[37m\u001b[0m \u001b[1m20s\u001b[0m 75ms/step - loss: 176.6262 - mae: 10.5487 - mse: 176.6262 - val_loss: 171.2881 - val_mae: 10.4363 - val_mse: 171.2881\n",
            "Epoch 20/30\n",
            "\u001b[1m239/239\u001b[0m \u001b[32m━━━━━━━━━━━━━━━━━━━━\u001b[0m\u001b[37m\u001b[0m \u001b[1m18s\u001b[0m 74ms/step - loss: 172.5047 - mae: 10.4145 - mse: 172.5047 - val_loss: 175.9825 - val_mae: 10.7394 - val_mse: 175.9825\n",
            "Epoch 21/30\n",
            "\u001b[1m239/239\u001b[0m \u001b[32m━━━━━━━━━━━━━━━━━━━━\u001b[0m\u001b[37m\u001b[0m \u001b[1m23s\u001b[0m 85ms/step - loss: 172.9142 - mae: 10.4352 - mse: 172.9142 - val_loss: 171.9967 - val_mae: 10.2955 - val_mse: 171.9967\n",
            "Epoch 22/30\n",
            "\u001b[1m239/239\u001b[0m \u001b[32m━━━━━━━━━━━━━━━━━━━━\u001b[0m\u001b[37m\u001b[0m \u001b[1m18s\u001b[0m 74ms/step - loss: 171.6524 - mae: 10.3998 - mse: 171.6524 - val_loss: 171.6925 - val_mae: 10.5475 - val_mse: 171.6925\n",
            "Epoch 23/30\n",
            "\u001b[1m239/239\u001b[0m \u001b[32m━━━━━━━━━━━━━━━━━━━━\u001b[0m\u001b[37m\u001b[0m \u001b[1m21s\u001b[0m 86ms/step - loss: 174.4784 - mae: 10.4870 - mse: 174.4784 - val_loss: 175.6695 - val_mae: 10.3578 - val_mse: 175.6695\n",
            "Epoch 24/30\n",
            "\u001b[1m239/239\u001b[0m \u001b[32m━━━━━━━━━━━━━━━━━━━━\u001b[0m\u001b[37m\u001b[0m \u001b[1m20s\u001b[0m 83ms/step - loss: 172.3802 - mae: 10.4156 - mse: 172.3802 - val_loss: 170.1579 - val_mae: 10.3275 - val_mse: 170.1579\n",
            "Epoch 25/30\n",
            "\u001b[1m239/239\u001b[0m \u001b[32m━━━━━━━━━━━━━━━━━━━━\u001b[0m\u001b[37m\u001b[0m \u001b[1m19s\u001b[0m 75ms/step - loss: 173.3102 - mae: 10.4364 - mse: 173.3102 - val_loss: 172.8738 - val_mae: 10.3000 - val_mse: 172.8738\n",
            "Epoch 26/30\n",
            "\u001b[1m239/239\u001b[0m \u001b[32m━━━━━━━━━━━━━━━━━━━━\u001b[0m\u001b[37m\u001b[0m \u001b[1m18s\u001b[0m 76ms/step - loss: 171.6398 - mae: 10.3883 - mse: 171.6398 - val_loss: 174.5101 - val_mae: 10.2826 - val_mse: 174.5101\n",
            "Epoch 27/30\n",
            "\u001b[1m239/239\u001b[0m \u001b[32m━━━━━━━━━━━━━━━━━━━━\u001b[0m\u001b[37m\u001b[0m \u001b[1m23s\u001b[0m 86ms/step - loss: 172.0993 - mae: 10.4028 - mse: 172.0993 - val_loss: 172.5390 - val_mae: 10.2967 - val_mse: 172.5390\n",
            "Epoch 28/30\n",
            "\u001b[1m239/239\u001b[0m \u001b[32m━━━━━━━━━━━━━━━━━━━━\u001b[0m\u001b[37m\u001b[0m \u001b[1m40s\u001b[0m 82ms/step - loss: 171.1508 - mae: 10.3683 - mse: 171.1508 - val_loss: 170.0876 - val_mae: 10.4327 - val_mse: 170.0876\n",
            "Epoch 29/30\n",
            "\u001b[1m239/239\u001b[0m \u001b[32m━━━━━━━━━━━━━━━━━━━━\u001b[0m\u001b[37m\u001b[0m \u001b[1m18s\u001b[0m 74ms/step - loss: 169.8415 - mae: 10.3305 - mse: 169.8415 - val_loss: 168.5612 - val_mae: 10.2064 - val_mse: 168.5612\n",
            "Epoch 30/30\n",
            "\u001b[1m239/239\u001b[0m \u001b[32m━━━━━━━━━━━━━━━━━━━━\u001b[0m\u001b[37m\u001b[0m \u001b[1m21s\u001b[0m 75ms/step - loss: 170.4279 - mae: 10.3450 - mse: 170.4279 - val_loss: 166.8652 - val_mae: 10.3247 - val_mse: 166.8652\n"
          ]
        }
      ]
    },
    {
      "cell_type": "markdown",
      "source": [
        "##**13. Plotting the losses and checking the accuracy of the model**"
      ],
      "metadata": {
        "id": "39sufR3huFQG"
      }
    },
    {
      "cell_type": "code",
      "source": [
        "def plot_history(history,key):\n",
        "    plt.plot(history.history[key])\n",
        "    plt.plot(history.history['val_'+key])\n",
        "    plt.xlabel(\"Epochs\")\n",
        "    plt.ylabel(key)\n",
        "    plt.legend([key,'val_'+key])\n",
        "    plt.show()\n",
        "#plot the history\n",
        "plot_history(history,'loss')"
      ],
      "metadata": {
        "id": "gDUxt_EJaNO6",
        "execution": {
          "iopub.status.busy": "2023-10-10T10:47:46.534239Z",
          "iopub.execute_input": "2023-10-10T10:47:46.535085Z",
          "iopub.status.idle": "2023-10-10T10:47:46.799374Z",
          "shell.execute_reply.started": "2023-10-10T10:47:46.535044Z",
          "shell.execute_reply": "2023-10-10T10:47:46.798189Z"
        },
        "trusted": true,
        "colab": {
          "base_uri": "https://localhost:8080/",
          "height": 449
        },
        "outputId": "71bf93b4-826d-4abf-c16a-c8b79285253d"
      },
      "execution_count": null,
      "outputs": [
        {
          "output_type": "display_data",
          "data": {
            "text/plain": [
              "<Figure size 640x480 with 1 Axes>"
            ],
            "image/png": "[encoded data removed]"
          },
          "metadata": {}
        }
      ]
    },
    {
      "cell_type": "markdown",
      "source": [
        "**Inference:** val loss is mostly below training loss so our model is not overfitting"
      ],
      "metadata": {
        "id": "ldHM_CDd6atl"
      }
    },
    {
      "cell_type": "code",
      "source": [
        "z= model.predict(X_test)"
      ],
      "metadata": {
        "id": "Tw0rmsbOaJVe",
        "execution": {
          "iopub.status.busy": "2023-10-10T10:47:46.800682Z",
          "iopub.execute_input": "2023-10-10T10:47:46.801035Z",
          "iopub.status.idle": "2023-10-10T10:47:52.064113Z",
          "shell.execute_reply.started": "2023-10-10T10:47:46.801007Z",
          "shell.execute_reply": "2023-10-10T10:47:52.062431Z"
        },
        "trusted": true,
        "colab": {
          "base_uri": "https://localhost:8080/"
        },
        "outputId": "0e4735f6-50e1-4e60-8fcf-5bfa62a199c5"
      },
      "execution_count": null,
      "outputs": [
        {
          "output_type": "stream",
          "name": "stdout",
          "text": [
            "\u001b[1m1195/1195\u001b[0m \u001b[32m━━━━━━━━━━━━━━━━━━━━\u001b[0m\u001b[37m\u001b[0m \u001b[1m6s\u001b[0m 5ms/step\n"
          ]
        }
      ]
    },
    {
      "cell_type": "code",
      "source": [
        "mse=mean_squared_error(y_test,z)\n",
        "rmse=mse**.5\n",
        "print(\"Mean Squared Error : \",mse)\n",
        "print(\"Root Mean Squared Error : \",rmse)\n",
        "mae=mean_absolute_error(y_test,z)\n",
        "print(\"Mean Absolute Error : \",mae)\n",
        "r2_score_RF = r2_score(y_test,z)\n",
        "print(\"r2_score : \",r2_score_RF)\n"
      ],
      "metadata": {
        "id": "AbewqVD1aSA5",
        "execution": {
          "iopub.status.busy": "2023-10-10T10:47:52.066247Z",
          "iopub.execute_input": "2023-10-10T10:47:52.066558Z",
          "iopub.status.idle": "2023-10-10T10:47:52.078574Z",
          "shell.execute_reply.started": "2023-10-10T10:47:52.066532Z",
          "shell.execute_reply": "2023-10-10T10:47:52.076692Z"
        },
        "trusted": true,
        "colab": {
          "base_uri": "https://localhost:8080/"
        },
        "outputId": "055915f6-eafd-4d28-d718-8a6474e80dc2"
      },
      "execution_count": null,
      "outputs": [
        {
          "output_type": "stream",
          "name": "stdout",
          "text": [
            "Mean Squared Error :  168.0711447705424\n",
            "Root Mean Squared Error :  12.964225575426493\n",
            "Mean Absolute Error :  10.344196471263913\n",
            "r2_score :  0.2281300608136385\n"
          ]
        }
      ]
    },
    {
      "cell_type": "markdown",
      "source": [
        "##**14. Comparing the results of neural network and random forest**"
      ],
      "metadata": {
        "id": "SabIb5d56jC0"
      }
    },
    {
      "cell_type": "markdown",
      "source": [
        "Here's a comparison of the results between the Random Forest Regressor and the Simple Neural Network model:\n",
        "\n",
        "**Random Forest Regressor:**\n",
        "```\n",
        "Mean Squared Error :  161.6647558698952\n",
        "Root Mean Squared Error :  12.714745607753827\n",
        "Mean Absolute Error :  10.07611095253439\n",
        "r2_score :  0.2575515240749121\n",
        "```\n",
        "\n",
        "**Simple Neural Network Model:**\n",
        "\n",
        "```\n",
        "\n",
        "Mean Squared Error :  168.0711447705424\n",
        "Root Mean Squared Error :  12.964225575426493\n",
        "Mean Absolute Error :  10.344196471263913\n",
        "r2_score :  0.2281300608136385\n",
        "\n",
        "```\n",
        "\n",
        "\n",
        "**Inference :** All the metrics are more or less same for both the model. Although, In this specific scenario, the Random Forest Regressor appears to be negligibly better-performing model."
      ],
      "metadata": {
        "id": "bTwTHqUU8By6"
      }
    }
  ]
}